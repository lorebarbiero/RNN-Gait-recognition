{
 "cells": [
  {
   "cell_type": "markdown",
   "id": "99fdaa37",
   "metadata": {
    "id": "99fdaa37"
   },
   "source": [
    "# Gait classification"
   ]
  },
  {
   "cell_type": "markdown",
   "id": "c_lGtIPPIFGB",
   "metadata": {
    "id": "c_lGtIPPIFGB"
   },
   "source": [
    "## Libraries and directory"
   ]
  },
  {
   "cell_type": "code",
   "execution_count": 1,
   "id": "cabf903e",
   "metadata": {
    "executionInfo": {
     "elapsed": 11001,
     "status": "ok",
     "timestamp": 1707732003483,
     "user": {
      "displayName": "francesco zane",
      "userId": "08919801149381164577"
     },
     "user_tz": -60
    },
    "id": "cabf903e"
   },
   "outputs": [],
   "source": [
    "#import packages, there might be some extras\n",
    "import time\n",
    "import os\n",
    "import platform\n",
    "\n",
    "import pandas as pd\n",
    "import tensorflow as tf\n",
    "import numpy as np\n",
    "from sklearn.model_selection import train_test_split\n",
    "from sklearn.metrics import precision_recall_fscore_support, roc_curve, auc, accuracy_score, precision_recall_curve\n",
    "from sklearn.preprocessing import LabelEncoder\n",
    "import keras.utils\n",
    "\n",
    "import matplotlib.pyplot as plt\n",
    "from matplotlib.animation import FuncAnimation\n",
    "import seaborn as sns\n",
    "import imageio\n",
    "from tqdm import tqdm\n",
    "\n",
    "plt.rcParams['figure.figsize'] = (10, 6)\n",
    "plt.rcParams['axes.grid'] = True\n",
    "plt.rcParams['legend.fontsize'] = 'large'\n",
    "\n"
   ]
  },
  {
   "cell_type": "code",
   "execution_count": 2,
   "id": "NecsxbnlTncN",
   "metadata": {
    "colab": {
     "base_uri": "https://localhost:8080/"
    },
    "executionInfo": {
     "elapsed": 17837,
     "status": "ok",
     "timestamp": 1707732021309,
     "user": {
      "displayName": "francesco zane",
      "userId": "08919801149381164577"
     },
     "user_tz": -60
    },
    "id": "NecsxbnlTncN",
    "outputId": "e8c52287-2fee-400f-fa99-3a8d55d6a11c"
   },
   "outputs": [
    {
     "name": "stdout",
     "output_type": "stream",
     "text": [
      "Mounted at /content/drive\n"
     ]
    }
   ],
   "source": [
    "#from google.colab import drive\n",
    "#drive.mount('/content/drive')"
   ]
  },
  {
   "cell_type": "code",
   "execution_count": 3,
   "id": "ef543057",
   "metadata": {
    "colab": {
     "base_uri": "https://localhost:8080/"
    },
    "executionInfo": {
     "elapsed": 3,
     "status": "ok",
     "timestamp": 1707732021310,
     "user": {
      "displayName": "francesco zane",
      "userId": "08919801149381164577"
     },
     "user_tz": -60
    },
    "id": "ef543057",
    "outputId": "3220684b-8061-4516-c412-55d021d3916c"
   },
   "outputs": [
    {
     "name": "stdout",
     "output_type": "stream",
     "text": [
      "root directory is /content/drive/MyDrive/Human_Data/Progetto\n"
     ]
    }
   ],
   "source": [
    "if platform.system() == \"Darwin\":\n",
    "    root_directory = '/Users/lorenzobarbiero/Documents/GitHub/CNN-Gait-recognition'\n",
    "else:\n",
    "    from google.colab import drive\n",
    "    drive.mount('/content/drive')\n",
    "    root_directory = '/content/drive/MyDrive/Human_Data/Progetto'\n",
    "\n",
    "print('root directory is ' + root_directory)"
   ]
  },
  {
   "cell_type": "markdown",
   "id": "a89958bf",
   "metadata": {
    "id": "a89958bf"
   },
   "source": [
    "## Train/Test Split\n"
   ]
  },
  {
   "cell_type": "code",
   "execution_count": 4,
   "id": "be31b58f",
   "metadata": {
    "colab": {
     "base_uri": "https://localhost:8080/",
     "height": 0
    },
    "executionInfo": {
     "elapsed": 1013,
     "status": "ok",
     "timestamp": 1707732024670,
     "user": {
      "displayName": "francesco zane",
      "userId": "08919801149381164577"
     },
     "user_tz": -60
    },
    "id": "be31b58f",
    "outputId": "85a078ed-4f7d-4eb2-a7a1-b59b44b32ff3"
   },
   "outputs": [
    {
     "data": {
      "text/html": [
       "\n",
       "  <div id=\"df-043e9f8d-d045-44e4-8294-009f2c5e9168\" class=\"colab-df-container\">\n",
       "    <div>\n",
       "<style scoped>\n",
       "    .dataframe tbody tr th:only-of-type {\n",
       "        vertical-align: middle;\n",
       "    }\n",
       "\n",
       "    .dataframe tbody tr th {\n",
       "        vertical-align: top;\n",
       "    }\n",
       "\n",
       "    .dataframe thead th {\n",
       "        text-align: right;\n",
       "    }\n",
       "</style>\n",
       "<table border=\"1\" class=\"dataframe\">\n",
       "  <thead>\n",
       "    <tr style=\"text-align: right;\">\n",
       "      <th></th>\n",
       "      <th>Name_file</th>\n",
       "      <th>Path_from_Root</th>\n",
       "      <th>Type_of_data</th>\n",
       "      <th>Type_of_gait</th>\n",
       "      <th>Label</th>\n",
       "    </tr>\n",
       "  </thead>\n",
       "  <tbody>\n",
       "    <tr>\n",
       "      <th>1</th>\n",
       "      <td>Sbj9_antalgic_T2_S.csv</td>\n",
       "      <td>subject9/antalgic/trial2/</td>\n",
       "      <td>skeleton</td>\n",
       "      <td>antalgic</td>\n",
       "      <td>0</td>\n",
       "    </tr>\n",
       "    <tr>\n",
       "      <th>2</th>\n",
       "      <td>Sbj9_antalgic_T2_P.csv</td>\n",
       "      <td>subject9/antalgic/trial2/</td>\n",
       "      <td>pressure</td>\n",
       "      <td>antalgic</td>\n",
       "      <td>0</td>\n",
       "    </tr>\n",
       "    <tr>\n",
       "      <th>3</th>\n",
       "      <td>Sbj9_antalgic_T8_S.csv</td>\n",
       "      <td>subject9/antalgic/trial8/</td>\n",
       "      <td>skeleton</td>\n",
       "      <td>antalgic</td>\n",
       "      <td>0</td>\n",
       "    </tr>\n",
       "    <tr>\n",
       "      <th>4</th>\n",
       "      <td>Sbj9_antalgic_T8_P.csv</td>\n",
       "      <td>subject9/antalgic/trial8/</td>\n",
       "      <td>pressure</td>\n",
       "      <td>antalgic</td>\n",
       "      <td>0</td>\n",
       "    </tr>\n",
       "    <tr>\n",
       "      <th>5</th>\n",
       "      <td>Sbj9_antalgic_T14_P.csv</td>\n",
       "      <td>subject9/antalgic/trial14/</td>\n",
       "      <td>pressure</td>\n",
       "      <td>antalgic</td>\n",
       "      <td>0</td>\n",
       "    </tr>\n",
       "    <tr>\n",
       "      <th>...</th>\n",
       "      <td>...</td>\n",
       "      <td>...</td>\n",
       "      <td>...</td>\n",
       "      <td>...</td>\n",
       "      <td>...</td>\n",
       "    </tr>\n",
       "    <tr>\n",
       "      <th>2876</th>\n",
       "      <td>Sbj8_normal_T17_S.csv</td>\n",
       "      <td>subject8/normal/trial17/</td>\n",
       "      <td>skeleton</td>\n",
       "      <td>normal</td>\n",
       "      <td>2</td>\n",
       "    </tr>\n",
       "    <tr>\n",
       "      <th>2877</th>\n",
       "      <td>Sbj8_normal_T10_P.csv</td>\n",
       "      <td>subject8/normal/trial10/</td>\n",
       "      <td>pressure</td>\n",
       "      <td>normal</td>\n",
       "      <td>2</td>\n",
       "    </tr>\n",
       "    <tr>\n",
       "      <th>2878</th>\n",
       "      <td>Sbj8_normal_T10_S.csv</td>\n",
       "      <td>subject8/normal/trial10/</td>\n",
       "      <td>skeleton</td>\n",
       "      <td>normal</td>\n",
       "      <td>2</td>\n",
       "    </tr>\n",
       "    <tr>\n",
       "      <th>2879</th>\n",
       "      <td>Sbj8_normal_T6_P.csv</td>\n",
       "      <td>subject8/normal/trial6/</td>\n",
       "      <td>pressure</td>\n",
       "      <td>normal</td>\n",
       "      <td>2</td>\n",
       "    </tr>\n",
       "    <tr>\n",
       "      <th>2880</th>\n",
       "      <td>Sbj8_normal_T6_S.csv</td>\n",
       "      <td>subject8/normal/trial6/</td>\n",
       "      <td>skeleton</td>\n",
       "      <td>normal</td>\n",
       "      <td>2</td>\n",
       "    </tr>\n",
       "  </tbody>\n",
       "</table>\n",
       "<p>2880 rows × 5 columns</p>\n",
       "</div>\n",
       "    <div class=\"colab-df-buttons\">\n",
       "\n",
       "  <div class=\"colab-df-container\">\n",
       "    <button class=\"colab-df-convert\" onclick=\"convertToInteractive('df-043e9f8d-d045-44e4-8294-009f2c5e9168')\"\n",
       "            title=\"Convert this dataframe to an interactive table.\"\n",
       "            style=\"display:none;\">\n",
       "\n",
       "  <svg xmlns=\"http://www.w3.org/2000/svg\" height=\"24px\" viewBox=\"0 -960 960 960\">\n",
       "    <path d=\"M120-120v-720h720v720H120Zm60-500h600v-160H180v160Zm220 220h160v-160H400v160Zm0 220h160v-160H400v160ZM180-400h160v-160H180v160Zm440 0h160v-160H620v160ZM180-180h160v-160H180v160Zm440 0h160v-160H620v160Z\"/>\n",
       "  </svg>\n",
       "    </button>\n",
       "\n",
       "  <style>\n",
       "    .colab-df-container {\n",
       "      display:flex;\n",
       "      gap: 12px;\n",
       "    }\n",
       "\n",
       "    .colab-df-convert {\n",
       "      background-color: #E8F0FE;\n",
       "      border: none;\n",
       "      border-radius: 50%;\n",
       "      cursor: pointer;\n",
       "      display: none;\n",
       "      fill: #1967D2;\n",
       "      height: 32px;\n",
       "      padding: 0 0 0 0;\n",
       "      width: 32px;\n",
       "    }\n",
       "\n",
       "    .colab-df-convert:hover {\n",
       "      background-color: #E2EBFA;\n",
       "      box-shadow: 0px 1px 2px rgba(60, 64, 67, 0.3), 0px 1px 3px 1px rgba(60, 64, 67, 0.15);\n",
       "      fill: #174EA6;\n",
       "    }\n",
       "\n",
       "    .colab-df-buttons div {\n",
       "      margin-bottom: 4px;\n",
       "    }\n",
       "\n",
       "    [theme=dark] .colab-df-convert {\n",
       "      background-color: #3B4455;\n",
       "      fill: #D2E3FC;\n",
       "    }\n",
       "\n",
       "    [theme=dark] .colab-df-convert:hover {\n",
       "      background-color: #434B5C;\n",
       "      box-shadow: 0px 1px 3px 1px rgba(0, 0, 0, 0.15);\n",
       "      filter: drop-shadow(0px 1px 2px rgba(0, 0, 0, 0.3));\n",
       "      fill: #FFFFFF;\n",
       "    }\n",
       "  </style>\n",
       "\n",
       "    <script>\n",
       "      const buttonEl =\n",
       "        document.querySelector('#df-043e9f8d-d045-44e4-8294-009f2c5e9168 button.colab-df-convert');\n",
       "      buttonEl.style.display =\n",
       "        google.colab.kernel.accessAllowed ? 'block' : 'none';\n",
       "\n",
       "      async function convertToInteractive(key) {\n",
       "        const element = document.querySelector('#df-043e9f8d-d045-44e4-8294-009f2c5e9168');\n",
       "        const dataTable =\n",
       "          await google.colab.kernel.invokeFunction('convertToInteractive',\n",
       "                                                    [key], {});\n",
       "        if (!dataTable) return;\n",
       "\n",
       "        const docLinkHtml = 'Like what you see? Visit the ' +\n",
       "          '<a target=\"_blank\" href=https://colab.research.google.com/notebooks/data_table.ipynb>data table notebook</a>'\n",
       "          + ' to learn more about interactive tables.';\n",
       "        element.innerHTML = '';\n",
       "        dataTable['output_type'] = 'display_data';\n",
       "        await google.colab.output.renderOutput(dataTable, element);\n",
       "        const docLink = document.createElement('div');\n",
       "        docLink.innerHTML = docLinkHtml;\n",
       "        element.appendChild(docLink);\n",
       "      }\n",
       "    </script>\n",
       "  </div>\n",
       "\n",
       "\n",
       "<div id=\"df-eda7996c-3e9c-4e21-82d8-a9b52ff0507c\">\n",
       "  <button class=\"colab-df-quickchart\" onclick=\"quickchart('df-eda7996c-3e9c-4e21-82d8-a9b52ff0507c')\"\n",
       "            title=\"Suggest charts\"\n",
       "            style=\"display:none;\">\n",
       "\n",
       "<svg xmlns=\"http://www.w3.org/2000/svg\" height=\"24px\"viewBox=\"0 0 24 24\"\n",
       "     width=\"24px\">\n",
       "    <g>\n",
       "        <path d=\"M19 3H5c-1.1 0-2 .9-2 2v14c0 1.1.9 2 2 2h14c1.1 0 2-.9 2-2V5c0-1.1-.9-2-2-2zM9 17H7v-7h2v7zm4 0h-2V7h2v10zm4 0h-2v-4h2v4z\"/>\n",
       "    </g>\n",
       "</svg>\n",
       "  </button>\n",
       "\n",
       "<style>\n",
       "  .colab-df-quickchart {\n",
       "      --bg-color: #E8F0FE;\n",
       "      --fill-color: #1967D2;\n",
       "      --hover-bg-color: #E2EBFA;\n",
       "      --hover-fill-color: #174EA6;\n",
       "      --disabled-fill-color: #AAA;\n",
       "      --disabled-bg-color: #DDD;\n",
       "  }\n",
       "\n",
       "  [theme=dark] .colab-df-quickchart {\n",
       "      --bg-color: #3B4455;\n",
       "      --fill-color: #D2E3FC;\n",
       "      --hover-bg-color: #434B5C;\n",
       "      --hover-fill-color: #FFFFFF;\n",
       "      --disabled-bg-color: #3B4455;\n",
       "      --disabled-fill-color: #666;\n",
       "  }\n",
       "\n",
       "  .colab-df-quickchart {\n",
       "    background-color: var(--bg-color);\n",
       "    border: none;\n",
       "    border-radius: 50%;\n",
       "    cursor: pointer;\n",
       "    display: none;\n",
       "    fill: var(--fill-color);\n",
       "    height: 32px;\n",
       "    padding: 0;\n",
       "    width: 32px;\n",
       "  }\n",
       "\n",
       "  .colab-df-quickchart:hover {\n",
       "    background-color: var(--hover-bg-color);\n",
       "    box-shadow: 0 1px 2px rgba(60, 64, 67, 0.3), 0 1px 3px 1px rgba(60, 64, 67, 0.15);\n",
       "    fill: var(--button-hover-fill-color);\n",
       "  }\n",
       "\n",
       "  .colab-df-quickchart-complete:disabled,\n",
       "  .colab-df-quickchart-complete:disabled:hover {\n",
       "    background-color: var(--disabled-bg-color);\n",
       "    fill: var(--disabled-fill-color);\n",
       "    box-shadow: none;\n",
       "  }\n",
       "\n",
       "  .colab-df-spinner {\n",
       "    border: 2px solid var(--fill-color);\n",
       "    border-color: transparent;\n",
       "    border-bottom-color: var(--fill-color);\n",
       "    animation:\n",
       "      spin 1s steps(1) infinite;\n",
       "  }\n",
       "\n",
       "  @keyframes spin {\n",
       "    0% {\n",
       "      border-color: transparent;\n",
       "      border-bottom-color: var(--fill-color);\n",
       "      border-left-color: var(--fill-color);\n",
       "    }\n",
       "    20% {\n",
       "      border-color: transparent;\n",
       "      border-left-color: var(--fill-color);\n",
       "      border-top-color: var(--fill-color);\n",
       "    }\n",
       "    30% {\n",
       "      border-color: transparent;\n",
       "      border-left-color: var(--fill-color);\n",
       "      border-top-color: var(--fill-color);\n",
       "      border-right-color: var(--fill-color);\n",
       "    }\n",
       "    40% {\n",
       "      border-color: transparent;\n",
       "      border-right-color: var(--fill-color);\n",
       "      border-top-color: var(--fill-color);\n",
       "    }\n",
       "    60% {\n",
       "      border-color: transparent;\n",
       "      border-right-color: var(--fill-color);\n",
       "    }\n",
       "    80% {\n",
       "      border-color: transparent;\n",
       "      border-right-color: var(--fill-color);\n",
       "      border-bottom-color: var(--fill-color);\n",
       "    }\n",
       "    90% {\n",
       "      border-color: transparent;\n",
       "      border-bottom-color: var(--fill-color);\n",
       "    }\n",
       "  }\n",
       "</style>\n",
       "\n",
       "  <script>\n",
       "    async function quickchart(key) {\n",
       "      const quickchartButtonEl =\n",
       "        document.querySelector('#' + key + ' button');\n",
       "      quickchartButtonEl.disabled = true;  // To prevent multiple clicks.\n",
       "      quickchartButtonEl.classList.add('colab-df-spinner');\n",
       "      try {\n",
       "        const charts = await google.colab.kernel.invokeFunction(\n",
       "            'suggestCharts', [key], {});\n",
       "      } catch (error) {\n",
       "        console.error('Error during call to suggestCharts:', error);\n",
       "      }\n",
       "      quickchartButtonEl.classList.remove('colab-df-spinner');\n",
       "      quickchartButtonEl.classList.add('colab-df-quickchart-complete');\n",
       "    }\n",
       "    (() => {\n",
       "      let quickchartButtonEl =\n",
       "        document.querySelector('#df-eda7996c-3e9c-4e21-82d8-a9b52ff0507c button');\n",
       "      quickchartButtonEl.style.display =\n",
       "        google.colab.kernel.accessAllowed ? 'block' : 'none';\n",
       "    })();\n",
       "  </script>\n",
       "</div>\n",
       "    </div>\n",
       "  </div>\n"
      ],
      "text/plain": [
       "                    Name_file              Path_from_Root Type_of_data  \\\n",
       "1      Sbj9_antalgic_T2_S.csv   subject9/antalgic/trial2/     skeleton   \n",
       "2      Sbj9_antalgic_T2_P.csv   subject9/antalgic/trial2/     pressure   \n",
       "3      Sbj9_antalgic_T8_S.csv   subject9/antalgic/trial8/     skeleton   \n",
       "4      Sbj9_antalgic_T8_P.csv   subject9/antalgic/trial8/     pressure   \n",
       "5     Sbj9_antalgic_T14_P.csv  subject9/antalgic/trial14/     pressure   \n",
       "...                       ...                         ...          ...   \n",
       "2876    Sbj8_normal_T17_S.csv    subject8/normal/trial17/     skeleton   \n",
       "2877    Sbj8_normal_T10_P.csv    subject8/normal/trial10/     pressure   \n",
       "2878    Sbj8_normal_T10_S.csv    subject8/normal/trial10/     skeleton   \n",
       "2879     Sbj8_normal_T6_P.csv     subject8/normal/trial6/     pressure   \n",
       "2880     Sbj8_normal_T6_S.csv     subject8/normal/trial6/     skeleton   \n",
       "\n",
       "     Type_of_gait  Label  \n",
       "1        antalgic      0  \n",
       "2        antalgic      0  \n",
       "3        antalgic      0  \n",
       "4        antalgic      0  \n",
       "5        antalgic      0  \n",
       "...           ...    ...  \n",
       "2876       normal      2  \n",
       "2877       normal      2  \n",
       "2878       normal      2  \n",
       "2879       normal      2  \n",
       "2880       normal      2  \n",
       "\n",
       "[2880 rows x 5 columns]"
      ]
     },
     "execution_count": 4,
     "metadata": {},
     "output_type": "execute_result"
    }
   ],
   "source": [
    "# Create a dataframe containing all the files and the labels from the reference file\n",
    "reference_df = pd.read_csv(root_directory+'/reference_document.csv',\n",
    "                           header=None, names=['Name_file', 'Path_from_Root', 'Type_of_data', 'Type_of_gait', 'Label'])\n",
    "\n",
    "reference_df = reference_df.iloc[1:]\n",
    "reference_df['Label'] = reference_df['Label'].astype(int)\n",
    "\n",
    "reference_df"
   ]
  },
  {
   "cell_type": "code",
   "execution_count": 5,
   "id": "GgZszNwnPmJY",
   "metadata": {
    "colab": {
     "base_uri": "https://localhost:8080/",
     "height": 0
    },
    "executionInfo": {
     "elapsed": 3,
     "status": "ok",
     "timestamp": 1707732024670,
     "user": {
      "displayName": "francesco zane",
      "userId": "08919801149381164577"
     },
     "user_tz": -60
    },
    "id": "GgZszNwnPmJY",
    "outputId": "2d6e6402-44c9-4076-d863-a0ea9cdbecc6"
   },
   "outputs": [
    {
     "data": {
      "text/html": [
       "\n",
       "  <div id=\"df-49e4c426-2c92-48a3-92de-eb8d279a3902\" class=\"colab-df-container\">\n",
       "    <div>\n",
       "<style scoped>\n",
       "    .dataframe tbody tr th:only-of-type {\n",
       "        vertical-align: middle;\n",
       "    }\n",
       "\n",
       "    .dataframe tbody tr th {\n",
       "        vertical-align: top;\n",
       "    }\n",
       "\n",
       "    .dataframe thead th {\n",
       "        text-align: right;\n",
       "    }\n",
       "</style>\n",
       "<table border=\"1\" class=\"dataframe\">\n",
       "  <thead>\n",
       "    <tr style=\"text-align: right;\">\n",
       "      <th></th>\n",
       "      <th>Name_file</th>\n",
       "      <th>Type_of_data</th>\n",
       "      <th>Type_of_gait</th>\n",
       "      <th>Label</th>\n",
       "    </tr>\n",
       "    <tr>\n",
       "      <th>Complete_path</th>\n",
       "      <th></th>\n",
       "      <th></th>\n",
       "      <th></th>\n",
       "      <th></th>\n",
       "    </tr>\n",
       "  </thead>\n",
       "  <tbody>\n",
       "    <tr>\n",
       "      <th>/content/drive/MyDrive/Human_Data/Progetto/dataset/subject9/antalgic/trial2/Sbj9_antalgic_T2_S.csv</th>\n",
       "      <td>Sbj9_antalgic_T2_S.csv</td>\n",
       "      <td>skeleton</td>\n",
       "      <td>antalgic</td>\n",
       "      <td>0</td>\n",
       "    </tr>\n",
       "    <tr>\n",
       "      <th>/content/drive/MyDrive/Human_Data/Progetto/dataset/subject9/antalgic/trial2/Sbj9_antalgic_T2_P.csv</th>\n",
       "      <td>Sbj9_antalgic_T2_P.csv</td>\n",
       "      <td>pressure</td>\n",
       "      <td>antalgic</td>\n",
       "      <td>0</td>\n",
       "    </tr>\n",
       "    <tr>\n",
       "      <th>/content/drive/MyDrive/Human_Data/Progetto/dataset/subject9/antalgic/trial8/Sbj9_antalgic_T8_S.csv</th>\n",
       "      <td>Sbj9_antalgic_T8_S.csv</td>\n",
       "      <td>skeleton</td>\n",
       "      <td>antalgic</td>\n",
       "      <td>0</td>\n",
       "    </tr>\n",
       "    <tr>\n",
       "      <th>/content/drive/MyDrive/Human_Data/Progetto/dataset/subject9/antalgic/trial8/Sbj9_antalgic_T8_P.csv</th>\n",
       "      <td>Sbj9_antalgic_T8_P.csv</td>\n",
       "      <td>pressure</td>\n",
       "      <td>antalgic</td>\n",
       "      <td>0</td>\n",
       "    </tr>\n",
       "    <tr>\n",
       "      <th>/content/drive/MyDrive/Human_Data/Progetto/dataset/subject9/antalgic/trial14/Sbj9_antalgic_T14_P.csv</th>\n",
       "      <td>Sbj9_antalgic_T14_P.csv</td>\n",
       "      <td>pressure</td>\n",
       "      <td>antalgic</td>\n",
       "      <td>0</td>\n",
       "    </tr>\n",
       "    <tr>\n",
       "      <th>...</th>\n",
       "      <td>...</td>\n",
       "      <td>...</td>\n",
       "      <td>...</td>\n",
       "      <td>...</td>\n",
       "    </tr>\n",
       "    <tr>\n",
       "      <th>/content/drive/MyDrive/Human_Data/Progetto/dataset/subject8/normal/trial17/Sbj8_normal_T17_S.csv</th>\n",
       "      <td>Sbj8_normal_T17_S.csv</td>\n",
       "      <td>skeleton</td>\n",
       "      <td>normal</td>\n",
       "      <td>2</td>\n",
       "    </tr>\n",
       "    <tr>\n",
       "      <th>/content/drive/MyDrive/Human_Data/Progetto/dataset/subject8/normal/trial10/Sbj8_normal_T10_P.csv</th>\n",
       "      <td>Sbj8_normal_T10_P.csv</td>\n",
       "      <td>pressure</td>\n",
       "      <td>normal</td>\n",
       "      <td>2</td>\n",
       "    </tr>\n",
       "    <tr>\n",
       "      <th>/content/drive/MyDrive/Human_Data/Progetto/dataset/subject8/normal/trial10/Sbj8_normal_T10_S.csv</th>\n",
       "      <td>Sbj8_normal_T10_S.csv</td>\n",
       "      <td>skeleton</td>\n",
       "      <td>normal</td>\n",
       "      <td>2</td>\n",
       "    </tr>\n",
       "    <tr>\n",
       "      <th>/content/drive/MyDrive/Human_Data/Progetto/dataset/subject8/normal/trial6/Sbj8_normal_T6_P.csv</th>\n",
       "      <td>Sbj8_normal_T6_P.csv</td>\n",
       "      <td>pressure</td>\n",
       "      <td>normal</td>\n",
       "      <td>2</td>\n",
       "    </tr>\n",
       "    <tr>\n",
       "      <th>/content/drive/MyDrive/Human_Data/Progetto/dataset/subject8/normal/trial6/Sbj8_normal_T6_S.csv</th>\n",
       "      <td>Sbj8_normal_T6_S.csv</td>\n",
       "      <td>skeleton</td>\n",
       "      <td>normal</td>\n",
       "      <td>2</td>\n",
       "    </tr>\n",
       "  </tbody>\n",
       "</table>\n",
       "<p>2880 rows × 4 columns</p>\n",
       "</div>\n",
       "    <div class=\"colab-df-buttons\">\n",
       "\n",
       "  <div class=\"colab-df-container\">\n",
       "    <button class=\"colab-df-convert\" onclick=\"convertToInteractive('df-49e4c426-2c92-48a3-92de-eb8d279a3902')\"\n",
       "            title=\"Convert this dataframe to an interactive table.\"\n",
       "            style=\"display:none;\">\n",
       "\n",
       "  <svg xmlns=\"http://www.w3.org/2000/svg\" height=\"24px\" viewBox=\"0 -960 960 960\">\n",
       "    <path d=\"M120-120v-720h720v720H120Zm60-500h600v-160H180v160Zm220 220h160v-160H400v160Zm0 220h160v-160H400v160ZM180-400h160v-160H180v160Zm440 0h160v-160H620v160ZM180-180h160v-160H180v160Zm440 0h160v-160H620v160Z\"/>\n",
       "  </svg>\n",
       "    </button>\n",
       "\n",
       "  <style>\n",
       "    .colab-df-container {\n",
       "      display:flex;\n",
       "      gap: 12px;\n",
       "    }\n",
       "\n",
       "    .colab-df-convert {\n",
       "      background-color: #E8F0FE;\n",
       "      border: none;\n",
       "      border-radius: 50%;\n",
       "      cursor: pointer;\n",
       "      display: none;\n",
       "      fill: #1967D2;\n",
       "      height: 32px;\n",
       "      padding: 0 0 0 0;\n",
       "      width: 32px;\n",
       "    }\n",
       "\n",
       "    .colab-df-convert:hover {\n",
       "      background-color: #E2EBFA;\n",
       "      box-shadow: 0px 1px 2px rgba(60, 64, 67, 0.3), 0px 1px 3px 1px rgba(60, 64, 67, 0.15);\n",
       "      fill: #174EA6;\n",
       "    }\n",
       "\n",
       "    .colab-df-buttons div {\n",
       "      margin-bottom: 4px;\n",
       "    }\n",
       "\n",
       "    [theme=dark] .colab-df-convert {\n",
       "      background-color: #3B4455;\n",
       "      fill: #D2E3FC;\n",
       "    }\n",
       "\n",
       "    [theme=dark] .colab-df-convert:hover {\n",
       "      background-color: #434B5C;\n",
       "      box-shadow: 0px 1px 3px 1px rgba(0, 0, 0, 0.15);\n",
       "      filter: drop-shadow(0px 1px 2px rgba(0, 0, 0, 0.3));\n",
       "      fill: #FFFFFF;\n",
       "    }\n",
       "  </style>\n",
       "\n",
       "    <script>\n",
       "      const buttonEl =\n",
       "        document.querySelector('#df-49e4c426-2c92-48a3-92de-eb8d279a3902 button.colab-df-convert');\n",
       "      buttonEl.style.display =\n",
       "        google.colab.kernel.accessAllowed ? 'block' : 'none';\n",
       "\n",
       "      async function convertToInteractive(key) {\n",
       "        const element = document.querySelector('#df-49e4c426-2c92-48a3-92de-eb8d279a3902');\n",
       "        const dataTable =\n",
       "          await google.colab.kernel.invokeFunction('convertToInteractive',\n",
       "                                                    [key], {});\n",
       "        if (!dataTable) return;\n",
       "\n",
       "        const docLinkHtml = 'Like what you see? Visit the ' +\n",
       "          '<a target=\"_blank\" href=https://colab.research.google.com/notebooks/data_table.ipynb>data table notebook</a>'\n",
       "          + ' to learn more about interactive tables.';\n",
       "        element.innerHTML = '';\n",
       "        dataTable['output_type'] = 'display_data';\n",
       "        await google.colab.output.renderOutput(dataTable, element);\n",
       "        const docLink = document.createElement('div');\n",
       "        docLink.innerHTML = docLinkHtml;\n",
       "        element.appendChild(docLink);\n",
       "      }\n",
       "    </script>\n",
       "  </div>\n",
       "\n",
       "\n",
       "<div id=\"df-87f25c7e-5295-46af-91df-d198108e64fa\">\n",
       "  <button class=\"colab-df-quickchart\" onclick=\"quickchart('df-87f25c7e-5295-46af-91df-d198108e64fa')\"\n",
       "            title=\"Suggest charts\"\n",
       "            style=\"display:none;\">\n",
       "\n",
       "<svg xmlns=\"http://www.w3.org/2000/svg\" height=\"24px\"viewBox=\"0 0 24 24\"\n",
       "     width=\"24px\">\n",
       "    <g>\n",
       "        <path d=\"M19 3H5c-1.1 0-2 .9-2 2v14c0 1.1.9 2 2 2h14c1.1 0 2-.9 2-2V5c0-1.1-.9-2-2-2zM9 17H7v-7h2v7zm4 0h-2V7h2v10zm4 0h-2v-4h2v4z\"/>\n",
       "    </g>\n",
       "</svg>\n",
       "  </button>\n",
       "\n",
       "<style>\n",
       "  .colab-df-quickchart {\n",
       "      --bg-color: #E8F0FE;\n",
       "      --fill-color: #1967D2;\n",
       "      --hover-bg-color: #E2EBFA;\n",
       "      --hover-fill-color: #174EA6;\n",
       "      --disabled-fill-color: #AAA;\n",
       "      --disabled-bg-color: #DDD;\n",
       "  }\n",
       "\n",
       "  [theme=dark] .colab-df-quickchart {\n",
       "      --bg-color: #3B4455;\n",
       "      --fill-color: #D2E3FC;\n",
       "      --hover-bg-color: #434B5C;\n",
       "      --hover-fill-color: #FFFFFF;\n",
       "      --disabled-bg-color: #3B4455;\n",
       "      --disabled-fill-color: #666;\n",
       "  }\n",
       "\n",
       "  .colab-df-quickchart {\n",
       "    background-color: var(--bg-color);\n",
       "    border: none;\n",
       "    border-radius: 50%;\n",
       "    cursor: pointer;\n",
       "    display: none;\n",
       "    fill: var(--fill-color);\n",
       "    height: 32px;\n",
       "    padding: 0;\n",
       "    width: 32px;\n",
       "  }\n",
       "\n",
       "  .colab-df-quickchart:hover {\n",
       "    background-color: var(--hover-bg-color);\n",
       "    box-shadow: 0 1px 2px rgba(60, 64, 67, 0.3), 0 1px 3px 1px rgba(60, 64, 67, 0.15);\n",
       "    fill: var(--button-hover-fill-color);\n",
       "  }\n",
       "\n",
       "  .colab-df-quickchart-complete:disabled,\n",
       "  .colab-df-quickchart-complete:disabled:hover {\n",
       "    background-color: var(--disabled-bg-color);\n",
       "    fill: var(--disabled-fill-color);\n",
       "    box-shadow: none;\n",
       "  }\n",
       "\n",
       "  .colab-df-spinner {\n",
       "    border: 2px solid var(--fill-color);\n",
       "    border-color: transparent;\n",
       "    border-bottom-color: var(--fill-color);\n",
       "    animation:\n",
       "      spin 1s steps(1) infinite;\n",
       "  }\n",
       "\n",
       "  @keyframes spin {\n",
       "    0% {\n",
       "      border-color: transparent;\n",
       "      border-bottom-color: var(--fill-color);\n",
       "      border-left-color: var(--fill-color);\n",
       "    }\n",
       "    20% {\n",
       "      border-color: transparent;\n",
       "      border-left-color: var(--fill-color);\n",
       "      border-top-color: var(--fill-color);\n",
       "    }\n",
       "    30% {\n",
       "      border-color: transparent;\n",
       "      border-left-color: var(--fill-color);\n",
       "      border-top-color: var(--fill-color);\n",
       "      border-right-color: var(--fill-color);\n",
       "    }\n",
       "    40% {\n",
       "      border-color: transparent;\n",
       "      border-right-color: var(--fill-color);\n",
       "      border-top-color: var(--fill-color);\n",
       "    }\n",
       "    60% {\n",
       "      border-color: transparent;\n",
       "      border-right-color: var(--fill-color);\n",
       "    }\n",
       "    80% {\n",
       "      border-color: transparent;\n",
       "      border-right-color: var(--fill-color);\n",
       "      border-bottom-color: var(--fill-color);\n",
       "    }\n",
       "    90% {\n",
       "      border-color: transparent;\n",
       "      border-bottom-color: var(--fill-color);\n",
       "    }\n",
       "  }\n",
       "</style>\n",
       "\n",
       "  <script>\n",
       "    async function quickchart(key) {\n",
       "      const quickchartButtonEl =\n",
       "        document.querySelector('#' + key + ' button');\n",
       "      quickchartButtonEl.disabled = true;  // To prevent multiple clicks.\n",
       "      quickchartButtonEl.classList.add('colab-df-spinner');\n",
       "      try {\n",
       "        const charts = await google.colab.kernel.invokeFunction(\n",
       "            'suggestCharts', [key], {});\n",
       "      } catch (error) {\n",
       "        console.error('Error during call to suggestCharts:', error);\n",
       "      }\n",
       "      quickchartButtonEl.classList.remove('colab-df-spinner');\n",
       "      quickchartButtonEl.classList.add('colab-df-quickchart-complete');\n",
       "    }\n",
       "    (() => {\n",
       "      let quickchartButtonEl =\n",
       "        document.querySelector('#df-87f25c7e-5295-46af-91df-d198108e64fa button');\n",
       "      quickchartButtonEl.style.display =\n",
       "        google.colab.kernel.accessAllowed ? 'block' : 'none';\n",
       "    })();\n",
       "  </script>\n",
       "</div>\n",
       "    </div>\n",
       "  </div>\n"
      ],
      "text/plain": [
       "                                                                  Name_file  \\\n",
       "Complete_path                                                                 \n",
       "/content/drive/MyDrive/Human_Data/Progetto/data...   Sbj9_antalgic_T2_S.csv   \n",
       "/content/drive/MyDrive/Human_Data/Progetto/data...   Sbj9_antalgic_T2_P.csv   \n",
       "/content/drive/MyDrive/Human_Data/Progetto/data...   Sbj9_antalgic_T8_S.csv   \n",
       "/content/drive/MyDrive/Human_Data/Progetto/data...   Sbj9_antalgic_T8_P.csv   \n",
       "/content/drive/MyDrive/Human_Data/Progetto/data...  Sbj9_antalgic_T14_P.csv   \n",
       "...                                                                     ...   \n",
       "/content/drive/MyDrive/Human_Data/Progetto/data...    Sbj8_normal_T17_S.csv   \n",
       "/content/drive/MyDrive/Human_Data/Progetto/data...    Sbj8_normal_T10_P.csv   \n",
       "/content/drive/MyDrive/Human_Data/Progetto/data...    Sbj8_normal_T10_S.csv   \n",
       "/content/drive/MyDrive/Human_Data/Progetto/data...     Sbj8_normal_T6_P.csv   \n",
       "/content/drive/MyDrive/Human_Data/Progetto/data...     Sbj8_normal_T6_S.csv   \n",
       "\n",
       "                                                   Type_of_data Type_of_gait  \\\n",
       "Complete_path                                                                  \n",
       "/content/drive/MyDrive/Human_Data/Progetto/data...     skeleton     antalgic   \n",
       "/content/drive/MyDrive/Human_Data/Progetto/data...     pressure     antalgic   \n",
       "/content/drive/MyDrive/Human_Data/Progetto/data...     skeleton     antalgic   \n",
       "/content/drive/MyDrive/Human_Data/Progetto/data...     pressure     antalgic   \n",
       "/content/drive/MyDrive/Human_Data/Progetto/data...     pressure     antalgic   \n",
       "...                                                         ...          ...   \n",
       "/content/drive/MyDrive/Human_Data/Progetto/data...     skeleton       normal   \n",
       "/content/drive/MyDrive/Human_Data/Progetto/data...     pressure       normal   \n",
       "/content/drive/MyDrive/Human_Data/Progetto/data...     skeleton       normal   \n",
       "/content/drive/MyDrive/Human_Data/Progetto/data...     pressure       normal   \n",
       "/content/drive/MyDrive/Human_Data/Progetto/data...     skeleton       normal   \n",
       "\n",
       "                                                    Label  \n",
       "Complete_path                                              \n",
       "/content/drive/MyDrive/Human_Data/Progetto/data...      0  \n",
       "/content/drive/MyDrive/Human_Data/Progetto/data...      0  \n",
       "/content/drive/MyDrive/Human_Data/Progetto/data...      0  \n",
       "/content/drive/MyDrive/Human_Data/Progetto/data...      0  \n",
       "/content/drive/MyDrive/Human_Data/Progetto/data...      0  \n",
       "...                                                   ...  \n",
       "/content/drive/MyDrive/Human_Data/Progetto/data...      2  \n",
       "/content/drive/MyDrive/Human_Data/Progetto/data...      2  \n",
       "/content/drive/MyDrive/Human_Data/Progetto/data...      2  \n",
       "/content/drive/MyDrive/Human_Data/Progetto/data...      2  \n",
       "/content/drive/MyDrive/Human_Data/Progetto/data...      2  \n",
       "\n",
       "[2880 rows x 4 columns]"
      ]
     },
     "execution_count": 5,
     "metadata": {},
     "output_type": "execute_result"
    }
   ],
   "source": [
    "def complete_path(row):\n",
    "  complete_path = root_directory + '/dataset/' + row['Path_from_Root'] + row['Name_file']\n",
    "  return complete_path\n",
    "\n",
    "reference_df['Complete_path'] = reference_df.apply(complete_path, axis=1)\n",
    "reference_df.set_index('Complete_path', inplace=True)\n",
    "reference_df = reference_df.drop(columns=['Path_from_Root'])\n",
    "reference_df"
   ]
  },
  {
   "cell_type": "code",
   "execution_count": 6,
   "id": "y8kBXOWQT8ol",
   "metadata": {
    "colab": {
     "base_uri": "https://localhost:8080/"
    },
    "executionInfo": {
     "elapsed": 2,
     "status": "ok",
     "timestamp": 1707732024670,
     "user": {
      "displayName": "francesco zane",
      "userId": "08919801149381164577"
     },
     "user_tz": -60
    },
    "id": "y8kBXOWQT8ol",
    "outputId": "354e141f-5f6c-4fbf-cfa4-0a18044eec80"
   },
   "outputs": [
    {
     "name": "stdout",
     "output_type": "stream",
     "text": [
      "Train Skelly\n",
      "0    220\n",
      "4    220\n",
      "5    220\n",
      "3    220\n",
      "2    220\n",
      "1    220\n",
      "Name: Label, dtype: int64\n",
      "\n",
      " Validation Skelly\n",
      "5    20\n",
      "4    20\n",
      "0    20\n",
      "3    20\n",
      "2    20\n",
      "1    20\n",
      "Name: Label, dtype: int64\n",
      "\n",
      " Train Pressure\n",
      "0    220\n",
      "4    220\n",
      "5    220\n",
      "3    220\n",
      "2    220\n",
      "1    220\n",
      "Name: Label, dtype: int64\n",
      "\n",
      " Validation Pressure\n",
      "5    20\n",
      "4    20\n",
      "0    20\n",
      "3    20\n",
      "2    20\n",
      "1    20\n",
      "Name: Label, dtype: int64\n"
     ]
    }
   ],
   "source": [
    "# recall\n",
    "# LABELS = np.array(['antalgic', 'lurching', 'normal', 'steppage', 'stifflegged', 'trendelenburg'])\n",
    "\n",
    "#split the dataframe into skeleton and pressure, drop the type column\n",
    "\n",
    "reference_df_s = reference_df[reference_df['Type_of_data']=='skeleton']\n",
    "reference_df_s = reference_df_s.drop(columns=['Type_of_data', 'Type_of_gait'])\n",
    "\n",
    "reference_df_p = reference_df[reference_df['Type_of_data']=='pressure']\n",
    "reference_df_p = reference_df_p.drop(columns=['Type_of_data', 'Type_of_gait'])\n",
    "\n",
    "\n",
    "# We want to split the data using 11 subjects as training set and 1 subject as test set\n",
    "# In this way we are sure that train and test are completely dinstinct\n",
    "\n",
    "# train_test split\n",
    "train_s = reference_df_s[~reference_df_s['Name_file'].str.startswith('Sbj12')]\n",
    "val_s = reference_df_s[reference_df_s['Name_file'].str.startswith('Sbj12')]\n",
    "\n",
    "train_p = reference_df_p[~reference_df_p['Name_file'].str.startswith('Sbj12')]\n",
    "val_p = reference_df_p[reference_df_p['Name_file'].str.startswith('Sbj12')]\n",
    "\n",
    "train_s = train_s.drop(columns=['Name_file'])\n",
    "val_s = val_s.drop(columns=['Name_file'])\n",
    "train_p = train_p.drop(columns=['Name_file'])\n",
    "val_p = val_p.drop(columns=['Name_file'])\n",
    "\n",
    "\n",
    "#frequence counts\n",
    "print(\"Train Skelly\")\n",
    "print(train_s['Label'].value_counts())\n",
    "print('\\n',\"Validation Skelly\")\n",
    "print(val_s['Label'].value_counts())\n",
    "print('\\n',\"Train Pressure\")\n",
    "print(train_p['Label'].value_counts())\n",
    "print('\\n',\"Validation Pressure\")\n",
    "print(val_p['Label'].value_counts())"
   ]
  },
  {
   "cell_type": "markdown",
   "id": "8TqhxEiIj5GZ",
   "metadata": {
    "id": "8TqhxEiIj5GZ"
   },
   "source": [
    "## Skeletron: load and preprocessing"
   ]
  },
  {
   "cell_type": "markdown",
   "id": "BCCxHPmuI27q",
   "metadata": {
    "id": "BCCxHPmuI27q"
   },
   "source": [
    "### Defenition of the load function"
   ]
  },
  {
   "cell_type": "code",
   "execution_count": 7,
   "id": "rAov7KJw70Ak",
   "metadata": {
    "colab": {
     "base_uri": "https://localhost:8080/",
     "height": 0
    },
    "executionInfo": {
     "elapsed": 1595,
     "status": "ok",
     "timestamp": 1707732026552,
     "user": {
      "displayName": "francesco zane",
      "userId": "08919801149381164577"
     },
     "user_tz": -60
    },
    "id": "rAov7KJw70Ak",
    "outputId": "e91b3092-dec0-4744-de59-ac5b93fa212a"
   },
   "outputs": [
    {
     "data": {
      "image/png": "[encoded data removed]",
      "text/plain": [
       "<Figure size 1000x600 with 1 Axes>"
      ]
     },
     "metadata": {},
     "output_type": "display_data"
    }
   ],
   "source": [
    "def load_data_sk(complete_path, load=True):\n",
    "\n",
    "  if load:\n",
    "    complete_path = complete_path.decode()\n",
    "\n",
    "  df_skelly = pd.read_csv(complete_path, header=None)\n",
    "  df_skelly = df_skelly.drop([df_skelly.columns[0],df_skelly.columns[-1]], axis=1)\n",
    "\n",
    "  #convert to np array and reshape\n",
    "  data = df_skelly.to_numpy().reshape((-1,32,3))\n",
    "\n",
    "  return data.squeeze()\n",
    "\n",
    "\n",
    "# Example\n",
    "sk_data = load_data_sk(train_s.index[1], load=False)\n",
    "\n",
    "#plot example, select only one frame\n",
    "plotdata = sk_data[150]\n",
    "\n",
    "fig = plt.figure()\n",
    "ax = fig.add_subplot(projection='3d')\n",
    "ax.scatter(plotdata[:, 0], plotdata[:, 1], plotdata[:, 2])\n",
    "ax.set_xlabel('X Label')\n",
    "ax.set_ylabel('Y Label')\n",
    "ax.set_zlabel('Z Label')\n",
    "ax.set_title('3D Scatter Plot')\n",
    "ax.view_init(elev=10, azim=80)\n",
    "plt.show()"
   ]
  },
  {
   "cell_type": "markdown",
   "id": "FwNPQqTjwmJ7",
   "metadata": {
    "id": "FwNPQqTjwmJ7"
   },
   "source": [
    "### Defenition of the normalization function"
   ]
  },
  {
   "cell_type": "code",
   "execution_count": 8,
   "id": "xmREzIFIwqBC",
   "metadata": {
    "colab": {
     "base_uri": "https://localhost:8080/",
     "height": 0
    },
    "executionInfo": {
     "elapsed": 595,
     "status": "ok",
     "timestamp": 1707732027145,
     "user": {
      "displayName": "francesco zane",
      "userId": "08919801149381164577"
     },
     "user_tz": -60
    },
    "id": "xmREzIFIwqBC",
    "outputId": "3b7c3eac-35ec-489f-9fda-3e7437465951"
   },
   "outputs": [
    {
     "data": {
      "image/png": "[encoded data removed]",
      "text/plain": [
       "<Figure size 1000x600 with 1 Axes>"
      ]
     },
     "metadata": {},
     "output_type": "display_data"
    }
   ],
   "source": [
    "def normalize_data_sk(data):\n",
    "    # Amplitude estimate for each axes\n",
    "    norm_factor_x = np.percentile(data[:, :, 0], 95) - np.percentile(data[:, :, 0], 5)\n",
    "    norm_factor_y = np.percentile(data[:, :, 1], 95) - np.percentile(data[:, :, 1], 5)\n",
    "    norm_factor_z = np.percentile(data[:, :, 2], 95) - np.percentile(data[:, :, 2], 5)\n",
    "\n",
    "    data[:, :, 0] = data[:, :, 0] / norm_factor_x\n",
    "    data[:, :, 1] = data[:, :, 1] / norm_factor_y\n",
    "    data[:, :, 2] = data[:, :, 2] / norm_factor_z\n",
    "\n",
    "    return data\n",
    "\n",
    "\n",
    "# Example\n",
    "sk_data = load_data_sk(train_s.index[1], load=False)\n",
    "sk_data_norm = normalize_data_sk(sk_data)\n",
    "\n",
    "\n",
    "#plot example, select only one frame\n",
    "plotdata = sk_data[150]\n",
    "\n",
    "fig = plt.figure()\n",
    "ax = fig.add_subplot(projection='3d')\n",
    "ax.scatter(plotdata[:, 0], plotdata[:, 1], plotdata[:, 2])\n",
    "ax.set_xlabel('X Label')\n",
    "ax.set_ylabel('Y Label')\n",
    "ax.set_zlabel('Z Label')\n",
    "ax.set_title('3D Scatter Plot')\n",
    "ax.view_init(elev=10, azim=80)\n",
    "plt.show()"
   ]
  },
  {
   "cell_type": "markdown",
   "id": "hqTUn1MLwJow",
   "metadata": {
    "id": "hqTUn1MLwJow"
   },
   "source": [
    "Perche' all'inizio veloce e poi lenta?"
   ]
  },
  {
   "cell_type": "code",
   "execution_count": 9,
   "id": "4H0ggk5bjc74",
   "metadata": {
    "executionInfo": {
     "elapsed": 5,
     "status": "ok",
     "timestamp": 1707732027145,
     "user": {
      "displayName": "francesco zane",
      "userId": "08919801149381164577"
     },
     "user_tz": -60
    },
    "id": "4H0ggk5bjc74"
   },
   "outputs": [],
   "source": [
    "# # check duration of walking samples\n",
    "# hist = []\n",
    "\n",
    "# c = 0\n",
    "\n",
    "# for i in reference_df_s.index:\n",
    "#     data = load_data_sk(i, reference_df_s)\n",
    "#     hist.append(data.shape[0])\n",
    "\n",
    "#     if c % 100 == 0:\n",
    "#       print('Step:', c)\n",
    "#     c += 1\n",
    "\n",
    "# # Create a histogram\n",
    "# plt.hist(hist, bins=150, edgecolor='black')\n",
    "\n",
    "# # Add a vertical line for the median\n",
    "# plt.axvline(np.median(hist), color='red', linestyle='dashed', linewidth=1)\n",
    "# plt.axvline(np.mean(hist), color='yellow', linestyle='dashed', linewidth=1)\n",
    "\n",
    "# # Add labels and title\n",
    "# plt.xlabel('Value')\n",
    "# plt.ylabel('Frequency')\n",
    "# plt.title('Histogram')\n",
    "\n",
    "# # Show the plot\n",
    "# plt.show()\n",
    "# print(\"Median of data (red)\",np.median(hist))\n",
    "# print(\"Mean of data (yellow)\",np.mean(hist))\n",
    "# print(\"Standard dev of data\", np.std(hist))"
   ]
  },
  {
   "cell_type": "markdown",
   "id": "c-afifcwjc74",
   "metadata": {
    "id": "c-afifcwjc74"
   },
   "source": [
    "### Defenition of the crop function"
   ]
  },
  {
   "cell_type": "code",
   "execution_count": 10,
   "id": "SBo0YwBs2s2M",
   "metadata": {
    "colab": {
     "base_uri": "https://localhost:8080/"
    },
    "executionInfo": {
     "elapsed": 5,
     "status": "ok",
     "timestamp": 1707732027145,
     "user": {
      "displayName": "francesco zane",
      "userId": "08919801149381164577"
     },
     "user_tz": -60
    },
    "id": "SBo0YwBs2s2M",
    "outputId": "8bc12185-98a0-4520-a611-11b0aea9e4b0"
   },
   "outputs": [
    {
     "name": "stdout",
     "output_type": "stream",
     "text": [
      "Original shape  (207, 32, 3) Cropped/Padded shape  (50, 32, 3)\n"
     ]
    }
   ],
   "source": [
    "def random_crop(data, target_size=50, noise_time=20, center_crop=False):\n",
    "\n",
    "  # remove initial and final frames that we consider as noise\n",
    "  start = noise_time\n",
    "  end = data.shape[0] - noise_time\n",
    "\n",
    "  data = data[start:end, :]\n",
    "\n",
    "  N = data.shape[0]\n",
    "\n",
    "  # Random Crop (always centered if center_crop=True)\n",
    "  if center_crop:\n",
    "      from_ = int((N / 2) - (target_size / 2))\n",
    "      # print('Start of the crop: ', from_)\n",
    "  else:\n",
    "      from_ = np.random.randint(0, np.floor(N - target_size))\n",
    "      # print('Start of the crop: ', from_)\n",
    "\n",
    "  return data[from_:from_ + target_size]\n",
    "\n",
    "\n",
    "# Example\n",
    "sk_data = load_data_sk(train_s.index[1], load=False)\n",
    "\n",
    "sk_data_crop = random_crop(sk_data)\n",
    "print('Original shape ', sk_data.shape, 'Cropped/Padded shape ', sk_data_crop.shape)"
   ]
  },
  {
   "cell_type": "markdown",
   "id": "9CLMet5Qjc75",
   "metadata": {
    "id": "9CLMet5Qjc75"
   },
   "source": [
    "### Unique load_preprocessing and one_hot_encoding function"
   ]
  },
  {
   "cell_type": "code",
   "execution_count": 11,
   "id": "NORupWWHjc75",
   "metadata": {
    "executionInfo": {
     "elapsed": 4,
     "status": "ok",
     "timestamp": 1707732027145,
     "user": {
      "displayName": "francesco zane",
      "userId": "08919801149381164577"
     },
     "user_tz": -60
    },
    "id": "NORupWWHjc75"
   },
   "outputs": [],
   "source": [
    "def load_prep_sk(complete_path):\n",
    "    data = load_data_sk(complete_path, load=True)\n",
    "    data = normalize_data_sk(data)\n",
    "\n",
    "    # riportati i dati in un vettore pronti per il RNN\n",
    "    data = data.reshape(data.shape[0], -1)\n",
    "\n",
    "    return data.astype(np.float32)"
   ]
  },
  {
   "cell_type": "code",
   "execution_count": 12,
   "id": "yS1mhvVtE8th",
   "metadata": {
    "executionInfo": {
     "elapsed": 4,
     "status": "ok",
     "timestamp": 1707732027145,
     "user": {
      "displayName": "francesco zane",
      "userId": "08919801149381164577"
     },
     "user_tz": -60
    },
    "id": "yS1mhvVtE8th"
   },
   "outputs": [],
   "source": [
    "def one_hot(indice):\n",
    "\n",
    "  matrix = np.zeros((len(indice), 6))\n",
    "  matrix[np.arange(len(indice)), indice] = 1\n",
    "\n",
    "  return matrix"
   ]
  },
  {
   "cell_type": "markdown",
   "id": "9R7i1h_-KXj_",
   "metadata": {
    "id": "9R7i1h_-KXj_"
   },
   "source": [
    "## Skeletron dataset"
   ]
  },
  {
   "cell_type": "markdown",
   "id": "UTAAD_L6JiRH",
   "metadata": {
    "id": "UTAAD_L6JiRH"
   },
   "source": [
    "### Defenition of the function to create the dataset"
   ]
  },
  {
   "cell_type": "code",
   "execution_count": 13,
   "id": "_YBcVnRstkEH",
   "metadata": {
    "executionInfo": {
     "elapsed": 1,
     "status": "ok",
     "timestamp": 1707732029688,
     "user": {
      "displayName": "francesco zane",
      "userId": "08919801149381164577"
     },
     "user_tz": -60
    },
    "id": "_YBcVnRstkEH"
   },
   "outputs": [],
   "source": [
    "def create_dataset_sk(table, cache_file, shuffle, batch_size, target_size=50, noise_time=20, center_crop=False):\n",
    "\n",
    "  # shape\n",
    "  input_size = (target_size, 96)\n",
    "\n",
    "  # Convert dataframe to lists\n",
    "  file_names = list(table.index)\n",
    "  labels = table['Label']\n",
    "\n",
    "  # Create a Dataset object\n",
    "  dataset = tf.data.Dataset.from_tensor_slices((file_names, labels))\n",
    "  # dataset = tf.data.Dataset.from_tensor_slices((file_names, labels))\n",
    "\n",
    "  # Map the load_and_preprocess_data function\n",
    "  py_func = lambda path, label: (tf.numpy_function(load_prep_sk, [path], tf.float32), label)\n",
    "  dataset = dataset.map(py_func, num_parallel_calls=os.cpu_count())\n",
    "\n",
    "  # Cache dataset\n",
    "  if cache_file:\n",
    "      dataset = dataset.cache(cache_file)\n",
    "\n",
    "  # # Shuffle\n",
    "  # if shuffle:\n",
    "  #     dataset = dataset.shuffle(len(file_names))\n",
    "\n",
    "  # Repeat the dataset indefinitely\n",
    "  dataset = dataset.repeat()\n",
    "\n",
    "  # Map the crop function\n",
    "  py_func = lambda data, label: (tf.ensure_shape(tf.numpy_function(random_crop, [data, target_size, noise_time, center_crop], tf.float32),\n",
    "                                              input_size), label)\n",
    "  dataset = dataset.map(py_func, num_parallel_calls=os.cpu_count())\n",
    "\n",
    "  # # # Correct input shape for the network\n",
    "  # dataset = dataset.map(lambda data, label: (tf.expand_dims(data, 2), label))\n",
    "\n",
    "  # Batch\n",
    "  dataset = dataset.batch(batch_size=batch_size)\n",
    "\n",
    "  # Prefetch\n",
    "  dataset = dataset.prefetch(buffer_size=1)\n",
    "\n",
    "  return dataset\n"
   ]
  },
  {
   "cell_type": "markdown",
   "id": "Qp2N-BxJJ-BM",
   "metadata": {
    "id": "Qp2N-BxJJ-BM"
   },
   "source": [
    "### Dataset inizialization"
   ]
  },
  {
   "cell_type": "code",
   "execution_count": 14,
   "id": "Z2F9ME6i6_Vz",
   "metadata": {
    "executionInfo": {
     "elapsed": 302,
     "status": "ok",
     "timestamp": 1707732041499,
     "user": {
      "displayName": "francesco zane",
      "userId": "08919801149381164577"
     },
     "user_tz": -60
    },
    "id": "Z2F9ME6i6_Vz"
   },
   "outputs": [],
   "source": [
    "batch_s = 20\n",
    "\n",
    "dataset_train_s = create_dataset_sk(table = train_s,\n",
    "                                    cache_file = 'train_s_cache_int_label',\n",
    "                                    shuffle = True,\n",
    "                                    batch_size = batch_s,\n",
    "                                    target_size = 50,\n",
    "                                    noise_time = 20,\n",
    "                                    center_crop = False)\n",
    "\n",
    "dataset_val_s = create_dataset_sk(table = val_s,\n",
    "                                    cache_file = 'val_s_cache',\n",
    "                                    shuffle = False,\n",
    "                                    batch_size = batch_s,\n",
    "                                    target_size = 50,\n",
    "                                    noise_time = 20,\n",
    "                                    center_crop = False)\n",
    "\n",
    "train_steps_s = int(np.ceil(len(train_s)/batch_s))\n",
    "val_steps_s = int(np.ceil(len(val_s)/batch_s))"
   ]
  },
  {
   "cell_type": "code",
   "execution_count": null,
   "id": "0hJ4-KC4dCP_",
   "metadata": {
    "colab": {
     "base_uri": "https://localhost:8080/"
    },
    "executionInfo": {
     "elapsed": 270,
     "status": "ok",
     "timestamp": 1707731135806,
     "user": {
      "displayName": "francesco zane",
      "userId": "08919801149381164577"
     },
     "user_tz": -60
    },
    "id": "0hJ4-KC4dCP_",
    "outputId": "8051b721-e566-4347-c270-5cf22b127d56"
   },
   "outputs": [
    {
     "data": {
      "text/plain": [
       "<_TakeDataset element_spec=(TensorSpec(shape=(None, 50, 96), dtype=tf.float32, name=None), TensorSpec(shape=(None, 6), dtype=tf.float32, name=None))>"
      ]
     },
     "execution_count": 23,
     "metadata": {},
     "output_type": "execute_result"
    }
   ],
   "source": [
    "# first_element_dataset_k = dataset_train_s.take(1)\n",
    "# first_element_dataset_k"
   ]
  },
  {
   "cell_type": "code",
   "execution_count": null,
   "id": "tTCETcdrZXSx",
   "metadata": {
    "colab": {
     "base_uri": "https://localhost:8080/"
    },
    "executionInfo": {
     "elapsed": 968,
     "status": "ok",
     "timestamp": 1707731161542,
     "user": {
      "displayName": "francesco zane",
      "userId": "08919801149381164577"
     },
     "user_tz": -60
    },
    "id": "tTCETcdrZXSx",
    "outputId": "d9a43b76-479d-43ce-e1df-1edbb57bce47"
   },
   "outputs": [
    {
     "name": "stdout",
     "output_type": "stream",
     "text": [
      "(20, 50, 96) tf.Tensor(\n",
      "[[1. 0. 0. 0. 0. 0.]\n",
      " [1. 0. 0. 0. 0. 0.]\n",
      " [1. 0. 0. 0. 0. 0.]\n",
      " [1. 0. 0. 0. 0. 0.]\n",
      " [1. 0. 0. 0. 0. 0.]\n",
      " [1. 0. 0. 0. 0. 0.]\n",
      " [1. 0. 0. 0. 0. 0.]\n",
      " [1. 0. 0. 0. 0. 0.]\n",
      " [1. 0. 0. 0. 0. 0.]\n",
      " [1. 0. 0. 0. 0. 0.]\n",
      " [1. 0. 0. 0. 0. 0.]\n",
      " [1. 0. 0. 0. 0. 0.]\n",
      " [1. 0. 0. 0. 0. 0.]\n",
      " [1. 0. 0. 0. 0. 0.]\n",
      " [1. 0. 0. 0. 0. 0.]\n",
      " [1. 0. 0. 0. 0. 0.]\n",
      " [1. 0. 0. 0. 0. 0.]\n",
      " [1. 0. 0. 0. 0. 0.]\n",
      " [1. 0. 0. 0. 0. 0.]\n",
      " [1. 0. 0. 0. 0. 0.]], shape=(20, 6), dtype=float32)\n"
     ]
    }
   ],
   "source": [
    "# for d, l in first_element_dataset_k:\n",
    "#   print(d.numpy().shape, l)"
   ]
  },
  {
   "cell_type": "markdown",
   "id": "HwlG5PWCKieK",
   "metadata": {
    "id": "HwlG5PWCKieK"
   },
   "source": [
    "## Pressure: load and preprocessing"
   ]
  },
  {
   "cell_type": "markdown",
   "id": "rO4-6gGSKieW",
   "metadata": {
    "id": "rO4-6gGSKieW"
   },
   "source": [
    "### Defenition of the load function"
   ]
  },
  {
   "cell_type": "code",
   "execution_count": 17,
   "id": "yA18YgSjKieW",
   "metadata": {
    "colab": {
     "base_uri": "https://localhost:8080/",
     "height": 0
    },
    "executionInfo": {
     "elapsed": 1389,
     "status": "ok",
     "timestamp": 1707732078383,
     "user": {
      "displayName": "francesco zane",
      "userId": "08919801149381164577"
     },
     "user_tz": -60
    },
    "id": "yA18YgSjKieW",
    "outputId": "00553128-7a58-4f7b-b313-acb81f849715"
   },
   "outputs": [
    {
     "data": {
      "image/png": "[encoded data removed]",
      "text/plain": [
       "<Figure size 1000x600 with 2 Axes>"
      ]
     },
     "metadata": {},
     "output_type": "display_data"
    }
   ],
   "source": [
    "def load_data_ps(complete_path, load=True):\n",
    "\n",
    "  if load:\n",
    "    complete_path = complete_path.decode()\n",
    "\n",
    "  pressure_data = pd.read_csv(complete_path, header=None).to_numpy()\n",
    "\n",
    "  return pressure_data.squeeze()\n",
    "\n",
    "\n",
    "# Example\n",
    "ps_data = load_data_ps(train_p.index[0], load=False)\n",
    "\n",
    "sns.heatmap(ps_data, square= True)\n",
    "plt.show()"
   ]
  },
  {
   "cell_type": "markdown",
   "id": "CXV458_KKieW",
   "metadata": {
    "id": "CXV458_KKieW"
   },
   "source": [
    "### Defenition of the normalization function"
   ]
  },
  {
   "cell_type": "code",
   "execution_count": 18,
   "id": "77mckEduKieW",
   "metadata": {
    "colab": {
     "base_uri": "https://localhost:8080/",
     "height": 0
    },
    "executionInfo": {
     "elapsed": 964,
     "status": "ok",
     "timestamp": 1707732079345,
     "user": {
      "displayName": "francesco zane",
      "userId": "08919801149381164577"
     },
     "user_tz": -60
    },
    "id": "77mckEduKieW",
    "outputId": "fdf13252-eaa9-4f6e-be4d-fc804a2e1811"
   },
   "outputs": [
    {
     "data": {
      "image/png": "[encoded data removed]",
      "text/plain": [
       "<Figure size 1000x600 with 2 Axes>"
      ]
     },
     "metadata": {},
     "output_type": "display_data"
    }
   ],
   "source": [
    "def normalize_data_ps(data):\n",
    "    massimo = np.max(data)\n",
    "    data = data / massimo\n",
    "    return data\n",
    "\n",
    "# Example\n",
    "ps_data = load_data_ps(train_p.index[0], load=False)\n",
    "ps_data_norm = normalize_data_ps(ps_data)\n",
    "\n",
    "sns.heatmap(ps_data_norm, square= True)\n",
    "plt.show()"
   ]
  },
  {
   "cell_type": "markdown",
   "id": "xGwn8vhDL-6b",
   "metadata": {
    "id": "xGwn8vhDL-6b"
   },
   "source": [
    "### Defenition of the centering function"
   ]
  },
  {
   "cell_type": "code",
   "execution_count": 19,
   "id": "94-I0o9KL-6n",
   "metadata": {
    "colab": {
     "base_uri": "https://localhost:8080/",
     "height": 0
    },
    "executionInfo": {
     "elapsed": 3457,
     "status": "ok",
     "timestamp": 1707732082798,
     "user": {
      "displayName": "francesco zane",
      "userId": "08919801149381164577"
     },
     "user_tz": -60
    },
    "id": "94-I0o9KL-6n",
    "outputId": "5f5f0699-cac8-4c87-931e-0cee544f9d94"
   },
   "outputs": [
    {
     "data": {
      "image/png": "[encoded data removed]",
      "text/plain": [
       "<Figure size 1200x600 with 4 Axes>"
      ]
     },
     "metadata": {},
     "output_type": "display_data"
    }
   ],
   "source": [
    "def baricenter(data):\n",
    "  # Compute the weighted average (barycenter) along each dimension\n",
    "  y_barycenter = np.average(np.arange(data.shape[0]), weights=np.sum(data, axis=1))\n",
    "  x_barycenter = np.average(np.arange(data.shape[1]), weights=np.sum(data, axis=0))\n",
    "\n",
    "  # print(\"Barycenter coordinates (x,y) = \",x_barycenter,y_barycenter)\n",
    "  # print(\"Center image (x,y) = \", data.shape[1]/2, data.shape[0]/2)\n",
    "\n",
    "  # Compute the distances between each point and the barycenter\n",
    "  shift_x = -(x_barycenter - data.shape[1]/2)\n",
    "  shift_y = -(y_barycenter - data.shape[0]/2)\n",
    "\n",
    "  # Shift the foot pressure matrix to be centered on the barycenter\n",
    "  shifted_matrix = np.roll(data, int(shift_x), axis=1)\n",
    "  shifted_matrix = np.roll(shifted_matrix, int(shift_y), axis=0)\n",
    "\n",
    "  # y_barycenter_after = np.average(np.arange(shifted_matrix.shape[0]), weights=np.sum(shifted_matrix, axis=1))\n",
    "  # x_barycenter_after = np.average(np.arange(shifted_matrix.shape[1]), weights=np.sum(shifted_matrix, axis=0))\n",
    "  # print(\"Barycenter coordinates (x,y) afetr= \", x_barycenter_after, y_barycenter_after, '\\n')\n",
    "\n",
    "  return shifted_matrix\n",
    "\n",
    "# Example\n",
    "for i in [253]:\n",
    "  ps_data = load_data_ps(train_p.index[i], load=False)\n",
    "  ps_data_norm = normalize_data_ps(ps_data)\n",
    "  cen_ps_data_norm = baricenter(ps_data_norm)\n",
    "\n",
    "  fig, axes = plt.subplots(1, 2, figsize=(12, 6))\n",
    "\n",
    "  # Plot the first heatmap\n",
    "  sns.heatmap(ps_data_norm, square=True, ax=axes[0])\n",
    "  axes[0].set_title('Original')\n",
    "\n",
    "  # Plot the second heatmap\n",
    "  sns.heatmap(cen_ps_data_norm, square=True,ax=axes[1])\n",
    "  axes[1].set_title('Centered')\n",
    "\n",
    "  # Adjust layout\n",
    "  plt.tight_layout()\n",
    "\n",
    "  # Show the plot\n",
    "  plt.show()"
   ]
  },
  {
   "cell_type": "markdown",
   "id": "yHKLznfMKieW",
   "metadata": {
    "id": "yHKLznfMKieW"
   },
   "source": [
    "### Unique load_preprocessing and one_hot_encoding function"
   ]
  },
  {
   "cell_type": "code",
   "execution_count": 36,
   "id": "TWGFg4dnKieW",
   "metadata": {
    "executionInfo": {
     "elapsed": 271,
     "status": "ok",
     "timestamp": 1707732807315,
     "user": {
      "displayName": "francesco zane",
      "userId": "08919801149381164577"
     },
     "user_tz": -60
    },
    "id": "TWGFg4dnKieW"
   },
   "outputs": [],
   "source": [
    "def load_prep_ps(complete_path):\n",
    "    data = load_data_ps(complete_path, load=True)\n",
    "    data = normalize_data_ps(data)\n",
    "    data = baricenter(data)\n",
    "\n",
    "    return data.astype(np.float32)"
   ]
  },
  {
   "cell_type": "code",
   "execution_count": 21,
   "id": "yJdBVt4sKieX",
   "metadata": {
    "executionInfo": {
     "elapsed": 2,
     "status": "ok",
     "timestamp": 1707732082799,
     "user": {
      "displayName": "francesco zane",
      "userId": "08919801149381164577"
     },
     "user_tz": -60
    },
    "id": "yJdBVt4sKieX"
   },
   "outputs": [],
   "source": [
    "def one_hot(indice):\n",
    "\n",
    "  matrix = np.zeros((len(indice), 6))\n",
    "  matrix[np.arange(len(indice)), indice] = 1\n",
    "\n",
    "  return matrix"
   ]
  },
  {
   "cell_type": "markdown",
   "id": "h1N_HhmLPCyw",
   "metadata": {
    "id": "h1N_HhmLPCyw"
   },
   "source": [
    "## Pressure dataset"
   ]
  },
  {
   "cell_type": "markdown",
   "id": "yrPkwV3gPCy5",
   "metadata": {
    "id": "yrPkwV3gPCy5"
   },
   "source": [
    "### Defenition of the function to create the dataset"
   ]
  },
  {
   "cell_type": "code",
   "execution_count": 65,
   "id": "uMImb7qKPCy5",
   "metadata": {
    "executionInfo": {
     "elapsed": 315,
     "status": "ok",
     "timestamp": 1707733926588,
     "user": {
      "displayName": "francesco zane",
      "userId": "08919801149381164577"
     },
     "user_tz": -60
    },
    "id": "uMImb7qKPCy5"
   },
   "outputs": [],
   "source": [
    "def create_dataset_ps(table, cache_file, shuffle, batch_size, ):\n",
    "\n",
    "  # Convert dataframe to lists\n",
    "  file_names = list(table.index)\n",
    "  labels = table['Label']\n",
    "\n",
    "  # Create a Dataset object\n",
    "  dataset = tf.data.Dataset.from_tensor_slices((file_names, labels))\n",
    "\n",
    "  # Map the load_and_preprocess_data function\n",
    "  py_func = lambda path, label: (tf.numpy_function(load_prep_ps, [path], tf.float32), label)\n",
    "  dataset = dataset.map(py_func, num_parallel_calls=os.cpu_count())\n",
    "\n",
    "  # Cache dataset\n",
    "  if cache_file:\n",
    "      dataset = dataset.cache(cache_file)\n",
    "\n",
    "  # # Shuffle\n",
    "  # if shuffle:\n",
    "  #     dataset = dataset.shuffle(len(file_names))\n",
    "\n",
    "  # Repeat the dataset indefinitely\n",
    "  dataset = dataset.repeat()\n",
    "\n",
    "  # Correct input shape for the network\n",
    "  dataset = dataset.map(lambda data, label: (tf.expand_dims(data, 2), label))\n",
    "\n",
    "  # Batch\n",
    "  dataset = dataset.batch(batch_size=batch_size)\n",
    "\n",
    "  # Prefetch\n",
    "  dataset = dataset.prefetch(buffer_size=1)\n",
    "\n",
    "  return dataset\n"
   ]
  },
  {
   "cell_type": "markdown",
   "id": "QnZjQDfSPCy5",
   "metadata": {
    "id": "QnZjQDfSPCy5"
   },
   "source": [
    "### Dataset inizialization"
   ]
  },
  {
   "cell_type": "code",
   "execution_count": 66,
   "id": "3hP4OSMKPCy5",
   "metadata": {
    "executionInfo": {
     "elapsed": 1,
     "status": "ok",
     "timestamp": 1707733927456,
     "user": {
      "displayName": "francesco zane",
      "userId": "08919801149381164577"
     },
     "user_tz": -60
    },
    "id": "3hP4OSMKPCy5"
   },
   "outputs": [],
   "source": [
    "batch_p = 20\n",
    "\n",
    "dataset_train_p = create_dataset_ps(table = train_p,\n",
    "                                    cache_file = 'train_p_cache',\n",
    "                                    shuffle = True,\n",
    "                                    batch_size = batch_p)\n",
    "\n",
    "dataset_val_p = create_dataset_ps(table = val_p,\n",
    "                                    cache_file = 'val_p_cache',\n",
    "                                    shuffle = False,\n",
    "                                    batch_size = batch_p)\n",
    "\n",
    "train_steps_p = int(np.ceil(len(train_p)/batch_p))\n",
    "val_steps_p = int(np.ceil(len(val_p)/batch_p))"
   ]
  },
  {
   "cell_type": "code",
   "execution_count": 67,
   "id": "Rf3pAHQswF7G",
   "metadata": {
    "colab": {
     "base_uri": "https://localhost:8080/"
    },
    "executionInfo": {
     "elapsed": 2,
     "status": "ok",
     "timestamp": 1707733927720,
     "user": {
      "displayName": "francesco zane",
      "userId": "08919801149381164577"
     },
     "user_tz": -60
    },
    "id": "Rf3pAHQswF7G",
    "outputId": "c6e02f87-4fc1-4d20-834d-08d2d8c12f4d"
   },
   "outputs": [
    {
     "data": {
      "text/plain": [
       "<_TakeDataset element_spec=(TensorSpec(shape=<unknown>, dtype=tf.float32, name=None), TensorSpec(shape=(None,), dtype=tf.int64, name=None))>"
      ]
     },
     "execution_count": 67,
     "metadata": {},
     "output_type": "execute_result"
    }
   ],
   "source": [
    "first_element_dataset_p = dataset_train_p.take(1)\n",
    "first_element_dataset_p"
   ]
  },
  {
   "cell_type": "code",
   "execution_count": 68,
   "id": "sGD8yWrayzmx",
   "metadata": {
    "colab": {
     "base_uri": "https://localhost:8080/"
    },
    "executionInfo": {
     "elapsed": 268,
     "status": "ok",
     "timestamp": 1707733929191,
     "user": {
      "displayName": "francesco zane",
      "userId": "08919801149381164577"
     },
     "user_tz": -60
    },
    "id": "sGD8yWrayzmx",
    "outputId": "701812e2-9ab3-44d0-8ec4-a8ca95ac6602"
   },
   "outputs": [
    {
     "name": "stdout",
     "output_type": "stream",
     "text": [
      "(20, 128, 48, 1) (20,)\n"
     ]
    }
   ],
   "source": [
    "for d, l in first_element_dataset_p:\n",
    "  print(d.numpy().shape, l.numpy().shape)"
   ]
  },
  {
   "cell_type": "markdown",
   "id": "cEJMXN9KKCDA",
   "metadata": {
    "id": "cEJMXN9KKCDA"
   },
   "source": [
    "## RNN"
   ]
  },
  {
   "cell_type": "code",
   "execution_count": 15,
   "id": "kV_fspO8-tAc",
   "metadata": {
    "colab": {
     "base_uri": "https://localhost:8080/"
    },
    "executionInfo": {
     "elapsed": 2436,
     "status": "ok",
     "timestamp": 1707732047213,
     "user": {
      "displayName": "francesco zane",
      "userId": "08919801149381164577"
     },
     "user_tz": -60
    },
    "id": "kV_fspO8-tAc",
    "outputId": "3a3744c8-4359-4149-ab26-045c60c9a7fb"
   },
   "outputs": [
    {
     "name": "stdout",
     "output_type": "stream",
     "text": [
      "Model: \"RNN_model\"\n",
      "_________________________________________________________________\n",
      " Layer (type)                Output Shape              Param #   \n",
      "=================================================================\n",
      " input_1 (InputLayer)        [(None, 50, 96)]          0         \n",
      "                                                                 \n",
      " dense (Dense)               (None, 50, 96)            9312      \n",
      "                                                                 \n",
      " I_GRU (GRU)                 (None, 50, 125)           83625     \n",
      "                                                                 \n",
      " II_GRU (GRU)                (None, 50, 125)           94500     \n",
      "                                                                 \n",
      " III_GRU (GRU)               (None, 50, 125)           94500     \n",
      "                                                                 \n",
      " IV_GRU (GRU)                (None, 125)               94500     \n",
      "                                                                 \n",
      " flatten (Flatten)           (None, 125)               0         \n",
      "                                                                 \n",
      " I_layer (Dense)             (None, 64)                8064      \n",
      "                                                                 \n",
      " II_layer (Dense)            (None, 32)                2080      \n",
      "                                                                 \n",
      " III_layer (Dense)           (None, 16)                528       \n",
      "                                                                 \n",
      " Output_layer (Dense)        (None, 6)                 102       \n",
      "                                                                 \n",
      "=================================================================\n",
      "Total params: 387211 (1.48 MB)\n",
      "Trainable params: 387211 (1.48 MB)\n",
      "Non-trainable params: 0 (0.00 Byte)\n",
      "_________________________________________________________________\n",
      "None \n",
      "\n"
     ]
    }
   ],
   "source": [
    "def MyModel_RNN(time_length, n_features):\n",
    "\n",
    "  X_input = tf.keras.Input((time_length, 96))\n",
    "\n",
    "  # Linear_part\n",
    "  x = tf.keras.layers.Dense(units=n_features, activation='relu', input_shape=(time_length, n_features))(X_input)\n",
    "\n",
    "  # RNN part\n",
    "  # h(t) = tanh(W_hx * x(t) + W_hh * h(t-1) + bias)\n",
    "  x = tf.keras.layers.GRU(125, return_sequences=True, activation='tanh', name='I_GRU')(x)\n",
    "\n",
    "  x = tf.keras.layers.GRU(125, return_sequences=True, activation='tanh', name='II_GRU')(x)\n",
    "  x = tf.keras.layers.GRU(125, return_sequences=True, activation='tanh', name='III_GRU')(x)\n",
    "  x = tf.keras.layers.GRU(125, return_sequences=False, activation='tanh', name='IV_GRU')(x)\n",
    "\n",
    "  # Flatten_output\n",
    "  x = tf.keras.layers.Flatten()(x)                                                                       # serve davvero il flatten?\n",
    "\n",
    "  # Linear part\n",
    "  x = tf.keras.layers.Dense(64, activation='relu', name='I_layer')(x)\n",
    "  x = tf.keras.layers.Dense(32, activation='relu', name='II_layer')(x)\n",
    "  x = tf.keras.layers.Dense(16, activation='relu', name='III_layer')(x)\n",
    "\n",
    "  # Last layer\n",
    "  RNN_outputs = tf.keras.layers.Dense(6, activation='softmax', name='Output_layer')(x)\n",
    "\n",
    "  # Create model\n",
    "  model = tf.keras.Model(inputs = X_input, outputs = RNN_outputs, name='RNN_model')\n",
    "\n",
    "  return model\n",
    "\n",
    "\n",
    "RNN_classifier_model = MyModel_RNN(50, 96)\n",
    "RNN_classifier_model.compile(\n",
    "    loss = keras.losses.SparseCategoricalCrossentropy(from_logits=False),\n",
    "    optimizer = keras.optimizers.Adam(learning_rate=0.001),\n",
    "    metrics=['accuracy']\n",
    ")\n",
    "\n",
    "print(RNN_classifier_model.summary(), '\\n')"
   ]
  },
  {
   "cell_type": "code",
   "execution_count": 16,
   "id": "64MZxk1uBsom",
   "metadata": {
    "colab": {
     "base_uri": "https://localhost:8080/",
     "height": 0
    },
    "executionInfo": {
     "elapsed": 20983,
     "status": "error",
     "timestamp": 1707732070869,
     "user": {
      "displayName": "francesco zane",
      "userId": "08919801149381164577"
     },
     "user_tz": -60
    },
    "id": "64MZxk1uBsom",
    "outputId": "d0aa66e1-dc53-4708-8d93-d09a0c227ec8"
   },
   "outputs": [
    {
     "name": "stdout",
     "output_type": "stream",
     "text": [
      "Epoch 1/30\n",
      " 1/66 [..............................] - ETA: 15:59 - loss: 1.8594 - accuracy: 0.0000e+00"
     ]
    },
    {
     "ename": "KeyboardInterrupt",
     "evalue": "",
     "output_type": "error",
     "traceback": [
      "\u001b[0;31m---------------------------------------------------------------------------\u001b[0m",
      "\u001b[0;31mKeyboardInterrupt\u001b[0m                         Traceback (most recent call last)",
      "\u001b[0;32m<ipython-input-16-4424f99d4663>\u001b[0m in \u001b[0;36m<cell line: 8>\u001b[0;34m()\u001b[0m\n\u001b[1;32m      6\u001b[0m \u001b[0;34m\u001b[0m\u001b[0m\n\u001b[1;32m      7\u001b[0m \u001b[0;31m# Fit the model\u001b[0m\u001b[0;34m\u001b[0m\u001b[0;34m\u001b[0m\u001b[0m\n\u001b[0;32m----> 8\u001b[0;31m history = RNN_classifier_model.fit(dataset_train_s,\n\u001b[0m\u001b[1;32m      9\u001b[0m                                    \u001b[0mepochs\u001b[0m\u001b[0;34m=\u001b[0m\u001b[0mnum_epochs\u001b[0m\u001b[0;34m,\u001b[0m\u001b[0;34m\u001b[0m\u001b[0;34m\u001b[0m\u001b[0m\n\u001b[1;32m     10\u001b[0m                                    \u001b[0msteps_per_epoch\u001b[0m\u001b[0;34m=\u001b[0m\u001b[0mtrain_steps\u001b[0m\u001b[0;34m,\u001b[0m\u001b[0;34m\u001b[0m\u001b[0;34m\u001b[0m\u001b[0m\n",
      "\u001b[0;32m/usr/local/lib/python3.10/dist-packages/keras/src/utils/traceback_utils.py\u001b[0m in \u001b[0;36merror_handler\u001b[0;34m(*args, **kwargs)\u001b[0m\n\u001b[1;32m     63\u001b[0m         \u001b[0mfiltered_tb\u001b[0m \u001b[0;34m=\u001b[0m \u001b[0;32mNone\u001b[0m\u001b[0;34m\u001b[0m\u001b[0;34m\u001b[0m\u001b[0m\n\u001b[1;32m     64\u001b[0m         \u001b[0;32mtry\u001b[0m\u001b[0;34m:\u001b[0m\u001b[0;34m\u001b[0m\u001b[0;34m\u001b[0m\u001b[0m\n\u001b[0;32m---> 65\u001b[0;31m             \u001b[0;32mreturn\u001b[0m \u001b[0mfn\u001b[0m\u001b[0;34m(\u001b[0m\u001b[0;34m*\u001b[0m\u001b[0margs\u001b[0m\u001b[0;34m,\u001b[0m \u001b[0;34m**\u001b[0m\u001b[0mkwargs\u001b[0m\u001b[0;34m)\u001b[0m\u001b[0;34m\u001b[0m\u001b[0;34m\u001b[0m\u001b[0m\n\u001b[0m\u001b[1;32m     66\u001b[0m         \u001b[0;32mexcept\u001b[0m \u001b[0mException\u001b[0m \u001b[0;32mas\u001b[0m \u001b[0me\u001b[0m\u001b[0;34m:\u001b[0m\u001b[0;34m\u001b[0m\u001b[0;34m\u001b[0m\u001b[0m\n\u001b[1;32m     67\u001b[0m             \u001b[0mfiltered_tb\u001b[0m \u001b[0;34m=\u001b[0m \u001b[0m_process_traceback_frames\u001b[0m\u001b[0;34m(\u001b[0m\u001b[0me\u001b[0m\u001b[0;34m.\u001b[0m\u001b[0m__traceback__\u001b[0m\u001b[0;34m)\u001b[0m\u001b[0;34m\u001b[0m\u001b[0;34m\u001b[0m\u001b[0m\n",
      "\u001b[0;32m/usr/local/lib/python3.10/dist-packages/keras/src/engine/training.py\u001b[0m in \u001b[0;36mfit\u001b[0;34m(self, x, y, batch_size, epochs, verbose, callbacks, validation_split, validation_data, shuffle, class_weight, sample_weight, initial_epoch, steps_per_epoch, validation_steps, validation_batch_size, validation_freq, max_queue_size, workers, use_multiprocessing)\u001b[0m\n\u001b[1;32m   1805\u001b[0m                         ):\n\u001b[1;32m   1806\u001b[0m                             \u001b[0mcallbacks\u001b[0m\u001b[0;34m.\u001b[0m\u001b[0mon_train_batch_begin\u001b[0m\u001b[0;34m(\u001b[0m\u001b[0mstep\u001b[0m\u001b[0;34m)\u001b[0m\u001b[0;34m\u001b[0m\u001b[0;34m\u001b[0m\u001b[0m\n\u001b[0;32m-> 1807\u001b[0;31m                             \u001b[0mtmp_logs\u001b[0m \u001b[0;34m=\u001b[0m \u001b[0mself\u001b[0m\u001b[0;34m.\u001b[0m\u001b[0mtrain_function\u001b[0m\u001b[0;34m(\u001b[0m\u001b[0miterator\u001b[0m\u001b[0;34m)\u001b[0m\u001b[0;34m\u001b[0m\u001b[0;34m\u001b[0m\u001b[0m\n\u001b[0m\u001b[1;32m   1808\u001b[0m                             \u001b[0;32mif\u001b[0m \u001b[0mdata_handler\u001b[0m\u001b[0;34m.\u001b[0m\u001b[0mshould_sync\u001b[0m\u001b[0;34m:\u001b[0m\u001b[0;34m\u001b[0m\u001b[0;34m\u001b[0m\u001b[0m\n\u001b[1;32m   1809\u001b[0m                                 \u001b[0mcontext\u001b[0m\u001b[0;34m.\u001b[0m\u001b[0masync_wait\u001b[0m\u001b[0;34m(\u001b[0m\u001b[0;34m)\u001b[0m\u001b[0;34m\u001b[0m\u001b[0;34m\u001b[0m\u001b[0m\n",
      "\u001b[0;32m/usr/local/lib/python3.10/dist-packages/tensorflow/python/util/traceback_utils.py\u001b[0m in \u001b[0;36merror_handler\u001b[0;34m(*args, **kwargs)\u001b[0m\n\u001b[1;32m    148\u001b[0m     \u001b[0mfiltered_tb\u001b[0m \u001b[0;34m=\u001b[0m \u001b[0;32mNone\u001b[0m\u001b[0;34m\u001b[0m\u001b[0;34m\u001b[0m\u001b[0m\n\u001b[1;32m    149\u001b[0m     \u001b[0;32mtry\u001b[0m\u001b[0;34m:\u001b[0m\u001b[0;34m\u001b[0m\u001b[0;34m\u001b[0m\u001b[0m\n\u001b[0;32m--> 150\u001b[0;31m       \u001b[0;32mreturn\u001b[0m \u001b[0mfn\u001b[0m\u001b[0;34m(\u001b[0m\u001b[0;34m*\u001b[0m\u001b[0margs\u001b[0m\u001b[0;34m,\u001b[0m \u001b[0;34m**\u001b[0m\u001b[0mkwargs\u001b[0m\u001b[0;34m)\u001b[0m\u001b[0;34m\u001b[0m\u001b[0;34m\u001b[0m\u001b[0m\n\u001b[0m\u001b[1;32m    151\u001b[0m     \u001b[0;32mexcept\u001b[0m \u001b[0mException\u001b[0m \u001b[0;32mas\u001b[0m \u001b[0me\u001b[0m\u001b[0;34m:\u001b[0m\u001b[0;34m\u001b[0m\u001b[0;34m\u001b[0m\u001b[0m\n\u001b[1;32m    152\u001b[0m       \u001b[0mfiltered_tb\u001b[0m \u001b[0;34m=\u001b[0m \u001b[0m_process_traceback_frames\u001b[0m\u001b[0;34m(\u001b[0m\u001b[0me\u001b[0m\u001b[0;34m.\u001b[0m\u001b[0m__traceback__\u001b[0m\u001b[0;34m)\u001b[0m\u001b[0;34m\u001b[0m\u001b[0;34m\u001b[0m\u001b[0m\n",
      "\u001b[0;32m/usr/local/lib/python3.10/dist-packages/tensorflow/python/eager/polymorphic_function/polymorphic_function.py\u001b[0m in \u001b[0;36m__call__\u001b[0;34m(self, *args, **kwds)\u001b[0m\n\u001b[1;32m    830\u001b[0m \u001b[0;34m\u001b[0m\u001b[0m\n\u001b[1;32m    831\u001b[0m       \u001b[0;32mwith\u001b[0m \u001b[0mOptionalXlaContext\u001b[0m\u001b[0;34m(\u001b[0m\u001b[0mself\u001b[0m\u001b[0;34m.\u001b[0m\u001b[0m_jit_compile\u001b[0m\u001b[0;34m)\u001b[0m\u001b[0;34m:\u001b[0m\u001b[0;34m\u001b[0m\u001b[0;34m\u001b[0m\u001b[0m\n\u001b[0;32m--> 832\u001b[0;31m         \u001b[0mresult\u001b[0m \u001b[0;34m=\u001b[0m \u001b[0mself\u001b[0m\u001b[0;34m.\u001b[0m\u001b[0m_call\u001b[0m\u001b[0;34m(\u001b[0m\u001b[0;34m*\u001b[0m\u001b[0margs\u001b[0m\u001b[0;34m,\u001b[0m \u001b[0;34m**\u001b[0m\u001b[0mkwds\u001b[0m\u001b[0;34m)\u001b[0m\u001b[0;34m\u001b[0m\u001b[0;34m\u001b[0m\u001b[0m\n\u001b[0m\u001b[1;32m    833\u001b[0m \u001b[0;34m\u001b[0m\u001b[0m\n\u001b[1;32m    834\u001b[0m       \u001b[0mnew_tracing_count\u001b[0m \u001b[0;34m=\u001b[0m \u001b[0mself\u001b[0m\u001b[0;34m.\u001b[0m\u001b[0mexperimental_get_tracing_count\u001b[0m\u001b[0;34m(\u001b[0m\u001b[0;34m)\u001b[0m\u001b[0;34m\u001b[0m\u001b[0;34m\u001b[0m\u001b[0m\n",
      "\u001b[0;32m/usr/local/lib/python3.10/dist-packages/tensorflow/python/eager/polymorphic_function/polymorphic_function.py\u001b[0m in \u001b[0;36m_call\u001b[0;34m(self, *args, **kwds)\u001b[0m\n\u001b[1;32m    866\u001b[0m       \u001b[0;31m# In this case we have created variables on the first call, so we run the\u001b[0m\u001b[0;34m\u001b[0m\u001b[0;34m\u001b[0m\u001b[0m\n\u001b[1;32m    867\u001b[0m       \u001b[0;31m# defunned version which is guaranteed to never create variables.\u001b[0m\u001b[0;34m\u001b[0m\u001b[0;34m\u001b[0m\u001b[0m\n\u001b[0;32m--> 868\u001b[0;31m       return tracing_compilation.call_function(\n\u001b[0m\u001b[1;32m    869\u001b[0m           \u001b[0margs\u001b[0m\u001b[0;34m,\u001b[0m \u001b[0mkwds\u001b[0m\u001b[0;34m,\u001b[0m \u001b[0mself\u001b[0m\u001b[0;34m.\u001b[0m\u001b[0m_no_variable_creation_config\u001b[0m\u001b[0;34m\u001b[0m\u001b[0;34m\u001b[0m\u001b[0m\n\u001b[1;32m    870\u001b[0m       )\n",
      "\u001b[0;32m/usr/local/lib/python3.10/dist-packages/tensorflow/python/eager/polymorphic_function/tracing_compilation.py\u001b[0m in \u001b[0;36mcall_function\u001b[0;34m(args, kwargs, tracing_options)\u001b[0m\n\u001b[1;32m    137\u001b[0m   \u001b[0mbound_args\u001b[0m \u001b[0;34m=\u001b[0m \u001b[0mfunction\u001b[0m\u001b[0;34m.\u001b[0m\u001b[0mfunction_type\u001b[0m\u001b[0;34m.\u001b[0m\u001b[0mbind\u001b[0m\u001b[0;34m(\u001b[0m\u001b[0;34m*\u001b[0m\u001b[0margs\u001b[0m\u001b[0;34m,\u001b[0m \u001b[0;34m**\u001b[0m\u001b[0mkwargs\u001b[0m\u001b[0;34m)\u001b[0m\u001b[0;34m\u001b[0m\u001b[0;34m\u001b[0m\u001b[0m\n\u001b[1;32m    138\u001b[0m   \u001b[0mflat_inputs\u001b[0m \u001b[0;34m=\u001b[0m \u001b[0mfunction\u001b[0m\u001b[0;34m.\u001b[0m\u001b[0mfunction_type\u001b[0m\u001b[0;34m.\u001b[0m\u001b[0munpack_inputs\u001b[0m\u001b[0;34m(\u001b[0m\u001b[0mbound_args\u001b[0m\u001b[0;34m)\u001b[0m\u001b[0;34m\u001b[0m\u001b[0;34m\u001b[0m\u001b[0m\n\u001b[0;32m--> 139\u001b[0;31m   return function._call_flat(  # pylint: disable=protected-access\n\u001b[0m\u001b[1;32m    140\u001b[0m       \u001b[0mflat_inputs\u001b[0m\u001b[0;34m,\u001b[0m \u001b[0mcaptured_inputs\u001b[0m\u001b[0;34m=\u001b[0m\u001b[0mfunction\u001b[0m\u001b[0;34m.\u001b[0m\u001b[0mcaptured_inputs\u001b[0m\u001b[0;34m\u001b[0m\u001b[0;34m\u001b[0m\u001b[0m\n\u001b[1;32m    141\u001b[0m   )\n",
      "\u001b[0;32m/usr/local/lib/python3.10/dist-packages/tensorflow/python/eager/polymorphic_function/concrete_function.py\u001b[0m in \u001b[0;36m_call_flat\u001b[0;34m(self, tensor_inputs, captured_inputs)\u001b[0m\n\u001b[1;32m   1321\u001b[0m         and executing_eagerly):\n\u001b[1;32m   1322\u001b[0m       \u001b[0;31m# No tape is watching; skip to running the function.\u001b[0m\u001b[0;34m\u001b[0m\u001b[0;34m\u001b[0m\u001b[0m\n\u001b[0;32m-> 1323\u001b[0;31m       \u001b[0;32mreturn\u001b[0m \u001b[0mself\u001b[0m\u001b[0;34m.\u001b[0m\u001b[0m_inference_function\u001b[0m\u001b[0;34m.\u001b[0m\u001b[0mcall_preflattened\u001b[0m\u001b[0;34m(\u001b[0m\u001b[0margs\u001b[0m\u001b[0;34m)\u001b[0m\u001b[0;34m\u001b[0m\u001b[0;34m\u001b[0m\u001b[0m\n\u001b[0m\u001b[1;32m   1324\u001b[0m     forward_backward = self._select_forward_and_backward_functions(\n\u001b[1;32m   1325\u001b[0m         \u001b[0margs\u001b[0m\u001b[0;34m,\u001b[0m\u001b[0;34m\u001b[0m\u001b[0;34m\u001b[0m\u001b[0m\n",
      "\u001b[0;32m/usr/local/lib/python3.10/dist-packages/tensorflow/python/eager/polymorphic_function/atomic_function.py\u001b[0m in \u001b[0;36mcall_preflattened\u001b[0;34m(self, args)\u001b[0m\n\u001b[1;32m    214\u001b[0m   \u001b[0;32mdef\u001b[0m \u001b[0mcall_preflattened\u001b[0m\u001b[0;34m(\u001b[0m\u001b[0mself\u001b[0m\u001b[0;34m,\u001b[0m \u001b[0margs\u001b[0m\u001b[0;34m:\u001b[0m \u001b[0mSequence\u001b[0m\u001b[0;34m[\u001b[0m\u001b[0mcore\u001b[0m\u001b[0;34m.\u001b[0m\u001b[0mTensor\u001b[0m\u001b[0;34m]\u001b[0m\u001b[0;34m)\u001b[0m \u001b[0;34m->\u001b[0m \u001b[0mAny\u001b[0m\u001b[0;34m:\u001b[0m\u001b[0;34m\u001b[0m\u001b[0;34m\u001b[0m\u001b[0m\n\u001b[1;32m    215\u001b[0m     \u001b[0;34m\"\"\"Calls with flattened tensor inputs and returns the structured output.\"\"\"\u001b[0m\u001b[0;34m\u001b[0m\u001b[0;34m\u001b[0m\u001b[0m\n\u001b[0;32m--> 216\u001b[0;31m     \u001b[0mflat_outputs\u001b[0m \u001b[0;34m=\u001b[0m \u001b[0mself\u001b[0m\u001b[0;34m.\u001b[0m\u001b[0mcall_flat\u001b[0m\u001b[0;34m(\u001b[0m\u001b[0;34m*\u001b[0m\u001b[0margs\u001b[0m\u001b[0;34m)\u001b[0m\u001b[0;34m\u001b[0m\u001b[0;34m\u001b[0m\u001b[0m\n\u001b[0m\u001b[1;32m    217\u001b[0m     \u001b[0;32mreturn\u001b[0m \u001b[0mself\u001b[0m\u001b[0;34m.\u001b[0m\u001b[0mfunction_type\u001b[0m\u001b[0;34m.\u001b[0m\u001b[0mpack_output\u001b[0m\u001b[0;34m(\u001b[0m\u001b[0mflat_outputs\u001b[0m\u001b[0;34m)\u001b[0m\u001b[0;34m\u001b[0m\u001b[0;34m\u001b[0m\u001b[0m\n\u001b[1;32m    218\u001b[0m \u001b[0;34m\u001b[0m\u001b[0m\n",
      "\u001b[0;32m/usr/local/lib/python3.10/dist-packages/tensorflow/python/eager/polymorphic_function/atomic_function.py\u001b[0m in \u001b[0;36mcall_flat\u001b[0;34m(self, *args)\u001b[0m\n\u001b[1;32m    249\u001b[0m         \u001b[0;32mwith\u001b[0m \u001b[0mrecord\u001b[0m\u001b[0;34m.\u001b[0m\u001b[0mstop_recording\u001b[0m\u001b[0;34m(\u001b[0m\u001b[0;34m)\u001b[0m\u001b[0;34m:\u001b[0m\u001b[0;34m\u001b[0m\u001b[0;34m\u001b[0m\u001b[0m\n\u001b[1;32m    250\u001b[0m           \u001b[0;32mif\u001b[0m \u001b[0mself\u001b[0m\u001b[0;34m.\u001b[0m\u001b[0m_bound_context\u001b[0m\u001b[0;34m.\u001b[0m\u001b[0mexecuting_eagerly\u001b[0m\u001b[0;34m(\u001b[0m\u001b[0;34m)\u001b[0m\u001b[0;34m:\u001b[0m\u001b[0;34m\u001b[0m\u001b[0;34m\u001b[0m\u001b[0m\n\u001b[0;32m--> 251\u001b[0;31m             outputs = self._bound_context.call_function(\n\u001b[0m\u001b[1;32m    252\u001b[0m                 \u001b[0mself\u001b[0m\u001b[0;34m.\u001b[0m\u001b[0mname\u001b[0m\u001b[0;34m,\u001b[0m\u001b[0;34m\u001b[0m\u001b[0;34m\u001b[0m\u001b[0m\n\u001b[1;32m    253\u001b[0m                 \u001b[0mlist\u001b[0m\u001b[0;34m(\u001b[0m\u001b[0margs\u001b[0m\u001b[0;34m)\u001b[0m\u001b[0;34m,\u001b[0m\u001b[0;34m\u001b[0m\u001b[0;34m\u001b[0m\u001b[0m\n",
      "\u001b[0;32m/usr/local/lib/python3.10/dist-packages/tensorflow/python/eager/context.py\u001b[0m in \u001b[0;36mcall_function\u001b[0;34m(self, name, tensor_inputs, num_outputs)\u001b[0m\n\u001b[1;32m   1484\u001b[0m     \u001b[0mcancellation_context\u001b[0m \u001b[0;34m=\u001b[0m \u001b[0mcancellation\u001b[0m\u001b[0;34m.\u001b[0m\u001b[0mcontext\u001b[0m\u001b[0;34m(\u001b[0m\u001b[0;34m)\u001b[0m\u001b[0;34m\u001b[0m\u001b[0;34m\u001b[0m\u001b[0m\n\u001b[1;32m   1485\u001b[0m     \u001b[0;32mif\u001b[0m \u001b[0mcancellation_context\u001b[0m \u001b[0;32mis\u001b[0m \u001b[0;32mNone\u001b[0m\u001b[0;34m:\u001b[0m\u001b[0;34m\u001b[0m\u001b[0;34m\u001b[0m\u001b[0m\n\u001b[0;32m-> 1486\u001b[0;31m       outputs = execute.execute(\n\u001b[0m\u001b[1;32m   1487\u001b[0m           \u001b[0mname\u001b[0m\u001b[0;34m.\u001b[0m\u001b[0mdecode\u001b[0m\u001b[0;34m(\u001b[0m\u001b[0;34m\"utf-8\"\u001b[0m\u001b[0;34m)\u001b[0m\u001b[0;34m,\u001b[0m\u001b[0;34m\u001b[0m\u001b[0;34m\u001b[0m\u001b[0m\n\u001b[1;32m   1488\u001b[0m           \u001b[0mnum_outputs\u001b[0m\u001b[0;34m=\u001b[0m\u001b[0mnum_outputs\u001b[0m\u001b[0;34m,\u001b[0m\u001b[0;34m\u001b[0m\u001b[0;34m\u001b[0m\u001b[0m\n",
      "\u001b[0;32m/usr/local/lib/python3.10/dist-packages/tensorflow/python/eager/execute.py\u001b[0m in \u001b[0;36mquick_execute\u001b[0;34m(op_name, num_outputs, inputs, attrs, ctx, name)\u001b[0m\n\u001b[1;32m     51\u001b[0m   \u001b[0;32mtry\u001b[0m\u001b[0;34m:\u001b[0m\u001b[0;34m\u001b[0m\u001b[0;34m\u001b[0m\u001b[0m\n\u001b[1;32m     52\u001b[0m     \u001b[0mctx\u001b[0m\u001b[0;34m.\u001b[0m\u001b[0mensure_initialized\u001b[0m\u001b[0;34m(\u001b[0m\u001b[0;34m)\u001b[0m\u001b[0;34m\u001b[0m\u001b[0;34m\u001b[0m\u001b[0m\n\u001b[0;32m---> 53\u001b[0;31m     tensors = pywrap_tfe.TFE_Py_Execute(ctx._handle, device_name, op_name,\n\u001b[0m\u001b[1;32m     54\u001b[0m                                         inputs, attrs, num_outputs)\n\u001b[1;32m     55\u001b[0m   \u001b[0;32mexcept\u001b[0m \u001b[0mcore\u001b[0m\u001b[0;34m.\u001b[0m\u001b[0m_NotOkStatusException\u001b[0m \u001b[0;32mas\u001b[0m \u001b[0me\u001b[0m\u001b[0;34m:\u001b[0m\u001b[0;34m\u001b[0m\u001b[0;34m\u001b[0m\u001b[0m\n",
      "\u001b[0;31mKeyboardInterrupt\u001b[0m: "
     ]
    }
   ],
   "source": [
    "# Train the model\n",
    "num_epochs = 30\n",
    "\n",
    "early_stop_callback = tf.keras.callbacks.EarlyStopping(monitor='val_loss',\n",
    "                                                       patience=5)\n",
    "\n",
    "# Fit the model\n",
    "history = RNN_classifier_model.fit(dataset_train_s,\n",
    "                                   epochs=num_epochs,\n",
    "                                   steps_per_epoch=train_steps_s,\n",
    "                                   validation_data=dataset_val_s,\n",
    "                                   validation_steps=val_steps,\n",
    "                                   callbacks=[early_stop_callback])\n",
    "\n",
    "\n",
    "RNN_classifier_model.save('my_model.h5')"
   ]
  },
  {
   "cell_type": "markdown",
   "id": "NC_itF9z0c_O",
   "metadata": {
    "id": "NC_itF9z0c_O"
   },
   "source": [
    "## CNN"
   ]
  },
  {
   "cell_type": "code",
   "execution_count": 69,
   "id": "Lm35EJeQ0c_a",
   "metadata": {
    "colab": {
     "base_uri": "https://localhost:8080/"
    },
    "executionInfo": {
     "elapsed": 708,
     "status": "ok",
     "timestamp": 1707733941405,
     "user": {
      "displayName": "francesco zane",
      "userId": "08919801149381164577"
     },
     "user_tz": -60
    },
    "id": "Lm35EJeQ0c_a",
    "outputId": "bf6ff72c-e92b-4b4a-d863-a1575fef2d51"
   },
   "outputs": [
    {
     "name": "stdout",
     "output_type": "stream",
     "text": [
      "Model: \"model_4\"\n",
      "_________________________________________________________________\n",
      " Layer (type)                Output Shape              Param #   \n",
      "=================================================================\n",
      " input_7 (InputLayer)        [(None, 128, 48, 1)]      0         \n",
      "                                                                 \n",
      " I_Conv2D (Conv2D)           (None, 126, 46, 32)       320       \n",
      "                                                                 \n",
      " max_pooling2d_12 (MaxPooli  (None, 63, 23, 32)        0         \n",
      " ng2D)                                                           \n",
      "                                                                 \n",
      " batch_normalization_12 (Ba  (None, 63, 23, 32)        128       \n",
      " tchNormalization)                                               \n",
      "                                                                 \n",
      " II_Conv2D (Conv2D)          (None, 61, 21, 64)        18496     \n",
      "                                                                 \n",
      " max_pooling2d_13 (MaxPooli  (None, 30, 10, 64)        0         \n",
      " ng2D)                                                           \n",
      "                                                                 \n",
      " batch_normalization_13 (Ba  (None, 30, 10, 64)        256       \n",
      " tchNormalization)                                               \n",
      "                                                                 \n",
      " III_Conv2D (Conv2D)         (None, 28, 8, 128)        73856     \n",
      "                                                                 \n",
      " max_pooling2d_14 (MaxPooli  (None, 14, 4, 128)        0         \n",
      " ng2D)                                                           \n",
      "                                                                 \n",
      " batch_normalization_14 (Ba  (None, 14, 4, 128)        512       \n",
      " tchNormalization)                                               \n",
      "                                                                 \n",
      " flatten_5 (Flatten)         (None, 7168)              0         \n",
      "                                                                 \n",
      " I_layer (Dense)             (None, 64)                458816    \n",
      "                                                                 \n",
      " II_layer (Dense)            (None, 32)                2080      \n",
      "                                                                 \n",
      " III_layer (Dense)           (None, 16)                528       \n",
      "                                                                 \n",
      " Output_layer (Dense)        (None, 6)                 102       \n",
      "                                                                 \n",
      "=================================================================\n",
      "Total params: 555094 (2.12 MB)\n",
      "Trainable params: 554646 (2.12 MB)\n",
      "Non-trainable params: 448 (1.75 KB)\n",
      "_________________________________________________________________\n",
      "None \n",
      "\n"
     ]
    }
   ],
   "source": [
    "def MyModel_CNN(side_1, side_2, side_3):\n",
    "\n",
    "  CNN_inputs = tf.keras.Input(shape=(side_1, side_2, side_3))\n",
    "\n",
    "  x = tf.keras.layers.Conv2D(filters = 32,\n",
    "                            kernel_size = 3,\n",
    "                            strides = 1,\n",
    "                            padding = 'valid',\n",
    "                            activation = 'relu',\n",
    "                            name='I_Conv2D')(CNN_inputs)\n",
    "  x = tf.keras.layers.MaxPool2D(pool_size = 2)(x)\n",
    "  x = tf.keras.layers.BatchNormalization()(x)\n",
    "\n",
    "  x = tf.keras.layers.Conv2D(64, 3, 1, padding='valid', activation = 'relu', name='II_Conv2D')(x)\n",
    "  x = tf.keras.layers.MaxPool2D(2)(x)\n",
    "  x = tf.keras.layers.BatchNormalization()(x)\n",
    "\n",
    "  x = tf.keras.layers.Conv2D(128, 3, 1, padding='valid', activation = 'relu', name='III_Conv2D')(x)\n",
    "  x = tf.keras.layers.MaxPool2D(2)(x)\n",
    "  x = tf.keras.layers.BatchNormalization()(x)\n",
    "\n",
    "  x = tf.keras.layers.Flatten()(x)\n",
    "\n",
    "  x = tf.keras.layers.Dense(64, activation='relu', name='I_layer')(x)\n",
    "  x = tf.keras.layers.Dense(32, activation='relu', name='II_layer')(x)\n",
    "  x = tf.keras.layers.Dense(16, activation='relu', name='III_layer')(x)\n",
    "                                                                                                      # le classi di output sono 6 giusto\n",
    "  CNN_outputs = tf.keras.layers.Dense(6, activation='softmax', name='Output_layer')(x)                # sto gia' facendo qui il softmax\n",
    "\n",
    "  # Create model\n",
    "  model = tf.keras.Model(inputs=CNN_inputs, outputs=CNN_outputs)\n",
    "\n",
    "  return model\n",
    "\n",
    "\n",
    "CNN_classifier_model = MyModel_CNN(128, 48, 1)\n",
    "CNN_classifier_model.compile(\n",
    "    loss = keras.losses.SparseCategoricalCrossentropy(from_logits=False),\n",
    "    optimizer = keras.optimizers.Adam(learning_rate=0.001),\n",
    "    metrics=['accuracy']\n",
    ")\n",
    "\n",
    "print(CNN_classifier_model.summary(), '\\n')"
   ]
  },
  {
   "cell_type": "code",
   "execution_count": 70,
   "id": "G9JlAPks0c_b",
   "metadata": {
    "colab": {
     "base_uri": "https://localhost:8080/",
     "height": 442
    },
    "executionInfo": {
     "elapsed": 111900,
     "status": "error",
     "timestamp": 1707734154277,
     "user": {
      "displayName": "francesco zane",
      "userId": "08919801149381164577"
     },
     "user_tz": -60
    },
    "id": "G9JlAPks0c_b",
    "outputId": "c762715d-b25b-412b-b323-a71e267260db"
   },
   "outputs": [
    {
     "name": "stdout",
     "output_type": "stream",
     "text": [
      "Epoch 1/30\n",
      "14/66 [=====>........................] - ETA: 6:54 - loss: 2.2131 - accuracy: 0.1071"
     ]
    },
    {
     "ename": "KeyboardInterrupt",
     "evalue": "",
     "output_type": "error",
     "traceback": [
      "\u001b[0;31m---------------------------------------------------------------------------\u001b[0m",
      "\u001b[0;31mKeyboardInterrupt\u001b[0m                         Traceback (most recent call last)",
      "\u001b[0;32m<ipython-input-70-18e7b93b5e96>\u001b[0m in \u001b[0;36m<cell line: 8>\u001b[0;34m()\u001b[0m\n\u001b[1;32m      6\u001b[0m \u001b[0;34m\u001b[0m\u001b[0m\n\u001b[1;32m      7\u001b[0m \u001b[0;31m# Fit the model\u001b[0m\u001b[0;34m\u001b[0m\u001b[0;34m\u001b[0m\u001b[0m\n\u001b[0;32m----> 8\u001b[0;31m history = CNN_classifier_model.fit(dataset_train_p,\n\u001b[0m\u001b[1;32m      9\u001b[0m                                    \u001b[0mepochs\u001b[0m\u001b[0;34m=\u001b[0m\u001b[0mnum_epochs\u001b[0m\u001b[0;34m,\u001b[0m\u001b[0;34m\u001b[0m\u001b[0;34m\u001b[0m\u001b[0m\n\u001b[1;32m     10\u001b[0m                                    \u001b[0msteps_per_epoch\u001b[0m\u001b[0;34m=\u001b[0m\u001b[0mtrain_steps_p\u001b[0m\u001b[0;34m,\u001b[0m\u001b[0;34m\u001b[0m\u001b[0;34m\u001b[0m\u001b[0m\n",
      "\u001b[0;32m/usr/local/lib/python3.10/dist-packages/keras/src/utils/traceback_utils.py\u001b[0m in \u001b[0;36merror_handler\u001b[0;34m(*args, **kwargs)\u001b[0m\n\u001b[1;32m     63\u001b[0m         \u001b[0mfiltered_tb\u001b[0m \u001b[0;34m=\u001b[0m \u001b[0;32mNone\u001b[0m\u001b[0;34m\u001b[0m\u001b[0;34m\u001b[0m\u001b[0m\n\u001b[1;32m     64\u001b[0m         \u001b[0;32mtry\u001b[0m\u001b[0;34m:\u001b[0m\u001b[0;34m\u001b[0m\u001b[0;34m\u001b[0m\u001b[0m\n\u001b[0;32m---> 65\u001b[0;31m             \u001b[0;32mreturn\u001b[0m \u001b[0mfn\u001b[0m\u001b[0;34m(\u001b[0m\u001b[0;34m*\u001b[0m\u001b[0margs\u001b[0m\u001b[0;34m,\u001b[0m \u001b[0;34m**\u001b[0m\u001b[0mkwargs\u001b[0m\u001b[0;34m)\u001b[0m\u001b[0;34m\u001b[0m\u001b[0;34m\u001b[0m\u001b[0m\n\u001b[0m\u001b[1;32m     66\u001b[0m         \u001b[0;32mexcept\u001b[0m \u001b[0mException\u001b[0m \u001b[0;32mas\u001b[0m \u001b[0me\u001b[0m\u001b[0;34m:\u001b[0m\u001b[0;34m\u001b[0m\u001b[0;34m\u001b[0m\u001b[0m\n\u001b[1;32m     67\u001b[0m             \u001b[0mfiltered_tb\u001b[0m \u001b[0;34m=\u001b[0m \u001b[0m_process_traceback_frames\u001b[0m\u001b[0;34m(\u001b[0m\u001b[0me\u001b[0m\u001b[0;34m.\u001b[0m\u001b[0m__traceback__\u001b[0m\u001b[0;34m)\u001b[0m\u001b[0;34m\u001b[0m\u001b[0;34m\u001b[0m\u001b[0m\n",
      "\u001b[0;32m/usr/local/lib/python3.10/dist-packages/keras/src/engine/training.py\u001b[0m in \u001b[0;36mfit\u001b[0;34m(self, x, y, batch_size, epochs, verbose, callbacks, validation_split, validation_data, shuffle, class_weight, sample_weight, initial_epoch, steps_per_epoch, validation_steps, validation_batch_size, validation_freq, max_queue_size, workers, use_multiprocessing)\u001b[0m\n\u001b[1;32m   1805\u001b[0m                         ):\n\u001b[1;32m   1806\u001b[0m                             \u001b[0mcallbacks\u001b[0m\u001b[0;34m.\u001b[0m\u001b[0mon_train_batch_begin\u001b[0m\u001b[0;34m(\u001b[0m\u001b[0mstep\u001b[0m\u001b[0;34m)\u001b[0m\u001b[0;34m\u001b[0m\u001b[0;34m\u001b[0m\u001b[0m\n\u001b[0;32m-> 1807\u001b[0;31m                             \u001b[0mtmp_logs\u001b[0m \u001b[0;34m=\u001b[0m \u001b[0mself\u001b[0m\u001b[0;34m.\u001b[0m\u001b[0mtrain_function\u001b[0m\u001b[0;34m(\u001b[0m\u001b[0miterator\u001b[0m\u001b[0;34m)\u001b[0m\u001b[0;34m\u001b[0m\u001b[0;34m\u001b[0m\u001b[0m\n\u001b[0m\u001b[1;32m   1808\u001b[0m                             \u001b[0;32mif\u001b[0m \u001b[0mdata_handler\u001b[0m\u001b[0;34m.\u001b[0m\u001b[0mshould_sync\u001b[0m\u001b[0;34m:\u001b[0m\u001b[0;34m\u001b[0m\u001b[0;34m\u001b[0m\u001b[0m\n\u001b[1;32m   1809\u001b[0m                                 \u001b[0mcontext\u001b[0m\u001b[0;34m.\u001b[0m\u001b[0masync_wait\u001b[0m\u001b[0;34m(\u001b[0m\u001b[0;34m)\u001b[0m\u001b[0;34m\u001b[0m\u001b[0;34m\u001b[0m\u001b[0m\n",
      "\u001b[0;32m/usr/local/lib/python3.10/dist-packages/tensorflow/python/util/traceback_utils.py\u001b[0m in \u001b[0;36merror_handler\u001b[0;34m(*args, **kwargs)\u001b[0m\n\u001b[1;32m    148\u001b[0m     \u001b[0mfiltered_tb\u001b[0m \u001b[0;34m=\u001b[0m \u001b[0;32mNone\u001b[0m\u001b[0;34m\u001b[0m\u001b[0;34m\u001b[0m\u001b[0m\n\u001b[1;32m    149\u001b[0m     \u001b[0;32mtry\u001b[0m\u001b[0;34m:\u001b[0m\u001b[0;34m\u001b[0m\u001b[0;34m\u001b[0m\u001b[0m\n\u001b[0;32m--> 150\u001b[0;31m       \u001b[0;32mreturn\u001b[0m \u001b[0mfn\u001b[0m\u001b[0;34m(\u001b[0m\u001b[0;34m*\u001b[0m\u001b[0margs\u001b[0m\u001b[0;34m,\u001b[0m \u001b[0;34m**\u001b[0m\u001b[0mkwargs\u001b[0m\u001b[0;34m)\u001b[0m\u001b[0;34m\u001b[0m\u001b[0;34m\u001b[0m\u001b[0m\n\u001b[0m\u001b[1;32m    151\u001b[0m     \u001b[0;32mexcept\u001b[0m \u001b[0mException\u001b[0m \u001b[0;32mas\u001b[0m \u001b[0me\u001b[0m\u001b[0;34m:\u001b[0m\u001b[0;34m\u001b[0m\u001b[0;34m\u001b[0m\u001b[0m\n\u001b[1;32m    152\u001b[0m       \u001b[0mfiltered_tb\u001b[0m \u001b[0;34m=\u001b[0m \u001b[0m_process_traceback_frames\u001b[0m\u001b[0;34m(\u001b[0m\u001b[0me\u001b[0m\u001b[0;34m.\u001b[0m\u001b[0m__traceback__\u001b[0m\u001b[0;34m)\u001b[0m\u001b[0;34m\u001b[0m\u001b[0;34m\u001b[0m\u001b[0m\n",
      "\u001b[0;32m/usr/local/lib/python3.10/dist-packages/tensorflow/python/eager/polymorphic_function/polymorphic_function.py\u001b[0m in \u001b[0;36m__call__\u001b[0;34m(self, *args, **kwds)\u001b[0m\n\u001b[1;32m    830\u001b[0m \u001b[0;34m\u001b[0m\u001b[0m\n\u001b[1;32m    831\u001b[0m       \u001b[0;32mwith\u001b[0m \u001b[0mOptionalXlaContext\u001b[0m\u001b[0;34m(\u001b[0m\u001b[0mself\u001b[0m\u001b[0;34m.\u001b[0m\u001b[0m_jit_compile\u001b[0m\u001b[0;34m)\u001b[0m\u001b[0;34m:\u001b[0m\u001b[0;34m\u001b[0m\u001b[0;34m\u001b[0m\u001b[0m\n\u001b[0;32m--> 832\u001b[0;31m         \u001b[0mresult\u001b[0m \u001b[0;34m=\u001b[0m \u001b[0mself\u001b[0m\u001b[0;34m.\u001b[0m\u001b[0m_call\u001b[0m\u001b[0;34m(\u001b[0m\u001b[0;34m*\u001b[0m\u001b[0margs\u001b[0m\u001b[0;34m,\u001b[0m \u001b[0;34m**\u001b[0m\u001b[0mkwds\u001b[0m\u001b[0;34m)\u001b[0m\u001b[0;34m\u001b[0m\u001b[0;34m\u001b[0m\u001b[0m\n\u001b[0m\u001b[1;32m    833\u001b[0m \u001b[0;34m\u001b[0m\u001b[0m\n\u001b[1;32m    834\u001b[0m       \u001b[0mnew_tracing_count\u001b[0m \u001b[0;34m=\u001b[0m \u001b[0mself\u001b[0m\u001b[0;34m.\u001b[0m\u001b[0mexperimental_get_tracing_count\u001b[0m\u001b[0;34m(\u001b[0m\u001b[0;34m)\u001b[0m\u001b[0;34m\u001b[0m\u001b[0;34m\u001b[0m\u001b[0m\n",
      "\u001b[0;32m/usr/local/lib/python3.10/dist-packages/tensorflow/python/eager/polymorphic_function/polymorphic_function.py\u001b[0m in \u001b[0;36m_call\u001b[0;34m(self, *args, **kwds)\u001b[0m\n\u001b[1;32m    866\u001b[0m       \u001b[0;31m# In this case we have created variables on the first call, so we run the\u001b[0m\u001b[0;34m\u001b[0m\u001b[0;34m\u001b[0m\u001b[0m\n\u001b[1;32m    867\u001b[0m       \u001b[0;31m# defunned version which is guaranteed to never create variables.\u001b[0m\u001b[0;34m\u001b[0m\u001b[0;34m\u001b[0m\u001b[0m\n\u001b[0;32m--> 868\u001b[0;31m       return tracing_compilation.call_function(\n\u001b[0m\u001b[1;32m    869\u001b[0m           \u001b[0margs\u001b[0m\u001b[0;34m,\u001b[0m \u001b[0mkwds\u001b[0m\u001b[0;34m,\u001b[0m \u001b[0mself\u001b[0m\u001b[0;34m.\u001b[0m\u001b[0m_no_variable_creation_config\u001b[0m\u001b[0;34m\u001b[0m\u001b[0;34m\u001b[0m\u001b[0m\n\u001b[1;32m    870\u001b[0m       )\n",
      "\u001b[0;32m/usr/local/lib/python3.10/dist-packages/tensorflow/python/eager/polymorphic_function/tracing_compilation.py\u001b[0m in \u001b[0;36mcall_function\u001b[0;34m(args, kwargs, tracing_options)\u001b[0m\n\u001b[1;32m    137\u001b[0m   \u001b[0mbound_args\u001b[0m \u001b[0;34m=\u001b[0m \u001b[0mfunction\u001b[0m\u001b[0;34m.\u001b[0m\u001b[0mfunction_type\u001b[0m\u001b[0;34m.\u001b[0m\u001b[0mbind\u001b[0m\u001b[0;34m(\u001b[0m\u001b[0;34m*\u001b[0m\u001b[0margs\u001b[0m\u001b[0;34m,\u001b[0m \u001b[0;34m**\u001b[0m\u001b[0mkwargs\u001b[0m\u001b[0;34m)\u001b[0m\u001b[0;34m\u001b[0m\u001b[0;34m\u001b[0m\u001b[0m\n\u001b[1;32m    138\u001b[0m   \u001b[0mflat_inputs\u001b[0m \u001b[0;34m=\u001b[0m \u001b[0mfunction\u001b[0m\u001b[0;34m.\u001b[0m\u001b[0mfunction_type\u001b[0m\u001b[0;34m.\u001b[0m\u001b[0munpack_inputs\u001b[0m\u001b[0;34m(\u001b[0m\u001b[0mbound_args\u001b[0m\u001b[0;34m)\u001b[0m\u001b[0;34m\u001b[0m\u001b[0;34m\u001b[0m\u001b[0m\n\u001b[0;32m--> 139\u001b[0;31m   return function._call_flat(  # pylint: disable=protected-access\n\u001b[0m\u001b[1;32m    140\u001b[0m       \u001b[0mflat_inputs\u001b[0m\u001b[0;34m,\u001b[0m \u001b[0mcaptured_inputs\u001b[0m\u001b[0;34m=\u001b[0m\u001b[0mfunction\u001b[0m\u001b[0;34m.\u001b[0m\u001b[0mcaptured_inputs\u001b[0m\u001b[0;34m\u001b[0m\u001b[0;34m\u001b[0m\u001b[0m\n\u001b[1;32m    141\u001b[0m   )\n",
      "\u001b[0;32m/usr/local/lib/python3.10/dist-packages/tensorflow/python/eager/polymorphic_function/concrete_function.py\u001b[0m in \u001b[0;36m_call_flat\u001b[0;34m(self, tensor_inputs, captured_inputs)\u001b[0m\n\u001b[1;32m   1321\u001b[0m         and executing_eagerly):\n\u001b[1;32m   1322\u001b[0m       \u001b[0;31m# No tape is watching; skip to running the function.\u001b[0m\u001b[0;34m\u001b[0m\u001b[0;34m\u001b[0m\u001b[0m\n\u001b[0;32m-> 1323\u001b[0;31m       \u001b[0;32mreturn\u001b[0m \u001b[0mself\u001b[0m\u001b[0;34m.\u001b[0m\u001b[0m_inference_function\u001b[0m\u001b[0;34m.\u001b[0m\u001b[0mcall_preflattened\u001b[0m\u001b[0;34m(\u001b[0m\u001b[0margs\u001b[0m\u001b[0;34m)\u001b[0m\u001b[0;34m\u001b[0m\u001b[0;34m\u001b[0m\u001b[0m\n\u001b[0m\u001b[1;32m   1324\u001b[0m     forward_backward = self._select_forward_and_backward_functions(\n\u001b[1;32m   1325\u001b[0m         \u001b[0margs\u001b[0m\u001b[0;34m,\u001b[0m\u001b[0;34m\u001b[0m\u001b[0;34m\u001b[0m\u001b[0m\n",
      "\u001b[0;32m/usr/local/lib/python3.10/dist-packages/tensorflow/python/eager/polymorphic_function/atomic_function.py\u001b[0m in \u001b[0;36mcall_preflattened\u001b[0;34m(self, args)\u001b[0m\n\u001b[1;32m    214\u001b[0m   \u001b[0;32mdef\u001b[0m \u001b[0mcall_preflattened\u001b[0m\u001b[0;34m(\u001b[0m\u001b[0mself\u001b[0m\u001b[0;34m,\u001b[0m \u001b[0margs\u001b[0m\u001b[0;34m:\u001b[0m \u001b[0mSequence\u001b[0m\u001b[0;34m[\u001b[0m\u001b[0mcore\u001b[0m\u001b[0;34m.\u001b[0m\u001b[0mTensor\u001b[0m\u001b[0;34m]\u001b[0m\u001b[0;34m)\u001b[0m \u001b[0;34m->\u001b[0m \u001b[0mAny\u001b[0m\u001b[0;34m:\u001b[0m\u001b[0;34m\u001b[0m\u001b[0;34m\u001b[0m\u001b[0m\n\u001b[1;32m    215\u001b[0m     \u001b[0;34m\"\"\"Calls with flattened tensor inputs and returns the structured output.\"\"\"\u001b[0m\u001b[0;34m\u001b[0m\u001b[0;34m\u001b[0m\u001b[0m\n\u001b[0;32m--> 216\u001b[0;31m     \u001b[0mflat_outputs\u001b[0m \u001b[0;34m=\u001b[0m \u001b[0mself\u001b[0m\u001b[0;34m.\u001b[0m\u001b[0mcall_flat\u001b[0m\u001b[0;34m(\u001b[0m\u001b[0;34m*\u001b[0m\u001b[0margs\u001b[0m\u001b[0;34m)\u001b[0m\u001b[0;34m\u001b[0m\u001b[0;34m\u001b[0m\u001b[0m\n\u001b[0m\u001b[1;32m    217\u001b[0m     \u001b[0;32mreturn\u001b[0m \u001b[0mself\u001b[0m\u001b[0;34m.\u001b[0m\u001b[0mfunction_type\u001b[0m\u001b[0;34m.\u001b[0m\u001b[0mpack_output\u001b[0m\u001b[0;34m(\u001b[0m\u001b[0mflat_outputs\u001b[0m\u001b[0;34m)\u001b[0m\u001b[0;34m\u001b[0m\u001b[0;34m\u001b[0m\u001b[0m\n\u001b[1;32m    218\u001b[0m \u001b[0;34m\u001b[0m\u001b[0m\n",
      "\u001b[0;32m/usr/local/lib/python3.10/dist-packages/tensorflow/python/eager/polymorphic_function/atomic_function.py\u001b[0m in \u001b[0;36mcall_flat\u001b[0;34m(self, *args)\u001b[0m\n\u001b[1;32m    249\u001b[0m         \u001b[0;32mwith\u001b[0m \u001b[0mrecord\u001b[0m\u001b[0;34m.\u001b[0m\u001b[0mstop_recording\u001b[0m\u001b[0;34m(\u001b[0m\u001b[0;34m)\u001b[0m\u001b[0;34m:\u001b[0m\u001b[0;34m\u001b[0m\u001b[0;34m\u001b[0m\u001b[0m\n\u001b[1;32m    250\u001b[0m           \u001b[0;32mif\u001b[0m \u001b[0mself\u001b[0m\u001b[0;34m.\u001b[0m\u001b[0m_bound_context\u001b[0m\u001b[0;34m.\u001b[0m\u001b[0mexecuting_eagerly\u001b[0m\u001b[0;34m(\u001b[0m\u001b[0;34m)\u001b[0m\u001b[0;34m:\u001b[0m\u001b[0;34m\u001b[0m\u001b[0;34m\u001b[0m\u001b[0m\n\u001b[0;32m--> 251\u001b[0;31m             outputs = self._bound_context.call_function(\n\u001b[0m\u001b[1;32m    252\u001b[0m                 \u001b[0mself\u001b[0m\u001b[0;34m.\u001b[0m\u001b[0mname\u001b[0m\u001b[0;34m,\u001b[0m\u001b[0;34m\u001b[0m\u001b[0;34m\u001b[0m\u001b[0m\n\u001b[1;32m    253\u001b[0m                 \u001b[0mlist\u001b[0m\u001b[0;34m(\u001b[0m\u001b[0margs\u001b[0m\u001b[0;34m)\u001b[0m\u001b[0;34m,\u001b[0m\u001b[0;34m\u001b[0m\u001b[0;34m\u001b[0m\u001b[0m\n",
      "\u001b[0;32m/usr/local/lib/python3.10/dist-packages/tensorflow/python/eager/context.py\u001b[0m in \u001b[0;36mcall_function\u001b[0;34m(self, name, tensor_inputs, num_outputs)\u001b[0m\n\u001b[1;32m   1484\u001b[0m     \u001b[0mcancellation_context\u001b[0m \u001b[0;34m=\u001b[0m \u001b[0mcancellation\u001b[0m\u001b[0;34m.\u001b[0m\u001b[0mcontext\u001b[0m\u001b[0;34m(\u001b[0m\u001b[0;34m)\u001b[0m\u001b[0;34m\u001b[0m\u001b[0;34m\u001b[0m\u001b[0m\n\u001b[1;32m   1485\u001b[0m     \u001b[0;32mif\u001b[0m \u001b[0mcancellation_context\u001b[0m \u001b[0;32mis\u001b[0m \u001b[0;32mNone\u001b[0m\u001b[0;34m:\u001b[0m\u001b[0;34m\u001b[0m\u001b[0;34m\u001b[0m\u001b[0m\n\u001b[0;32m-> 1486\u001b[0;31m       outputs = execute.execute(\n\u001b[0m\u001b[1;32m   1487\u001b[0m           \u001b[0mname\u001b[0m\u001b[0;34m.\u001b[0m\u001b[0mdecode\u001b[0m\u001b[0;34m(\u001b[0m\u001b[0;34m\"utf-8\"\u001b[0m\u001b[0;34m)\u001b[0m\u001b[0;34m,\u001b[0m\u001b[0;34m\u001b[0m\u001b[0;34m\u001b[0m\u001b[0m\n\u001b[1;32m   1488\u001b[0m           \u001b[0mnum_outputs\u001b[0m\u001b[0;34m=\u001b[0m\u001b[0mnum_outputs\u001b[0m\u001b[0;34m,\u001b[0m\u001b[0;34m\u001b[0m\u001b[0;34m\u001b[0m\u001b[0m\n",
      "\u001b[0;32m/usr/local/lib/python3.10/dist-packages/tensorflow/python/eager/execute.py\u001b[0m in \u001b[0;36mquick_execute\u001b[0;34m(op_name, num_outputs, inputs, attrs, ctx, name)\u001b[0m\n\u001b[1;32m     51\u001b[0m   \u001b[0;32mtry\u001b[0m\u001b[0;34m:\u001b[0m\u001b[0;34m\u001b[0m\u001b[0;34m\u001b[0m\u001b[0m\n\u001b[1;32m     52\u001b[0m     \u001b[0mctx\u001b[0m\u001b[0;34m.\u001b[0m\u001b[0mensure_initialized\u001b[0m\u001b[0;34m(\u001b[0m\u001b[0;34m)\u001b[0m\u001b[0;34m\u001b[0m\u001b[0;34m\u001b[0m\u001b[0m\n\u001b[0;32m---> 53\u001b[0;31m     tensors = pywrap_tfe.TFE_Py_Execute(ctx._handle, device_name, op_name,\n\u001b[0m\u001b[1;32m     54\u001b[0m                                         inputs, attrs, num_outputs)\n\u001b[1;32m     55\u001b[0m   \u001b[0;32mexcept\u001b[0m \u001b[0mcore\u001b[0m\u001b[0;34m.\u001b[0m\u001b[0m_NotOkStatusException\u001b[0m \u001b[0;32mas\u001b[0m \u001b[0me\u001b[0m\u001b[0;34m:\u001b[0m\u001b[0;34m\u001b[0m\u001b[0;34m\u001b[0m\u001b[0m\n",
      "\u001b[0;31mKeyboardInterrupt\u001b[0m: "
     ]
    }
   ],
   "source": [
    "# Train the model\n",
    "num_epochs = 30\n",
    "\n",
    "early_stop_callback = tf.keras.callbacks.EarlyStopping(monitor='val_loss',\n",
    "                                                       patience=5)\n",
    "\n",
    "# Fit the model\n",
    "history = CNN_classifier_model.fit(dataset_train_p,\n",
    "                                   epochs=num_epochs,\n",
    "                                   steps_per_epoch=train_steps_p,\n",
    "                                   validation_data=dataset_val_p,\n",
    "                                   validation_steps=val_steps_p,\n",
    "                                   callbacks=[early_stop_callback])\n",
    "\n",
    "\n",
    "CNN_classifier_model.save('my_model.h5')"
   ]
  }
 ],
 "metadata": {
  "colab": {
   "collapsed_sections": [
    "c_lGtIPPIFGB",
    "a89958bf",
    "8TqhxEiIj5GZ",
    "BCCxHPmuI27q",
    "FwNPQqTjwmJ7",
    "c-afifcwjc74",
    "9CLMet5Qjc75",
    "HwlG5PWCKieK",
    "rO4-6gGSKieW",
    "CXV458_KKieW",
    "xGwn8vhDL-6b",
    "yHKLznfMKieW",
    "h1N_HhmLPCyw",
    "cEJMXN9KKCDA"
   ],
   "provenance": []
  },
  "kernelspec": {
   "display_name": "Python 3 (ipykernel)",
   "language": "python",
   "name": "python3"
  },
  "language_info": {
   "codemirror_mode": {
    "name": "ipython",
    "version": 3
   },
   "file_extension": ".py",
   "mimetype": "text/x-python",
   "name": "python",
   "nbconvert_exporter": "python",
   "pygments_lexer": "ipython3",
   "version": "3.10.9"
  }
 },
 "nbformat": 4,
 "nbformat_minor": 5
}
