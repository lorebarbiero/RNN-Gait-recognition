{
 "cells": [
  {
   "cell_type": "markdown",
   "id": "2037c21f",
   "metadata": {},
   "source": [
    "# Proper big notebook"
   ]
  },
  {
   "cell_type": "code",
   "execution_count": 23,
   "id": "857ea701",
   "metadata": {},
   "outputs": [],
   "source": [
    "#import packages\n",
    "import pandas as pd\n",
    "import tensorflow as tf\n",
    "import numpy as np\n",
    "import time\n",
    "import os\n",
    "import zipfile\n",
    "import platform\n",
    "from scipy.signal import medfilt\n",
    "from tqdm import tqdm\n",
    "from scipy.io import loadmat\n",
    "from sklearn.model_selection import train_test_split\n",
    "from sklearn.metrics import precision_recall_fscore_support, roc_curve, auc, accuracy_score, precision_recall_curve\n",
    "import matplotlib.pyplot as plt\n",
    "from sklearn.preprocessing import LabelEncoder\n",
    "from keras.utils import np_utils\n",
    "\n",
    "\n",
    "import matplotlib as mpl\n",
    "mpl.rcParams['figure.figsize'] = (10, 6)\n",
    "mpl.rcParams['axes.grid'] = True\n",
    "mpl.rcParams['legend.fontsize'] = 'large'"
   ]
  },
  {
   "cell_type": "code",
   "execution_count": 6,
   "id": "99d79f2a",
   "metadata": {},
   "outputs": [
    {
     "name": "stdout",
     "output_type": "stream",
     "text": [
      "root directory is /Users/lorenzobarbiero/Documents/GitHub/CNN-Gait-recognition\n"
     ]
    }
   ],
   "source": [
    "if platform.system() == \"Darwin\":\n",
    "    root_directory = '/Users/lorenzobarbiero/Documents/GitHub/CNN-Gait-recognition'\n",
    "else:\n",
    "    root_directory = None ##Francesco qui metti il tuo path\n",
    "    \n",
    "print('root directory is ' + root_directory)"
   ]
  },
  {
   "cell_type": "markdown",
   "id": "f730a0a2",
   "metadata": {},
   "source": [
    "## Train/Test Split\n",
    "\n",
    "Load reference file, separate the two different data types and one hot encode the labels"
   ]
  },
  {
   "cell_type": "code",
   "execution_count": 160,
   "id": "fba955f7",
   "metadata": {},
   "outputs": [
    {
     "data": {
      "text/html": [
       "<div>\n",
       "<style scoped>\n",
       "    .dataframe tbody tr th:only-of-type {\n",
       "        vertical-align: middle;\n",
       "    }\n",
       "\n",
       "    .dataframe tbody tr th {\n",
       "        vertical-align: top;\n",
       "    }\n",
       "\n",
       "    .dataframe thead th {\n",
       "        text-align: right;\n",
       "    }\n",
       "</style>\n",
       "<table border=\"1\" class=\"dataframe\">\n",
       "  <thead>\n",
       "    <tr style=\"text-align: right;\">\n",
       "      <th></th>\n",
       "      <th>File Name</th>\n",
       "      <th>Path from Root</th>\n",
       "      <th>Type</th>\n",
       "      <th>Label</th>\n",
       "    </tr>\n",
       "  </thead>\n",
       "  <tbody>\n",
       "    <tr>\n",
       "      <th>0</th>\n",
       "      <td>Sbj2_steppage_T9_P.csv</td>\n",
       "      <td>subject2/steppage/trial9/</td>\n",
       "      <td>pressure</td>\n",
       "      <td>steppage</td>\n",
       "    </tr>\n",
       "    <tr>\n",
       "      <th>1</th>\n",
       "      <td>Sbj2_steppage_T9_S.csv</td>\n",
       "      <td>subject2/steppage/trial9/</td>\n",
       "      <td>skeleton</td>\n",
       "      <td>steppage</td>\n",
       "    </tr>\n",
       "    <tr>\n",
       "      <th>2</th>\n",
       "      <td>Sbj2_steppage_T14_P.csv</td>\n",
       "      <td>subject2/steppage/trial14/</td>\n",
       "      <td>pressure</td>\n",
       "      <td>steppage</td>\n",
       "    </tr>\n",
       "    <tr>\n",
       "      <th>3</th>\n",
       "      <td>Sbj2_steppage_T14_S.csv</td>\n",
       "      <td>subject2/steppage/trial14/</td>\n",
       "      <td>skeleton</td>\n",
       "      <td>steppage</td>\n",
       "    </tr>\n",
       "    <tr>\n",
       "      <th>4</th>\n",
       "      <td>Sbj2_steppage_T13_S.csv</td>\n",
       "      <td>subject2/steppage/trial13/</td>\n",
       "      <td>skeleton</td>\n",
       "      <td>steppage</td>\n",
       "    </tr>\n",
       "    <tr>\n",
       "      <th>...</th>\n",
       "      <td>...</td>\n",
       "      <td>...</td>\n",
       "      <td>...</td>\n",
       "      <td>...</td>\n",
       "    </tr>\n",
       "    <tr>\n",
       "      <th>2875</th>\n",
       "      <td>Sbj9_trendelenburg_T11_S.csv</td>\n",
       "      <td>subject9/trendelenburg/trial11/</td>\n",
       "      <td>skeleton</td>\n",
       "      <td>trendelenburg</td>\n",
       "    </tr>\n",
       "    <tr>\n",
       "      <th>2876</th>\n",
       "      <td>Sbj9_trendelenburg_T18_S.csv</td>\n",
       "      <td>subject9/trendelenburg/trial18/</td>\n",
       "      <td>skeleton</td>\n",
       "      <td>trendelenburg</td>\n",
       "    </tr>\n",
       "    <tr>\n",
       "      <th>2877</th>\n",
       "      <td>Sbj9_trendelenburg_T18_P.csv</td>\n",
       "      <td>subject9/trendelenburg/trial18/</td>\n",
       "      <td>pressure</td>\n",
       "      <td>trendelenburg</td>\n",
       "    </tr>\n",
       "    <tr>\n",
       "      <th>2878</th>\n",
       "      <td>Sbj9_trendelenburg_T20_S.csv</td>\n",
       "      <td>subject9/trendelenburg/trial20/</td>\n",
       "      <td>skeleton</td>\n",
       "      <td>trendelenburg</td>\n",
       "    </tr>\n",
       "    <tr>\n",
       "      <th>2879</th>\n",
       "      <td>Sbj9_trendelenburg_T20_P.csv</td>\n",
       "      <td>subject9/trendelenburg/trial20/</td>\n",
       "      <td>pressure</td>\n",
       "      <td>trendelenburg</td>\n",
       "    </tr>\n",
       "  </tbody>\n",
       "</table>\n",
       "<p>2880 rows × 4 columns</p>\n",
       "</div>"
      ],
      "text/plain": [
       "                         File Name                   Path from Root      Type  \\\n",
       "0           Sbj2_steppage_T9_P.csv        subject2/steppage/trial9/  pressure   \n",
       "1           Sbj2_steppage_T9_S.csv        subject2/steppage/trial9/  skeleton   \n",
       "2          Sbj2_steppage_T14_P.csv       subject2/steppage/trial14/  pressure   \n",
       "3          Sbj2_steppage_T14_S.csv       subject2/steppage/trial14/  skeleton   \n",
       "4          Sbj2_steppage_T13_S.csv       subject2/steppage/trial13/  skeleton   \n",
       "...                            ...                              ...       ...   \n",
       "2875  Sbj9_trendelenburg_T11_S.csv  subject9/trendelenburg/trial11/  skeleton   \n",
       "2876  Sbj9_trendelenburg_T18_S.csv  subject9/trendelenburg/trial18/  skeleton   \n",
       "2877  Sbj9_trendelenburg_T18_P.csv  subject9/trendelenburg/trial18/  pressure   \n",
       "2878  Sbj9_trendelenburg_T20_S.csv  subject9/trendelenburg/trial20/  skeleton   \n",
       "2879  Sbj9_trendelenburg_T20_P.csv  subject9/trendelenburg/trial20/  pressure   \n",
       "\n",
       "              Label  \n",
       "0          steppage  \n",
       "1          steppage  \n",
       "2          steppage  \n",
       "3          steppage  \n",
       "4          steppage  \n",
       "...             ...  \n",
       "2875  trendelenburg  \n",
       "2876  trendelenburg  \n",
       "2877  trendelenburg  \n",
       "2878  trendelenburg  \n",
       "2879  trendelenburg  \n",
       "\n",
       "[2880 rows x 4 columns]"
      ]
     },
     "execution_count": 160,
     "metadata": {},
     "output_type": "execute_result"
    }
   ],
   "source": [
    "# Create a dataframe containing all the files and the labels from the reference file\n",
    "reference_df = pd.read_csv(root_directory+'/reference_document.csv')\n",
    "reference_df\n"
   ]
  },
  {
   "cell_type": "code",
   "execution_count": 65,
   "id": "8e8a7db8",
   "metadata": {},
   "outputs": [
    {
     "name": "stdout",
     "output_type": "stream",
     "text": [
      "Train Skelly\n",
      "trendelenburg    192\n",
      "steppage         192\n",
      "stifflegged      192\n",
      "antalgic         192\n",
      "lurching         192\n",
      "normal           192\n",
      "Name: Label, dtype: int64\n",
      "Val Skelly\n",
      "steppage         48\n",
      "normal           48\n",
      "lurching         48\n",
      "stifflegged      48\n",
      "trendelenburg    48\n",
      "antalgic         48\n",
      "Name: Label, dtype: int64\n",
      "Train Pressure\n",
      "trendelenburg    192\n",
      "steppage         192\n",
      "stifflegged      192\n",
      "antalgic         192\n",
      "lurching         192\n",
      "normal           192\n",
      "Name: Label, dtype: int64\n",
      "Val Pressure\n",
      "steppage         48\n",
      "normal           48\n",
      "lurching         48\n",
      "stifflegged      48\n",
      "trendelenburg    48\n",
      "antalgic         48\n",
      "Name: Label, dtype: int64\n"
     ]
    }
   ],
   "source": [
    "# Create a dataframe containing all the files and the labels from the reference file\n",
    "reference_df = pd.read_csv(root_directory+'/reference_document.csv')\n",
    "\n",
    "#split the dataframe into skeleton and pressure, drop the type column\n",
    "reference_df_s = reference_df[reference_df['Type']=='skeleton'].drop(columns='Type')\n",
    "reference_df_p = reference_df[reference_df['Type']=='pressure'].drop(columns='Type')\n",
    "\n",
    "#train_test split\n",
    "train_s, val_s = train_test_split(reference_df_s, test_size=0.2, stratify=reference_df_s['Label'], random_state=123)\n",
    "train_p, val_p = train_test_split(reference_df_p, test_size=0.2, stratify=reference_df_p['Label'], random_state=123)\n",
    "\n",
    "#frequence counts\n",
    "print(\"Train Skelly\")\n",
    "print(train_s['Label'].value_counts())\n",
    "print(\"Val Skelly\")\n",
    "print(val_s['Label'].value_counts())\n",
    "print(\"Train Pressure\")\n",
    "print(train_p['Label'].value_counts())\n",
    "print(\"Val Pressure\")\n",
    "print(val_p['Label'].value_counts())"
   ]
  },
  {
   "cell_type": "markdown",
   "id": "935fd999",
   "metadata": {},
   "source": [
    "1 hot encode labels"
   ]
  },
  {
   "cell_type": "code",
   "execution_count": 59,
   "id": "a61f306c",
   "metadata": {
    "scrolled": true
   },
   "outputs": [
    {
     "name": "stdout",
     "output_type": "stream",
     "text": [
      "[[0.00e+00 1.44e+03]\n",
      " [1.00e+00 2.88e+02]]\n"
     ]
    }
   ],
   "source": [
    "#1 hoe labels\n",
    "#create encoder\n",
    "#encoder = LabelEncoder()\n",
    "\n",
    "#train_s_labs = np_utils.to_categorical(encoder.fit(train_s['Label']).transform(train_s['Label']))\n",
    "#val_s_labs = np_utils.to_categorical(encoder.fit(val_s['Label']).transform(val_s['Label']))\n",
    "#train_p_labs = np_utils.to_categorical(encoder.fit(train_p['Label']).transform(train_p['Label']))\n",
    "#val_p_labs = np_utils.to_categorical(encoder.fit(val_p['Label']).transform(val_p['Label']))\n",
    "\n",
    "\n",
    "#unique, counts = np.unique(val_p_labs, return_counts=True)\n",
    "\n",
    "#print(np.asarray((unique, counts)).T)"
   ]
  },
  {
   "cell_type": "code",
   "execution_count": 66,
   "id": "2c961765",
   "metadata": {},
   "outputs": [
    {
     "data": {
      "text/html": [
       "<div>\n",
       "<style scoped>\n",
       "    .dataframe tbody tr th:only-of-type {\n",
       "        vertical-align: middle;\n",
       "    }\n",
       "\n",
       "    .dataframe tbody tr th {\n",
       "        vertical-align: top;\n",
       "    }\n",
       "\n",
       "    .dataframe thead th {\n",
       "        text-align: right;\n",
       "    }\n",
       "</style>\n",
       "<table border=\"1\" class=\"dataframe\">\n",
       "  <thead>\n",
       "    <tr style=\"text-align: right;\">\n",
       "      <th></th>\n",
       "      <th>File Name</th>\n",
       "      <th>Path from Root</th>\n",
       "      <th>Label_antalgic</th>\n",
       "      <th>Label_lurching</th>\n",
       "      <th>Label_normal</th>\n",
       "      <th>Label_steppage</th>\n",
       "      <th>Label_stifflegged</th>\n",
       "      <th>Label_trendelenburg</th>\n",
       "    </tr>\n",
       "  </thead>\n",
       "  <tbody>\n",
       "    <tr>\n",
       "      <th>974</th>\n",
       "      <td>Sbj3_steppage_T1_P</td>\n",
       "      <td>subject3/steppage/trial1/</td>\n",
       "      <td>0</td>\n",
       "      <td>0</td>\n",
       "      <td>0</td>\n",
       "      <td>1</td>\n",
       "      <td>0</td>\n",
       "      <td>0</td>\n",
       "    </tr>\n",
       "    <tr>\n",
       "      <th>2810</th>\n",
       "      <td>Sbj9_normal_T12_P</td>\n",
       "      <td>subject9/normal/trial12/</td>\n",
       "      <td>0</td>\n",
       "      <td>0</td>\n",
       "      <td>1</td>\n",
       "      <td>0</td>\n",
       "      <td>0</td>\n",
       "      <td>0</td>\n",
       "    </tr>\n",
       "    <tr>\n",
       "      <th>1336</th>\n",
       "      <td>Sbj8_lurching_T8_P</td>\n",
       "      <td>subject8/lurching/trial8/</td>\n",
       "      <td>0</td>\n",
       "      <td>1</td>\n",
       "      <td>0</td>\n",
       "      <td>0</td>\n",
       "      <td>0</td>\n",
       "      <td>0</td>\n",
       "    </tr>\n",
       "    <tr>\n",
       "      <th>1328</th>\n",
       "      <td>Sbj8_lurching_T6_P</td>\n",
       "      <td>subject8/lurching/trial6/</td>\n",
       "      <td>0</td>\n",
       "      <td>1</td>\n",
       "      <td>0</td>\n",
       "      <td>0</td>\n",
       "      <td>0</td>\n",
       "      <td>0</td>\n",
       "    </tr>\n",
       "    <tr>\n",
       "      <th>337</th>\n",
       "      <td>Sbj5_stiff-legged_T8_P</td>\n",
       "      <td>subject5/stiff-legged/trial8/</td>\n",
       "      <td>0</td>\n",
       "      <td>0</td>\n",
       "      <td>0</td>\n",
       "      <td>0</td>\n",
       "      <td>1</td>\n",
       "      <td>0</td>\n",
       "    </tr>\n",
       "    <tr>\n",
       "      <th>...</th>\n",
       "      <td>...</td>\n",
       "      <td>...</td>\n",
       "      <td>...</td>\n",
       "      <td>...</td>\n",
       "      <td>...</td>\n",
       "      <td>...</td>\n",
       "      <td>...</td>\n",
       "      <td>...</td>\n",
       "    </tr>\n",
       "    <tr>\n",
       "      <th>98</th>\n",
       "      <td>Sbj2_stiff-legged_T19_P</td>\n",
       "      <td>subject2/stiff-legged/trial19/</td>\n",
       "      <td>0</td>\n",
       "      <td>0</td>\n",
       "      <td>0</td>\n",
       "      <td>0</td>\n",
       "      <td>1</td>\n",
       "      <td>0</td>\n",
       "    </tr>\n",
       "    <tr>\n",
       "      <th>191</th>\n",
       "      <td>Sbj2_normal_T2_P</td>\n",
       "      <td>subject2/normal/trial2/</td>\n",
       "      <td>0</td>\n",
       "      <td>0</td>\n",
       "      <td>1</td>\n",
       "      <td>0</td>\n",
       "      <td>0</td>\n",
       "      <td>0</td>\n",
       "    </tr>\n",
       "    <tr>\n",
       "      <th>786</th>\n",
       "      <td>Sbj4_antalgic_T17_P</td>\n",
       "      <td>subject4/antalgic/trial17/</td>\n",
       "      <td>1</td>\n",
       "      <td>0</td>\n",
       "      <td>0</td>\n",
       "      <td>0</td>\n",
       "      <td>0</td>\n",
       "      <td>0</td>\n",
       "    </tr>\n",
       "    <tr>\n",
       "      <th>1613</th>\n",
       "      <td>Sbj6_normal_T15_P</td>\n",
       "      <td>subject6/normal/trial15/</td>\n",
       "      <td>0</td>\n",
       "      <td>0</td>\n",
       "      <td>1</td>\n",
       "      <td>0</td>\n",
       "      <td>0</td>\n",
       "      <td>0</td>\n",
       "    </tr>\n",
       "    <tr>\n",
       "      <th>644</th>\n",
       "      <td>Sbj12_normal_T13_P</td>\n",
       "      <td>subject12/normal/trial13/</td>\n",
       "      <td>0</td>\n",
       "      <td>0</td>\n",
       "      <td>1</td>\n",
       "      <td>0</td>\n",
       "      <td>0</td>\n",
       "      <td>0</td>\n",
       "    </tr>\n",
       "  </tbody>\n",
       "</table>\n",
       "<p>288 rows × 8 columns</p>\n",
       "</div>"
      ],
      "text/plain": [
       "                    File Name                  Path from Root  Label_antalgic  \\\n",
       "974        Sbj3_steppage_T1_P       subject3/steppage/trial1/               0   \n",
       "2810        Sbj9_normal_T12_P        subject9/normal/trial12/               0   \n",
       "1336       Sbj8_lurching_T8_P       subject8/lurching/trial8/               0   \n",
       "1328       Sbj8_lurching_T6_P       subject8/lurching/trial6/               0   \n",
       "337    Sbj5_stiff-legged_T8_P   subject5/stiff-legged/trial8/               0   \n",
       "...                       ...                             ...             ...   \n",
       "98    Sbj2_stiff-legged_T19_P  subject2/stiff-legged/trial19/               0   \n",
       "191          Sbj2_normal_T2_P         subject2/normal/trial2/               0   \n",
       "786       Sbj4_antalgic_T17_P      subject4/antalgic/trial17/               1   \n",
       "1613        Sbj6_normal_T15_P        subject6/normal/trial15/               0   \n",
       "644        Sbj12_normal_T13_P       subject12/normal/trial13/               0   \n",
       "\n",
       "      Label_lurching  Label_normal  Label_steppage  Label_stifflegged  \\\n",
       "974                0             0               1                  0   \n",
       "2810               0             1               0                  0   \n",
       "1336               1             0               0                  0   \n",
       "1328               1             0               0                  0   \n",
       "337                0             0               0                  1   \n",
       "...              ...           ...             ...                ...   \n",
       "98                 0             0               0                  1   \n",
       "191                0             1               0                  0   \n",
       "786                0             0               0                  0   \n",
       "1613               0             1               0                  0   \n",
       "644                0             1               0                  0   \n",
       "\n",
       "      Label_trendelenburg  \n",
       "974                     0  \n",
       "2810                    0  \n",
       "1336                    0  \n",
       "1328                    0  \n",
       "337                     0  \n",
       "...                   ...  \n",
       "98                      0  \n",
       "191                     0  \n",
       "786                     0  \n",
       "1613                    0  \n",
       "644                     0  \n",
       "\n",
       "[288 rows x 8 columns]"
      ]
     },
     "execution_count": 66,
     "metadata": {},
     "output_type": "execute_result"
    }
   ],
   "source": [
    "#1 hot encode labels\n",
    "train_s_labs = pd.get_dummies(data = train_s, columns=['Label'])\n",
    "val_s_labs = pd.get_dummies(data = val_s, columns=['Label'])\n",
    "train_p_labs = pd.get_dummies(data = train_p, columns=['Label'])\n",
    "val_p_labs = pd.get_dummies(data = val_p, columns=['Label'])\n",
    "\n",
    "val_p_labs"
   ]
  },
  {
   "cell_type": "markdown",
   "id": "d1b46f36",
   "metadata": {},
   "source": [
    "Train/test split"
   ]
  },
  {
   "cell_type": "markdown",
   "id": "d5bff905",
   "metadata": {},
   "source": [
    "## Preprocessing functions\n",
    "Common useful functions"
   ]
  },
  {
   "cell_type": "code",
   "execution_count": null,
   "id": "64f997b0",
   "metadata": {},
   "outputs": [],
   "source": []
  },
  {
   "cell_type": "markdown",
   "id": "a6f7c0ba",
   "metadata": {},
   "source": [
    "Skeleton specific functions"
   ]
  },
  {
   "cell_type": "code",
   "execution_count": null,
   "id": "c35fd33e",
   "metadata": {},
   "outputs": [],
   "source": []
  },
  {
   "cell_type": "markdown",
   "id": "f8a0e654",
   "metadata": {},
   "source": [
    "Plate specific functions"
   ]
  },
  {
   "cell_type": "code",
   "execution_count": null,
   "id": "fa22a421",
   "metadata": {},
   "outputs": [],
   "source": []
  },
  {
   "cell_type": "code",
   "execution_count": 162,
   "id": "a7dc616f",
   "metadata": {},
   "outputs": [
    {
     "data": {
      "text/plain": [
       "4    True\n",
       "Name: Type, dtype: bool"
      ]
     },
     "execution_count": 162,
     "metadata": {},
     "output_type": "execute_result"
    }
   ],
   "source": [
    "#file_name = 'Sbj4_antalgic_T17_P' #pressure example\n",
    "file_name = 'Sbj2_steppage_T13_S.csv' #skeleton example\n",
    "#a = reference_df[reference_df['File Name']==file_name,'Label']\n",
    "a = reference_df.loc[reference_df['File Name']==file_name,'Type'] == 'skeleton'\n",
    "a\n",
    "#print(reference_df.loc[reference_df['File Name']==file_name,'Type'] == 'pressure')\n"
   ]
  },
  {
   "cell_type": "code",
   "execution_count": 174,
   "id": "a89301ea",
   "metadata": {},
   "outputs": [
    {
     "data": {
      "text/plain": [
       "'/Users/lorenzobarbiero/Documents/GitHub/CNN-Gait-recognition/dataset/subject2/steppage/trial13/Sbj2_steppage_T13_S.csv'"
      ]
     },
     "execution_count": 174,
     "metadata": {},
     "output_type": "execute_result"
    }
   ],
   "source": [
    "filepath = root_directory + '/dataset/' + reference_df.loc[reference_df['File Name']==file_name,'Path from Root'] + file_name\n",
    "filepath.iloc[0]\n",
    "\n",
    "\n",
    "#df_skelly = pd.read_csv(filepath.iloc[0], header=None)\n",
    "#df_skelly = df_skelly.drop([df_skelly.columns[0],df_skelly.columns[-1]], axis=1)\n",
    "#df_skelly\n"
   ]
  },
  {
   "cell_type": "markdown",
   "id": "174ad447",
   "metadata": {},
   "source": [
    "## Input data pipeline"
   ]
  },
  {
   "cell_type": "code",
   "execution_count": 183,
   "id": "c0798f7c",
   "metadata": {},
   "outputs": [],
   "source": [
    "#load data function\n",
    "def load_data(file_name, ref_df):\n",
    "    #if isinstance(data_dir, bytes):\n",
    "    #    data_dir = data_dir.decode()\n",
    "    #if isinstance(file_name, bytes):\n",
    "    #    file_name = file_name.decode()\n",
    "        \n",
    "    print(file_name)\n",
    "    \n",
    "    #skeleton data\n",
    "    check = ref_df.loc[ref_df['File Name']==file_name,'Type'] == 'skeleton'\n",
    "    \n",
    "    if check.iloc[0] == True:\n",
    "        # Specify the path to the CSV file\n",
    "        filepath = root_directory + '/dataset/' + ref_df.loc[ref_df['File Name']==file_name,'Path from Root'] + file_name\n",
    "        print(filepath.iloc[0])\n",
    "    \n",
    "        # Read the CSV file into a pandas DataFrame, Drop time signature column and last empty column\n",
    "        df_skelly = pd.read_csv(filepath.iloc[0], header=None)\n",
    "        df_skelly = df_skelly.drop([df_skelly.columns[0],df_skelly.columns[-1]], axis=1)\n",
    "        \n",
    "        #convert to np array and reshape\n",
    "        data = df_skelly.to_numpy().reshape((-1,32,3))        \n",
    "        print(data.shape)\n",
    "    else:\n",
    "        None\n",
    "        \n",
    "    return data.squeeze()"
   ]
  },
  {
   "cell_type": "code",
   "execution_count": 186,
   "id": "e4e4dfbd",
   "metadata": {},
   "outputs": [
    {
     "name": "stdout",
     "output_type": "stream",
     "text": [
      "Sbj2_steppage_T13_S.csv\n",
      "/Users/lorenzobarbiero/Documents/GitHub/CNN-Gait-recognition/dataset/subject2/steppage/trial13/Sbj2_steppage_T13_S.csv\n",
      "(262, 32, 3)\n"
     ]
    },
    {
     "data": {
      "text/plain": [
       "(262, 32, 3)"
      ]
     },
     "execution_count": 186,
     "metadata": {},
     "output_type": "execute_result"
    }
   ],
   "source": [
    "a = load_data(file_name, reference_df)"
   ]
  }
 ],
 "metadata": {
  "kernelspec": {
   "display_name": "Python 3 (ipykernel)",
   "language": "python",
   "name": "python3"
  },
  "language_info": {
   "codemirror_mode": {
    "name": "ipython",
    "version": 3
   },
   "file_extension": ".py",
   "mimetype": "text/x-python",
   "name": "python",
   "nbconvert_exporter": "python",
   "pygments_lexer": "ipython3",
   "version": "3.10.9"
  }
 },
 "nbformat": 4,
 "nbformat_minor": 5
}
