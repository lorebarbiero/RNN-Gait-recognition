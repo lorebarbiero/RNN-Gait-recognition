{
 "cells": [
  {
   "cell_type": "markdown",
   "id": "99fdaa37",
   "metadata": {
    "id": "99fdaa37"
   },
   "source": [
    "# Gait classification"
   ]
  },
  {
   "cell_type": "markdown",
   "id": "c_lGtIPPIFGB",
   "metadata": {
    "id": "c_lGtIPPIFGB"
   },
   "source": [
    "## Libraries and directory"
   ]
  },
  {
   "cell_type": "code",
   "execution_count": 228,
   "id": "cabf903e",
   "metadata": {
    "executionInfo": {
     "elapsed": 11001,
     "status": "ok",
     "timestamp": 1707732003483,
     "user": {
      "displayName": "francesco zane",
      "userId": "08919801149381164577"
     },
     "user_tz": -60
    },
    "id": "cabf903e"
   },
   "outputs": [],
   "source": [
    "#import packages, there might be some extras\n",
    "import time\n",
    "import os\n",
    "import platform\n",
    "\n",
    "import pandas as pd\n",
    "import tensorflow as tf\n",
    "import numpy as np\n",
    "import numpy.random as npr\n",
    "from sklearn.model_selection import train_test_split\n",
    "from sklearn.metrics import precision_recall_fscore_support, roc_curve, auc, accuracy_score, precision_recall_curve\n",
    "from sklearn.preprocessing import LabelEncoder\n",
    "from sklearn.metrics import confusion_matrix\n",
    "import keras.utils\n",
    "from keras.preprocessing.image import ImageDataGenerator\n",
    "from tensorflow.keras import regularizers\n",
    "\n",
    "import matplotlib.pyplot as plt\n",
    "from matplotlib.animation import FuncAnimation\n",
    "import seaborn as sns\n",
    "import imageio\n",
    "from tqdm import tqdm\n",
    "\n",
    "plt.rcParams['figure.figsize'] = (10, 6)\n",
    "plt.rcParams['axes.grid'] = True\n",
    "plt.rcParams['legend.fontsize'] = 'large'\n",
    "\n"
   ]
  },
  {
   "cell_type": "code",
   "execution_count": null,
   "id": "NecsxbnlTncN",
   "metadata": {
    "colab": {
     "base_uri": "https://localhost:8080/"
    },
    "executionInfo": {
     "elapsed": 17837,
     "status": "ok",
     "timestamp": 1707732021309,
     "user": {
      "displayName": "francesco zane",
      "userId": "08919801149381164577"
     },
     "user_tz": -60
    },
    "id": "NecsxbnlTncN",
    "outputId": "e8c52287-2fee-400f-fa99-3a8d55d6a11c"
   },
   "outputs": [],
   "source": [
    "#from google.colab import drive\n",
    "#drive.mount('/content/drive')"
   ]
  },
  {
   "cell_type": "code",
   "execution_count": 2,
   "id": "ef543057",
   "metadata": {
    "colab": {
     "base_uri": "https://localhost:8080/"
    },
    "executionInfo": {
     "elapsed": 3,
     "status": "ok",
     "timestamp": 1707732021310,
     "user": {
      "displayName": "francesco zane",
      "userId": "08919801149381164577"
     },
     "user_tz": -60
    },
    "id": "ef543057",
    "outputId": "3220684b-8061-4516-c412-55d021d3916c"
   },
   "outputs": [
    {
     "name": "stdout",
     "output_type": "stream",
     "text": [
      "root directory is /Users/lorenzobarbiero/Documents/GitHub/CNN-Gait-recognition\n"
     ]
    }
   ],
   "source": [
    "if platform.system() == \"Darwin\":\n",
    "    root_directory = '/Users/lorenzobarbiero/Documents/GitHub/CNN-Gait-recognition'\n",
    "else:\n",
    "    from google.colab import drive\n",
    "    drive.mount('/content/drive')\n",
    "    root_directory = '/content/drive/MyDrive/Human_Data/Progetto'\n",
    "\n",
    "print('root directory is ' + root_directory)"
   ]
  },
  {
   "cell_type": "markdown",
   "id": "a89958bf",
   "metadata": {
    "id": "a89958bf"
   },
   "source": [
    "## Train/Test Split\n"
   ]
  },
  {
   "cell_type": "code",
   "execution_count": 4,
   "id": "be31b58f",
   "metadata": {
    "colab": {
     "base_uri": "https://localhost:8080/",
     "height": 0
    },
    "executionInfo": {
     "elapsed": 1013,
     "status": "ok",
     "timestamp": 1707732024670,
     "user": {
      "displayName": "francesco zane",
      "userId": "08919801149381164577"
     },
     "user_tz": -60
    },
    "id": "be31b58f",
    "outputId": "85a078ed-4f7d-4eb2-a7a1-b59b44b32ff3"
   },
   "outputs": [
    {
     "data": {
      "text/html": [
       "<div>\n",
       "<style scoped>\n",
       "    .dataframe tbody tr th:only-of-type {\n",
       "        vertical-align: middle;\n",
       "    }\n",
       "\n",
       "    .dataframe tbody tr th {\n",
       "        vertical-align: top;\n",
       "    }\n",
       "\n",
       "    .dataframe thead th {\n",
       "        text-align: right;\n",
       "    }\n",
       "</style>\n",
       "<table border=\"1\" class=\"dataframe\">\n",
       "  <thead>\n",
       "    <tr style=\"text-align: right;\">\n",
       "      <th></th>\n",
       "      <th>Name_file</th>\n",
       "      <th>Path_from_Root</th>\n",
       "      <th>Type_of_data</th>\n",
       "      <th>Type_of_gait</th>\n",
       "      <th>Label</th>\n",
       "    </tr>\n",
       "  </thead>\n",
       "  <tbody>\n",
       "    <tr>\n",
       "      <th>1</th>\n",
       "      <td>Sbj9_antalgic_T2_S.csv</td>\n",
       "      <td>subject9/antalgic/trial2/</td>\n",
       "      <td>skeleton</td>\n",
       "      <td>antalgic</td>\n",
       "      <td>0</td>\n",
       "    </tr>\n",
       "    <tr>\n",
       "      <th>2</th>\n",
       "      <td>Sbj9_antalgic_T2_P.csv</td>\n",
       "      <td>subject9/antalgic/trial2/</td>\n",
       "      <td>pressure</td>\n",
       "      <td>antalgic</td>\n",
       "      <td>0</td>\n",
       "    </tr>\n",
       "    <tr>\n",
       "      <th>3</th>\n",
       "      <td>Sbj9_antalgic_T8_S.csv</td>\n",
       "      <td>subject9/antalgic/trial8/</td>\n",
       "      <td>skeleton</td>\n",
       "      <td>antalgic</td>\n",
       "      <td>0</td>\n",
       "    </tr>\n",
       "    <tr>\n",
       "      <th>4</th>\n",
       "      <td>Sbj9_antalgic_T8_P.csv</td>\n",
       "      <td>subject9/antalgic/trial8/</td>\n",
       "      <td>pressure</td>\n",
       "      <td>antalgic</td>\n",
       "      <td>0</td>\n",
       "    </tr>\n",
       "    <tr>\n",
       "      <th>5</th>\n",
       "      <td>Sbj9_antalgic_T14_P.csv</td>\n",
       "      <td>subject9/antalgic/trial14/</td>\n",
       "      <td>pressure</td>\n",
       "      <td>antalgic</td>\n",
       "      <td>0</td>\n",
       "    </tr>\n",
       "    <tr>\n",
       "      <th>...</th>\n",
       "      <td>...</td>\n",
       "      <td>...</td>\n",
       "      <td>...</td>\n",
       "      <td>...</td>\n",
       "      <td>...</td>\n",
       "    </tr>\n",
       "    <tr>\n",
       "      <th>2876</th>\n",
       "      <td>Sbj8_normal_T17_S.csv</td>\n",
       "      <td>subject8/normal/trial17/</td>\n",
       "      <td>skeleton</td>\n",
       "      <td>normal</td>\n",
       "      <td>2</td>\n",
       "    </tr>\n",
       "    <tr>\n",
       "      <th>2877</th>\n",
       "      <td>Sbj8_normal_T10_P.csv</td>\n",
       "      <td>subject8/normal/trial10/</td>\n",
       "      <td>pressure</td>\n",
       "      <td>normal</td>\n",
       "      <td>2</td>\n",
       "    </tr>\n",
       "    <tr>\n",
       "      <th>2878</th>\n",
       "      <td>Sbj8_normal_T10_S.csv</td>\n",
       "      <td>subject8/normal/trial10/</td>\n",
       "      <td>skeleton</td>\n",
       "      <td>normal</td>\n",
       "      <td>2</td>\n",
       "    </tr>\n",
       "    <tr>\n",
       "      <th>2879</th>\n",
       "      <td>Sbj8_normal_T6_P.csv</td>\n",
       "      <td>subject8/normal/trial6/</td>\n",
       "      <td>pressure</td>\n",
       "      <td>normal</td>\n",
       "      <td>2</td>\n",
       "    </tr>\n",
       "    <tr>\n",
       "      <th>2880</th>\n",
       "      <td>Sbj8_normal_T6_S.csv</td>\n",
       "      <td>subject8/normal/trial6/</td>\n",
       "      <td>skeleton</td>\n",
       "      <td>normal</td>\n",
       "      <td>2</td>\n",
       "    </tr>\n",
       "  </tbody>\n",
       "</table>\n",
       "<p>2880 rows × 5 columns</p>\n",
       "</div>"
      ],
      "text/plain": [
       "                    Name_file              Path_from_Root Type_of_data  \\\n",
       "1      Sbj9_antalgic_T2_S.csv   subject9/antalgic/trial2/     skeleton   \n",
       "2      Sbj9_antalgic_T2_P.csv   subject9/antalgic/trial2/     pressure   \n",
       "3      Sbj9_antalgic_T8_S.csv   subject9/antalgic/trial8/     skeleton   \n",
       "4      Sbj9_antalgic_T8_P.csv   subject9/antalgic/trial8/     pressure   \n",
       "5     Sbj9_antalgic_T14_P.csv  subject9/antalgic/trial14/     pressure   \n",
       "...                       ...                         ...          ...   \n",
       "2876    Sbj8_normal_T17_S.csv    subject8/normal/trial17/     skeleton   \n",
       "2877    Sbj8_normal_T10_P.csv    subject8/normal/trial10/     pressure   \n",
       "2878    Sbj8_normal_T10_S.csv    subject8/normal/trial10/     skeleton   \n",
       "2879     Sbj8_normal_T6_P.csv     subject8/normal/trial6/     pressure   \n",
       "2880     Sbj8_normal_T6_S.csv     subject8/normal/trial6/     skeleton   \n",
       "\n",
       "     Type_of_gait  Label  \n",
       "1        antalgic      0  \n",
       "2        antalgic      0  \n",
       "3        antalgic      0  \n",
       "4        antalgic      0  \n",
       "5        antalgic      0  \n",
       "...           ...    ...  \n",
       "2876       normal      2  \n",
       "2877       normal      2  \n",
       "2878       normal      2  \n",
       "2879       normal      2  \n",
       "2880       normal      2  \n",
       "\n",
       "[2880 rows x 5 columns]"
      ]
     },
     "execution_count": 4,
     "metadata": {},
     "output_type": "execute_result"
    }
   ],
   "source": [
    "# Create a dataframe containing all the files and the labels from the reference file\n",
    "reference_df = pd.read_csv(root_directory+'/reference_document.csv',\n",
    "                           header=None, names=['Name_file', 'Path_from_Root', 'Type_of_data', 'Type_of_gait', 'Label'])\n",
    "\n",
    "reference_df = reference_df.iloc[1:]\n",
    "reference_df['Label'] = reference_df['Label'].astype(int)\n",
    "\n",
    "reference_df"
   ]
  },
  {
   "cell_type": "code",
   "execution_count": 5,
   "id": "GgZszNwnPmJY",
   "metadata": {
    "colab": {
     "base_uri": "https://localhost:8080/",
     "height": 0
    },
    "executionInfo": {
     "elapsed": 3,
     "status": "ok",
     "timestamp": 1707732024670,
     "user": {
      "displayName": "francesco zane",
      "userId": "08919801149381164577"
     },
     "user_tz": -60
    },
    "id": "GgZszNwnPmJY",
    "outputId": "2d6e6402-44c9-4076-d863-a0ea9cdbecc6"
   },
   "outputs": [
    {
     "data": {
      "text/html": [
       "<div>\n",
       "<style scoped>\n",
       "    .dataframe tbody tr th:only-of-type {\n",
       "        vertical-align: middle;\n",
       "    }\n",
       "\n",
       "    .dataframe tbody tr th {\n",
       "        vertical-align: top;\n",
       "    }\n",
       "\n",
       "    .dataframe thead th {\n",
       "        text-align: right;\n",
       "    }\n",
       "</style>\n",
       "<table border=\"1\" class=\"dataframe\">\n",
       "  <thead>\n",
       "    <tr style=\"text-align: right;\">\n",
       "      <th></th>\n",
       "      <th>Name_file</th>\n",
       "      <th>Type_of_data</th>\n",
       "      <th>Type_of_gait</th>\n",
       "      <th>Label</th>\n",
       "    </tr>\n",
       "    <tr>\n",
       "      <th>Complete_path</th>\n",
       "      <th></th>\n",
       "      <th></th>\n",
       "      <th></th>\n",
       "      <th></th>\n",
       "    </tr>\n",
       "  </thead>\n",
       "  <tbody>\n",
       "    <tr>\n",
       "      <th>/Users/lorenzobarbiero/Documents/GitHub/CNN-Gait-recognition/dataset/subject9/antalgic/trial2/Sbj9_antalgic_T2_S.csv</th>\n",
       "      <td>Sbj9_antalgic_T2_S.csv</td>\n",
       "      <td>skeleton</td>\n",
       "      <td>antalgic</td>\n",
       "      <td>0</td>\n",
       "    </tr>\n",
       "    <tr>\n",
       "      <th>/Users/lorenzobarbiero/Documents/GitHub/CNN-Gait-recognition/dataset/subject9/antalgic/trial2/Sbj9_antalgic_T2_P.csv</th>\n",
       "      <td>Sbj9_antalgic_T2_P.csv</td>\n",
       "      <td>pressure</td>\n",
       "      <td>antalgic</td>\n",
       "      <td>0</td>\n",
       "    </tr>\n",
       "    <tr>\n",
       "      <th>/Users/lorenzobarbiero/Documents/GitHub/CNN-Gait-recognition/dataset/subject9/antalgic/trial8/Sbj9_antalgic_T8_S.csv</th>\n",
       "      <td>Sbj9_antalgic_T8_S.csv</td>\n",
       "      <td>skeleton</td>\n",
       "      <td>antalgic</td>\n",
       "      <td>0</td>\n",
       "    </tr>\n",
       "    <tr>\n",
       "      <th>/Users/lorenzobarbiero/Documents/GitHub/CNN-Gait-recognition/dataset/subject9/antalgic/trial8/Sbj9_antalgic_T8_P.csv</th>\n",
       "      <td>Sbj9_antalgic_T8_P.csv</td>\n",
       "      <td>pressure</td>\n",
       "      <td>antalgic</td>\n",
       "      <td>0</td>\n",
       "    </tr>\n",
       "    <tr>\n",
       "      <th>/Users/lorenzobarbiero/Documents/GitHub/CNN-Gait-recognition/dataset/subject9/antalgic/trial14/Sbj9_antalgic_T14_P.csv</th>\n",
       "      <td>Sbj9_antalgic_T14_P.csv</td>\n",
       "      <td>pressure</td>\n",
       "      <td>antalgic</td>\n",
       "      <td>0</td>\n",
       "    </tr>\n",
       "    <tr>\n",
       "      <th>...</th>\n",
       "      <td>...</td>\n",
       "      <td>...</td>\n",
       "      <td>...</td>\n",
       "      <td>...</td>\n",
       "    </tr>\n",
       "    <tr>\n",
       "      <th>/Users/lorenzobarbiero/Documents/GitHub/CNN-Gait-recognition/dataset/subject8/normal/trial17/Sbj8_normal_T17_S.csv</th>\n",
       "      <td>Sbj8_normal_T17_S.csv</td>\n",
       "      <td>skeleton</td>\n",
       "      <td>normal</td>\n",
       "      <td>2</td>\n",
       "    </tr>\n",
       "    <tr>\n",
       "      <th>/Users/lorenzobarbiero/Documents/GitHub/CNN-Gait-recognition/dataset/subject8/normal/trial10/Sbj8_normal_T10_P.csv</th>\n",
       "      <td>Sbj8_normal_T10_P.csv</td>\n",
       "      <td>pressure</td>\n",
       "      <td>normal</td>\n",
       "      <td>2</td>\n",
       "    </tr>\n",
       "    <tr>\n",
       "      <th>/Users/lorenzobarbiero/Documents/GitHub/CNN-Gait-recognition/dataset/subject8/normal/trial10/Sbj8_normal_T10_S.csv</th>\n",
       "      <td>Sbj8_normal_T10_S.csv</td>\n",
       "      <td>skeleton</td>\n",
       "      <td>normal</td>\n",
       "      <td>2</td>\n",
       "    </tr>\n",
       "    <tr>\n",
       "      <th>/Users/lorenzobarbiero/Documents/GitHub/CNN-Gait-recognition/dataset/subject8/normal/trial6/Sbj8_normal_T6_P.csv</th>\n",
       "      <td>Sbj8_normal_T6_P.csv</td>\n",
       "      <td>pressure</td>\n",
       "      <td>normal</td>\n",
       "      <td>2</td>\n",
       "    </tr>\n",
       "    <tr>\n",
       "      <th>/Users/lorenzobarbiero/Documents/GitHub/CNN-Gait-recognition/dataset/subject8/normal/trial6/Sbj8_normal_T6_S.csv</th>\n",
       "      <td>Sbj8_normal_T6_S.csv</td>\n",
       "      <td>skeleton</td>\n",
       "      <td>normal</td>\n",
       "      <td>2</td>\n",
       "    </tr>\n",
       "  </tbody>\n",
       "</table>\n",
       "<p>2880 rows × 4 columns</p>\n",
       "</div>"
      ],
      "text/plain": [
       "                                                                  Name_file  \\\n",
       "Complete_path                                                                 \n",
       "/Users/lorenzobarbiero/Documents/GitHub/CNN-Gai...   Sbj9_antalgic_T2_S.csv   \n",
       "/Users/lorenzobarbiero/Documents/GitHub/CNN-Gai...   Sbj9_antalgic_T2_P.csv   \n",
       "/Users/lorenzobarbiero/Documents/GitHub/CNN-Gai...   Sbj9_antalgic_T8_S.csv   \n",
       "/Users/lorenzobarbiero/Documents/GitHub/CNN-Gai...   Sbj9_antalgic_T8_P.csv   \n",
       "/Users/lorenzobarbiero/Documents/GitHub/CNN-Gai...  Sbj9_antalgic_T14_P.csv   \n",
       "...                                                                     ...   \n",
       "/Users/lorenzobarbiero/Documents/GitHub/CNN-Gai...    Sbj8_normal_T17_S.csv   \n",
       "/Users/lorenzobarbiero/Documents/GitHub/CNN-Gai...    Sbj8_normal_T10_P.csv   \n",
       "/Users/lorenzobarbiero/Documents/GitHub/CNN-Gai...    Sbj8_normal_T10_S.csv   \n",
       "/Users/lorenzobarbiero/Documents/GitHub/CNN-Gai...     Sbj8_normal_T6_P.csv   \n",
       "/Users/lorenzobarbiero/Documents/GitHub/CNN-Gai...     Sbj8_normal_T6_S.csv   \n",
       "\n",
       "                                                   Type_of_data Type_of_gait  \\\n",
       "Complete_path                                                                  \n",
       "/Users/lorenzobarbiero/Documents/GitHub/CNN-Gai...     skeleton     antalgic   \n",
       "/Users/lorenzobarbiero/Documents/GitHub/CNN-Gai...     pressure     antalgic   \n",
       "/Users/lorenzobarbiero/Documents/GitHub/CNN-Gai...     skeleton     antalgic   \n",
       "/Users/lorenzobarbiero/Documents/GitHub/CNN-Gai...     pressure     antalgic   \n",
       "/Users/lorenzobarbiero/Documents/GitHub/CNN-Gai...     pressure     antalgic   \n",
       "...                                                         ...          ...   \n",
       "/Users/lorenzobarbiero/Documents/GitHub/CNN-Gai...     skeleton       normal   \n",
       "/Users/lorenzobarbiero/Documents/GitHub/CNN-Gai...     pressure       normal   \n",
       "/Users/lorenzobarbiero/Documents/GitHub/CNN-Gai...     skeleton       normal   \n",
       "/Users/lorenzobarbiero/Documents/GitHub/CNN-Gai...     pressure       normal   \n",
       "/Users/lorenzobarbiero/Documents/GitHub/CNN-Gai...     skeleton       normal   \n",
       "\n",
       "                                                    Label  \n",
       "Complete_path                                              \n",
       "/Users/lorenzobarbiero/Documents/GitHub/CNN-Gai...      0  \n",
       "/Users/lorenzobarbiero/Documents/GitHub/CNN-Gai...      0  \n",
       "/Users/lorenzobarbiero/Documents/GitHub/CNN-Gai...      0  \n",
       "/Users/lorenzobarbiero/Documents/GitHub/CNN-Gai...      0  \n",
       "/Users/lorenzobarbiero/Documents/GitHub/CNN-Gai...      0  \n",
       "...                                                   ...  \n",
       "/Users/lorenzobarbiero/Documents/GitHub/CNN-Gai...      2  \n",
       "/Users/lorenzobarbiero/Documents/GitHub/CNN-Gai...      2  \n",
       "/Users/lorenzobarbiero/Documents/GitHub/CNN-Gai...      2  \n",
       "/Users/lorenzobarbiero/Documents/GitHub/CNN-Gai...      2  \n",
       "/Users/lorenzobarbiero/Documents/GitHub/CNN-Gai...      2  \n",
       "\n",
       "[2880 rows x 4 columns]"
      ]
     },
     "execution_count": 5,
     "metadata": {},
     "output_type": "execute_result"
    }
   ],
   "source": [
    "def complete_path(row):\n",
    "  complete_path = root_directory + '/dataset/' + row['Path_from_Root'] + row['Name_file']\n",
    "  return complete_path\n",
    "\n",
    "reference_df['Complete_path'] = reference_df.apply(complete_path, axis=1)\n",
    "reference_df.set_index('Complete_path', inplace=True)\n",
    "reference_df = reference_df.drop(columns=['Path_from_Root'])\n",
    "reference_df"
   ]
  },
  {
   "cell_type": "code",
   "execution_count": 6,
   "id": "y8kBXOWQT8ol",
   "metadata": {
    "colab": {
     "base_uri": "https://localhost:8080/"
    },
    "executionInfo": {
     "elapsed": 2,
     "status": "ok",
     "timestamp": 1707732024670,
     "user": {
      "displayName": "francesco zane",
      "userId": "08919801149381164577"
     },
     "user_tz": -60
    },
    "id": "y8kBXOWQT8ol",
    "outputId": "354e141f-5f6c-4fbf-cfa4-0a18044eec80"
   },
   "outputs": [
    {
     "data": {
      "text/plain": [
       "'\\ntrain_s = reference_df_s[~reference_df_s[\\'Name_file\\'].str.startswith(\\'Sbj12\\')]\\nval_s = reference_df_s[reference_df_s[\\'Name_file\\'].str.startswith(\\'Sbj12\\')]\\n\\ntrain_p = reference_df_p[~reference_df_p[\\'Name_file\\'].str.startswith(\\'Sbj12\\')]\\nval_p = reference_df_p[reference_df_p[\\'Name_file\\'].str.startswith(\\'Sbj12\\')]\\n\\n\\n#train_test split\\ntrain_s, val_s = train_test_split(reference_df_s, test_size=0.2, stratify=reference_df_s[\\'Label\\'], random_state=123)\\ntrain_p, val_p = train_test_split(reference_df_p, test_size=0.2, stratify=reference_df_p[\\'Label\\'], random_state=123)\\n\\n\\ntrain_s = train_s.drop(columns=[\\'Name_file\\'])\\nval_s = val_s.drop(columns=[\\'Name_file\\'])\\ntrain_p = train_p.drop(columns=[\\'Name_file\\'])\\nval_p = val_p.drop(columns=[\\'Name_file\\'])\\n\\n\\n#frequence counts\\nprint(\"Training Skeleton\")\\nprint(train_s[\\'Label\\'].value_counts())\\nprint(\\'\\n\\',\"Validation Skeleton\")\\nprint(val_s[\\'Label\\'].value_counts())\\nprint(\\'\\n\\',\"Train Pressure\")\\nprint(train_p[\\'Label\\'].value_counts())\\nprint(\\'\\n\\',\"Validation Pressure\")\\nprint(val_p[\\'Label\\'].value_counts())\\n\\nreference_df_s\\n'"
      ]
     },
     "execution_count": 6,
     "metadata": {},
     "output_type": "execute_result"
    }
   ],
   "source": [
    "# recall\n",
    "# LABELS = np.array(['antalgic', 'lurching', 'normal', 'steppage', 'stifflegged', 'trendelenburg'])\n",
    "\n",
    "#split the dataframe into skeleton and pressure, drop the type column\n",
    "\n",
    "reference_df_s = reference_df[reference_df['Type_of_data']=='skeleton']\n",
    "reference_df_s = reference_df_s.drop(columns=['Type_of_data', 'Type_of_gait'])\n",
    "\n",
    "reference_df_p = reference_df[reference_df['Type_of_data']=='pressure']\n",
    "reference_df_p = reference_df_p.drop(columns=['Type_of_data', 'Type_of_gait'])\n",
    "\n",
    "# We want to split the data using 11 subjects as training set and 1 subject as test set\n",
    "# In this way we are sure that train and test are completely dinstinct\n",
    "\n",
    "# train_test split\n",
    "'''\n",
    "train_s = reference_df_s[~reference_df_s['Name_file'].str.startswith('Sbj12')]\n",
    "val_s = reference_df_s[reference_df_s['Name_file'].str.startswith('Sbj12')]\n",
    "\n",
    "train_p = reference_df_p[~reference_df_p['Name_file'].str.startswith('Sbj12')]\n",
    "val_p = reference_df_p[reference_df_p['Name_file'].str.startswith('Sbj12')]\n",
    "\n",
    "\n",
    "#train_test split\n",
    "train_s, val_s = train_test_split(reference_df_s, test_size=0.2, stratify=reference_df_s['Label'], random_state=123)\n",
    "train_p, val_p = train_test_split(reference_df_p, test_size=0.2, stratify=reference_df_p['Label'], random_state=123)\n",
    "\n",
    "\n",
    "train_s = train_s.drop(columns=['Name_file'])\n",
    "val_s = val_s.drop(columns=['Name_file'])\n",
    "train_p = train_p.drop(columns=['Name_file'])\n",
    "val_p = val_p.drop(columns=['Name_file'])\n",
    "\n",
    "\n",
    "#frequence counts\n",
    "print(\"Training Skeleton\")\n",
    "print(train_s['Label'].value_counts())\n",
    "print('\\n',\"Validation Skeleton\")\n",
    "print(val_s['Label'].value_counts())\n",
    "print('\\n',\"Train Pressure\")\n",
    "print(train_p['Label'].value_counts())\n",
    "print('\\n',\"Validation Pressure\")\n",
    "print(val_p['Label'].value_counts())\n",
    "\n",
    "reference_df_s\n",
    "'''"
   ]
  },
  {
   "cell_type": "code",
   "execution_count": 19,
   "id": "c0767e36",
   "metadata": {},
   "outputs": [
    {
     "name": "stdout",
     "output_type": "stream",
     "text": [
      "Random train/test splitting  \n",
      "\n",
      "Training Skeleton\n",
      "5    192\n",
      "3    192\n",
      "4    192\n",
      "0    192\n",
      "1    192\n",
      "2    192\n",
      "Name: Label, dtype: int64\n",
      "\n",
      " Validation Skeleton\n",
      "3    48\n",
      "2    48\n",
      "1    48\n",
      "4    48\n",
      "5    48\n",
      "0    48\n",
      "Name: Label, dtype: int64\n",
      "\n",
      " Train Pressure\n",
      "5    192\n",
      "3    192\n",
      "4    192\n",
      "0    192\n",
      "1    192\n",
      "2    192\n",
      "Name: Label, dtype: int64\n",
      "\n",
      " Validation Pressure\n",
      "3    48\n",
      "2    48\n",
      "1    48\n",
      "4    48\n",
      "5    48\n",
      "0    48\n",
      "Name: Label, dtype: int64\n"
     ]
    }
   ],
   "source": [
    "leave_one_out = None   #index of the subject for validation [1,12], if None then random train/test split\n",
    "\n",
    "if leave_one_out == None:\n",
    "    print(\"Random train/test splitting \", '\\n')\n",
    "    train_s, val_s = train_test_split(reference_df_s, test_size=0.2, stratify=reference_df_s['Label'], random_state=123)\n",
    "    train_p, val_p = train_test_split(reference_df_p, test_size=0.2, stratify=reference_df_p['Label'], random_state=123)\n",
    "\n",
    "else:\n",
    "    print(\"Leaving out subject \", leave_one_out, '\\n')\n",
    "    string = \"Sbj\" + str(leave_one_out)\n",
    "    train_s = reference_df_s[~reference_df_s['Name_file'].str.startswith(string)]\n",
    "    val_s = reference_df_s[reference_df_s['Name_file'].str.startswith(string)]\n",
    "\n",
    "    train_p = reference_df_p[~reference_df_p['Name_file'].str.startswith(string)]\n",
    "    val_p = reference_df_p[reference_df_p['Name_file'].str.startswith(string)]\n",
    "    \n",
    "    \n",
    "train_s = train_s.drop(columns=['Name_file'])\n",
    "val_s = val_s.drop(columns=['Name_file'])\n",
    "train_p = train_p.drop(columns=['Name_file'])\n",
    "val_p = val_p.drop(columns=['Name_file'])\n",
    "\n",
    "\n",
    "#frequence counts\n",
    "print(\"Training Skeleton\")\n",
    "print(train_s['Label'].value_counts())\n",
    "print('\\n',\"Validation Skeleton\")\n",
    "print(val_s['Label'].value_counts())\n",
    "print('\\n',\"Train Pressure\")\n",
    "print(train_p['Label'].value_counts())\n",
    "print('\\n',\"Validation Pressure\")\n",
    "print(val_p['Label'].value_counts())\n",
    "        \n",
    "    "
   ]
  },
  {
   "cell_type": "markdown",
   "id": "8TqhxEiIj5GZ",
   "metadata": {
    "id": "8TqhxEiIj5GZ"
   },
   "source": [
    "## Skeleton: load and preprocessing"
   ]
  },
  {
   "cell_type": "markdown",
   "id": "BCCxHPmuI27q",
   "metadata": {
    "id": "BCCxHPmuI27q"
   },
   "source": [
    "### Defenition of the load function"
   ]
  },
  {
   "cell_type": "code",
   "execution_count": null,
   "id": "rAov7KJw70Ak",
   "metadata": {
    "colab": {
     "base_uri": "https://localhost:8080/",
     "height": 0
    },
    "executionInfo": {
     "elapsed": 1595,
     "status": "ok",
     "timestamp": 1707732026552,
     "user": {
      "displayName": "francesco zane",
      "userId": "08919801149381164577"
     },
     "user_tz": -60
    },
    "id": "rAov7KJw70Ak",
    "outputId": "e91b3092-dec0-4744-de59-ac5b93fa212a"
   },
   "outputs": [],
   "source": [
    "def load_data_sk(complete_path, load=True):\n",
    "\n",
    "  if load:\n",
    "    complete_path = complete_path.decode()\n",
    "    print(complete_path)\n",
    "\n",
    "  df_skelly = pd.read_csv(complete_path, header=None)\n",
    "  df_skelly = df_skelly.drop([df_skelly.columns[0],df_skelly.columns[-1]], axis=1)\n",
    "\n",
    "  #convert to np array and reshape\n",
    "  data = df_skelly.to_numpy().reshape((-1,32,3))\n",
    "\n",
    "  return data.squeeze()\n",
    "\n",
    "\n",
    "# Example\n",
    "sk_data = load_data_sk(train_s.index[1], load=False)\n",
    "\n",
    "#plot example, select only one frame\n",
    "plotdata = sk_data[150]\n",
    "\n",
    "fig = plt.figure()\n",
    "ax = fig.add_subplot(projection='3d')\n",
    "ax.scatter(plotdata[:, 0], plotdata[:, 1], plotdata[:, 2])\n",
    "ax.set_xlabel('X Label')\n",
    "ax.set_ylabel('Y Label')\n",
    "ax.set_zlabel('Z Label')\n",
    "ax.set_title('3D Scatter Plot')\n",
    "ax.view_init(elev=10, azim=80)\n",
    "plt.show()"
   ]
  },
  {
   "cell_type": "markdown",
   "id": "FwNPQqTjwmJ7",
   "metadata": {
    "id": "FwNPQqTjwmJ7"
   },
   "source": [
    "### Definition of the normalization function"
   ]
  },
  {
   "cell_type": "code",
   "execution_count": null,
   "id": "xmREzIFIwqBC",
   "metadata": {
    "colab": {
     "base_uri": "https://localhost:8080/",
     "height": 0
    },
    "executionInfo": {
     "elapsed": 595,
     "status": "ok",
     "timestamp": 1707732027145,
     "user": {
      "displayName": "francesco zane",
      "userId": "08919801149381164577"
     },
     "user_tz": -60
    },
    "id": "xmREzIFIwqBC",
    "outputId": "3b7c3eac-35ec-489f-9fda-3e7437465951"
   },
   "outputs": [],
   "source": [
    "def normalize_data_sk(data):\n",
    "    # Amplitude estimate for each axes\n",
    "    norm_factor_x = np.percentile(data[:, :, 0], 95) - np.percentile(data[:, :, 0], 5)\n",
    "    norm_factor_y = np.percentile(data[:, :, 1], 95) - np.percentile(data[:, :, 1], 5)\n",
    "    norm_factor_z = np.percentile(data[:, :, 2], 95) - np.percentile(data[:, :, 2], 5)\n",
    "\n",
    "    data[:, :, 0] = data[:, :, 0] / norm_factor_x\n",
    "    data[:, :, 1] = data[:, :, 1] / norm_factor_y\n",
    "    data[:, :, 2] = data[:, :, 2] / norm_factor_z\n",
    "\n",
    "    return data\n",
    "\n",
    "\n",
    "# Example\n",
    "sk_data = load_data_sk(train_s.index[1], load=False)\n",
    "sk_data_norm = normalize_data_sk(sk_data)\n",
    "\n",
    "\n",
    "#plot example, select only one frame\n",
    "plotdata = sk_data[150]\n",
    "\n",
    "fig = plt.figure()\n",
    "ax = fig.add_subplot(projection='3d')\n",
    "ax.scatter(plotdata[:, 0], plotdata[:, 1], plotdata[:, 2])\n",
    "ax.set_xlabel('X Label')\n",
    "ax.set_ylabel('Y Label')\n",
    "ax.set_zlabel('Z Label')\n",
    "ax.set_title('3D Scatter Plot')\n",
    "ax.view_init(elev=10, azim=80)\n",
    "plt.show()"
   ]
  },
  {
   "cell_type": "markdown",
   "id": "hqTUn1MLwJow",
   "metadata": {
    "id": "hqTUn1MLwJow"
   },
   "source": [
    "Perche' all'inizio veloce e poi lenta?"
   ]
  },
  {
   "cell_type": "code",
   "execution_count": null,
   "id": "4H0ggk5bjc74",
   "metadata": {
    "executionInfo": {
     "elapsed": 5,
     "status": "ok",
     "timestamp": 1707732027145,
     "user": {
      "displayName": "francesco zane",
      "userId": "08919801149381164577"
     },
     "user_tz": -60
    },
    "id": "4H0ggk5bjc74"
   },
   "outputs": [],
   "source": [
    "# # check duration of walking samples\n",
    "# hist = []\n",
    "\n",
    "# c = 0\n",
    "\n",
    "# for i in reference_df_s.index:\n",
    "#     data = load_data_sk(i, reference_df_s)\n",
    "#     hist.append(data.shape[0])\n",
    "\n",
    "#     if c % 100 == 0:\n",
    "#       print('Step:', c)\n",
    "#     c += 1\n",
    "\n",
    "# # Create a histogram\n",
    "# plt.hist(hist, bins=150, edgecolor='black')\n",
    "\n",
    "# # Add a vertical line for the median\n",
    "# plt.axvline(np.median(hist), color='red', linestyle='dashed', linewidth=1)\n",
    "# plt.axvline(np.mean(hist), color='yellow', linestyle='dashed', linewidth=1)\n",
    "\n",
    "# # Add labels and title\n",
    "# plt.xlabel('Value')\n",
    "# plt.ylabel('Frequency')\n",
    "# plt.title('Histogram')\n",
    "\n",
    "# # Show the plot\n",
    "# plt.show()\n",
    "# print(\"Median of data (red)\",np.median(hist))\n",
    "# print(\"Mean of data (yellow)\",np.mean(hist))\n",
    "# print(\"Standard dev of data\", np.std(hist))"
   ]
  },
  {
   "cell_type": "markdown",
   "id": "c-afifcwjc74",
   "metadata": {
    "id": "c-afifcwjc74"
   },
   "source": [
    "### Definition of the crop function"
   ]
  },
  {
   "cell_type": "code",
   "execution_count": null,
   "id": "SBo0YwBs2s2M",
   "metadata": {
    "colab": {
     "base_uri": "https://localhost:8080/"
    },
    "executionInfo": {
     "elapsed": 5,
     "status": "ok",
     "timestamp": 1707732027145,
     "user": {
      "displayName": "francesco zane",
      "userId": "08919801149381164577"
     },
     "user_tz": -60
    },
    "id": "SBo0YwBs2s2M",
    "outputId": "8bc12185-98a0-4520-a611-11b0aea9e4b0"
   },
   "outputs": [],
   "source": [
    "def random_crop(data, target_size=50, noise_time=20, center_crop=False):\n",
    "\n",
    "  # remove initial and final frames that we consider as noise\n",
    "  start = noise_time\n",
    "  end = data.shape[0] - noise_time\n",
    "\n",
    "  data = data[start:end, :]\n",
    "\n",
    "  N = data.shape[0]\n",
    "\n",
    "  # Random Crop (always centered if center_crop=True)\n",
    "  if center_crop:\n",
    "      from_ = int((N / 2) - (target_size / 2))\n",
    "      # print('Start of the crop: ', from_)\n",
    "  else:\n",
    "      from_ = np.random.randint(0, np.floor(N - target_size))\n",
    "      # print('Start of the crop: ', from_)\n",
    "\n",
    "  return data[from_:from_ + target_size]\n",
    "\n",
    "\n",
    "# Example\n",
    "sk_data = load_data_sk(train_s.index[1], load=False)\n",
    "\n",
    "sk_data_crop = random_crop(sk_data)\n",
    "print('Original shape ', sk_data.shape, 'Cropped/Padded shape ', sk_data_crop.shape)"
   ]
  },
  {
   "cell_type": "markdown",
   "id": "9CLMet5Qjc75",
   "metadata": {
    "id": "9CLMet5Qjc75"
   },
   "source": [
    "### Unique load_preprocessing and one_hot_encoding function"
   ]
  },
  {
   "cell_type": "code",
   "execution_count": null,
   "id": "NORupWWHjc75",
   "metadata": {
    "executionInfo": {
     "elapsed": 4,
     "status": "ok",
     "timestamp": 1707732027145,
     "user": {
      "displayName": "francesco zane",
      "userId": "08919801149381164577"
     },
     "user_tz": -60
    },
    "id": "NORupWWHjc75"
   },
   "outputs": [],
   "source": [
    "def load_prep_sk(complete_path):\n",
    "    data = load_data_sk(complete_path, load=True)\n",
    "    data = normalize_data_sk(data)\n",
    "\n",
    "    # riportati i dati in un vettore pronti per il RNN\n",
    "    data = data.reshape(data.shape[0], -1)\n",
    "\n",
    "    return data.astype(np.float32)"
   ]
  },
  {
   "cell_type": "code",
   "execution_count": null,
   "id": "yS1mhvVtE8th",
   "metadata": {
    "executionInfo": {
     "elapsed": 4,
     "status": "ok",
     "timestamp": 1707732027145,
     "user": {
      "displayName": "francesco zane",
      "userId": "08919801149381164577"
     },
     "user_tz": -60
    },
    "id": "yS1mhvVtE8th"
   },
   "outputs": [],
   "source": [
    "'''\n",
    "def one_hot(indice):\n",
    "\n",
    "  matrix = np.zeros((len(indice), 6))\n",
    "  matrix[np.arange(len(indice)), indice] = 1\n",
    "\n",
    "  return matrix\n",
    "'''"
   ]
  },
  {
   "cell_type": "markdown",
   "id": "9R7i1h_-KXj_",
   "metadata": {
    "id": "9R7i1h_-KXj_"
   },
   "source": [
    "## Skeleton dataset"
   ]
  },
  {
   "cell_type": "markdown",
   "id": "UTAAD_L6JiRH",
   "metadata": {
    "id": "UTAAD_L6JiRH"
   },
   "source": [
    "### Defenition of the function to create the dataset"
   ]
  },
  {
   "cell_type": "code",
   "execution_count": null,
   "id": "_YBcVnRstkEH",
   "metadata": {
    "executionInfo": {
     "elapsed": 1,
     "status": "ok",
     "timestamp": 1707732029688,
     "user": {
      "displayName": "francesco zane",
      "userId": "08919801149381164577"
     },
     "user_tz": -60
    },
    "id": "_YBcVnRstkEH"
   },
   "outputs": [],
   "source": [
    "def create_dataset_sk(table, cache_file, shuffle, batch_size, target_size=50, noise_time=20, center_crop=False):\n",
    "\n",
    "  # shape\n",
    "  input_size = (target_size, 96)\n",
    "\n",
    "  # Convert dataframe to lists\n",
    "  file_names = list(table.index)\n",
    "  labels = table['Label']\n",
    "\n",
    "  # Create a Dataset object\n",
    "  dataset = tf.data.Dataset.from_tensor_slices((file_names, labels))\n",
    "  # dataset = tf.data.Dataset.from_tensor_slices((file_names, labels))\n",
    "\n",
    "  # Map the load_and_preprocess_data function\n",
    "  py_func = lambda path, label: (tf.numpy_function(load_prep_sk, [path], tf.float32), label)\n",
    "  dataset = dataset.map(py_func, num_parallel_calls=os.cpu_count())\n",
    "\n",
    "  # Cache dataset\n",
    "  if cache_file:\n",
    "      dataset = dataset.cache(cache_file)\n",
    "\n",
    "  # # Shuffle\n",
    "  # if shuffle:\n",
    "  #     dataset = dataset.shuffle(len(file_names))\n",
    "\n",
    "  # Repeat the dataset indefinitely\n",
    "  dataset = dataset.repeat()\n",
    "\n",
    "  # Map the crop function\n",
    "  py_func = lambda data, label: (tf.ensure_shape(tf.numpy_function(random_crop, [data, target_size, noise_time, center_crop], tf.float32),\n",
    "                                              input_size), label)\n",
    "  dataset = dataset.map(py_func, num_parallel_calls=os.cpu_count())\n",
    "\n",
    "  # # # Correct input shape for the network\n",
    "  # dataset = dataset.map(lambda data, label: (tf.expand_dims(data, 2), label))\n",
    "\n",
    "  # Batch\n",
    "  dataset = dataset.batch(batch_size=batch_size)\n",
    "\n",
    "  # Prefetch\n",
    "  dataset = dataset.prefetch(buffer_size=1)\n",
    "\n",
    "  return dataset\n"
   ]
  },
  {
   "cell_type": "markdown",
   "id": "Qp2N-BxJJ-BM",
   "metadata": {
    "id": "Qp2N-BxJJ-BM"
   },
   "source": [
    "### Dataset inizialization"
   ]
  },
  {
   "cell_type": "code",
   "execution_count": null,
   "id": "Z2F9ME6i6_Vz",
   "metadata": {
    "executionInfo": {
     "elapsed": 302,
     "status": "ok",
     "timestamp": 1707732041499,
     "user": {
      "displayName": "francesco zane",
      "userId": "08919801149381164577"
     },
     "user_tz": -60
    },
    "id": "Z2F9ME6i6_Vz"
   },
   "outputs": [],
   "source": [
    "batch_s = 20\n",
    "\n",
    "dataset_train_s = create_dataset_sk(table = train_s,\n",
    "                                    cache_file = 'train_s_cache_int_label',\n",
    "                                    shuffle = True,\n",
    "                                    batch_size = batch_s,\n",
    "                                    target_size = 50,\n",
    "                                    noise_time = 20,\n",
    "                                    center_crop = False)\n",
    "\n",
    "dataset_val_s = create_dataset_sk(table = val_s,\n",
    "                                    cache_file = 'val_s_cache',\n",
    "                                    shuffle = False,\n",
    "                                    batch_size = batch_s,\n",
    "                                    target_size = 50,\n",
    "                                    noise_time = 20,\n",
    "                                    center_crop = False)\n",
    "\n",
    "train_steps_s = int(np.ceil(len(train_s)/batch_s))\n",
    "val_steps_s = int(np.ceil(len(val_s)/batch_s))"
   ]
  },
  {
   "cell_type": "code",
   "execution_count": null,
   "id": "0hJ4-KC4dCP_",
   "metadata": {
    "colab": {
     "base_uri": "https://localhost:8080/"
    },
    "executionInfo": {
     "elapsed": 270,
     "status": "ok",
     "timestamp": 1707731135806,
     "user": {
      "displayName": "francesco zane",
      "userId": "08919801149381164577"
     },
     "user_tz": -60
    },
    "id": "0hJ4-KC4dCP_",
    "outputId": "8051b721-e566-4347-c270-5cf22b127d56"
   },
   "outputs": [],
   "source": [
    "# first_element_dataset_k = dataset_train_s.take(1)\n",
    "# first_element_dataset_k"
   ]
  },
  {
   "cell_type": "code",
   "execution_count": null,
   "id": "tTCETcdrZXSx",
   "metadata": {
    "colab": {
     "base_uri": "https://localhost:8080/"
    },
    "executionInfo": {
     "elapsed": 968,
     "status": "ok",
     "timestamp": 1707731161542,
     "user": {
      "displayName": "francesco zane",
      "userId": "08919801149381164577"
     },
     "user_tz": -60
    },
    "id": "tTCETcdrZXSx",
    "outputId": "d9a43b76-479d-43ce-e1df-1edbb57bce47"
   },
   "outputs": [],
   "source": [
    "# for d, l in first_element_dataset_k:\n",
    "#   print(d.numpy().shape, l)"
   ]
  },
  {
   "cell_type": "markdown",
   "id": "HwlG5PWCKieK",
   "metadata": {
    "id": "HwlG5PWCKieK"
   },
   "source": [
    "## Pressure: load and preprocessing"
   ]
  },
  {
   "cell_type": "markdown",
   "id": "rO4-6gGSKieW",
   "metadata": {
    "id": "rO4-6gGSKieW"
   },
   "source": [
    "### Defenition of the load function"
   ]
  },
  {
   "cell_type": "code",
   "execution_count": 20,
   "id": "yA18YgSjKieW",
   "metadata": {
    "colab": {
     "base_uri": "https://localhost:8080/",
     "height": 0
    },
    "executionInfo": {
     "elapsed": 1389,
     "status": "ok",
     "timestamp": 1707732078383,
     "user": {
      "displayName": "francesco zane",
      "userId": "08919801149381164577"
     },
     "user_tz": -60
    },
    "id": "yA18YgSjKieW",
    "outputId": "00553128-7a58-4f7b-b313-acb81f849715"
   },
   "outputs": [
    {
     "data": {
      "image/png": "[encoded data removed]",
      "text/plain": [
       "<Figure size 1000x600 with 2 Axes>"
      ]
     },
     "metadata": {},
     "output_type": "display_data"
    }
   ],
   "source": [
    "def load_data_ps(complete_path, load=True):\n",
    "\n",
    "  if load:\n",
    "    complete_path = complete_path.decode()\n",
    "\n",
    "  pressure_data = pd.read_csv(complete_path, header=None).to_numpy()\n",
    "\n",
    "  return pressure_data.squeeze()\n",
    "\n",
    "\n",
    "# Example\n",
    "ps_data = load_data_ps(train_p.index[0], load=False)\n",
    "\n",
    "sns.heatmap(ps_data, square= True)\n",
    "plt.show()"
   ]
  },
  {
   "cell_type": "markdown",
   "id": "CXV458_KKieW",
   "metadata": {
    "id": "CXV458_KKieW"
   },
   "source": [
    "### Definition of the normalization function"
   ]
  },
  {
   "cell_type": "code",
   "execution_count": 21,
   "id": "77mckEduKieW",
   "metadata": {
    "colab": {
     "base_uri": "https://localhost:8080/",
     "height": 0
    },
    "executionInfo": {
     "elapsed": 964,
     "status": "ok",
     "timestamp": 1707732079345,
     "user": {
      "displayName": "francesco zane",
      "userId": "08919801149381164577"
     },
     "user_tz": -60
    },
    "id": "77mckEduKieW",
    "outputId": "fdf13252-eaa9-4f6e-be4d-fc804a2e1811"
   },
   "outputs": [
    {
     "data": {
      "image/png": "[encoded data removed]",
      "text/plain": [
       "<Figure size 1000x600 with 2 Axes>"
      ]
     },
     "metadata": {},
     "output_type": "display_data"
    }
   ],
   "source": [
    "def normalize_data_ps(data):\n",
    "    max_data = np.max(data)\n",
    "    data = data / max_data\n",
    "    return data\n",
    "\n",
    "# Example\n",
    "ps_data = load_data_ps(train_p.index[0], load=False)\n",
    "ps_data_norm = normalize_data_ps(ps_data)\n",
    "\n",
    "sns.heatmap(ps_data_norm, square= True)\n",
    "plt.show()"
   ]
  },
  {
   "cell_type": "markdown",
   "id": "xGwn8vhDL-6b",
   "metadata": {
    "id": "xGwn8vhDL-6b"
   },
   "source": [
    "### Definition of the centering function"
   ]
  },
  {
   "cell_type": "code",
   "execution_count": 22,
   "id": "94-I0o9KL-6n",
   "metadata": {
    "colab": {
     "base_uri": "https://localhost:8080/",
     "height": 0
    },
    "executionInfo": {
     "elapsed": 3457,
     "status": "ok",
     "timestamp": 1707732082798,
     "user": {
      "displayName": "francesco zane",
      "userId": "08919801149381164577"
     },
     "user_tz": -60
    },
    "id": "94-I0o9KL-6n",
    "outputId": "5f5f0699-cac8-4c87-931e-0cee544f9d94"
   },
   "outputs": [
    {
     "data": {
      "image/png": "[encoded data removed]",
      "text/plain": [
       "<Figure size 1200x600 with 4 Axes>"
      ]
     },
     "metadata": {},
     "output_type": "display_data"
    }
   ],
   "source": [
    "def barycenter(data):\n",
    "  # Compute the weighted average (barycenter) along each dimension\n",
    "  y_barycenter = np.average(np.arange(data.shape[0]), weights=np.sum(data, axis=1))\n",
    "  x_barycenter = np.average(np.arange(data.shape[1]), weights=np.sum(data, axis=0))\n",
    "\n",
    "  # print(\"Barycenter coordinates (x,y) = \",x_barycenter,y_barycenter)\n",
    "  # print(\"Center image (x,y) = \", data.shape[1]/2, data.shape[0]/2)\n",
    "\n",
    "  # Compute the distances between each point and the barycenter\n",
    "  shift_x = -(x_barycenter - data.shape[1]/2)\n",
    "  shift_y = -(y_barycenter - data.shape[0]/2)\n",
    "\n",
    "  # Shift the foot pressure matrix to be centered on the barycenter\n",
    "  shifted_matrix = np.roll(data, int(shift_x), axis=1)\n",
    "  shifted_matrix = np.roll(shifted_matrix, int(shift_y), axis=0)\n",
    "\n",
    "  # y_barycenter_after = np.average(np.arange(shifted_matrix.shape[0]), weights=np.sum(shifted_matrix, axis=1))\n",
    "  # x_barycenter_after = np.average(np.arange(shifted_matrix.shape[1]), weights=np.sum(shifted_matrix, axis=0))\n",
    "  # print(\"Barycenter coordinates (x,y) afetr= \", x_barycenter_after, y_barycenter_after, '\\n')\n",
    "\n",
    "  return shifted_matrix\n",
    "\n",
    "# Example\n",
    "for i in [253]:\n",
    "  ps_data = load_data_ps(train_p.index[i], load=False)\n",
    "  ps_data_norm = normalize_data_ps(ps_data)\n",
    "  cen_ps_data_norm = barycenter(ps_data_norm)\n",
    "\n",
    "  fig, axes = plt.subplots(1, 2, figsize=(12, 6))\n",
    "\n",
    "  # Plot the first heatmap\n",
    "  sns.heatmap(ps_data_norm, square=True, ax=axes[0])\n",
    "  axes[0].set_title('Original')\n",
    "\n",
    "  # Plot the second heatmap\n",
    "  sns.heatmap(cen_ps_data_norm, square=True,ax=axes[1])\n",
    "  axes[1].set_title('Centered')\n",
    "\n",
    "  # Adjust layout\n",
    "  plt.tight_layout()\n",
    "\n",
    "  # Show the plot\n",
    "  plt.show()"
   ]
  },
  {
   "cell_type": "markdown",
   "id": "bfaad3bb",
   "metadata": {},
   "source": [
    "### Augment data\n",
    "Will perform ad hoc image data augmentation, random horizontal flip and random vertical roll of the sample"
   ]
  },
  {
   "cell_type": "code",
   "execution_count": 185,
   "id": "6eb112ad",
   "metadata": {},
   "outputs": [
    {
     "data": {
      "text/plain": [
       "0.39699106722159294"
      ]
     },
     "execution_count": 185,
     "metadata": {},
     "output_type": "execute_result"
    }
   ],
   "source": [
    "a=npr.random()\n",
    "a"
   ]
  },
  {
   "cell_type": "code",
   "execution_count": 191,
   "id": "0690bdfe",
   "metadata": {},
   "outputs": [
    {
     "data": {
      "text/plain": [
       "0.4957459199047224"
      ]
     },
     "execution_count": 191,
     "metadata": {},
     "output_type": "execute_result"
    }
   ],
   "source": [
    "npr.random()"
   ]
  },
  {
   "cell_type": "code",
   "execution_count": 202,
   "id": "fcff5c7b",
   "metadata": {},
   "outputs": [],
   "source": [
    "def augment_data(data, flip_rate, roll_rate, max_roll):\n",
    "    a = npr.random()\n",
    "    b = npr.random()\n",
    "    \n",
    "    if a < flip_rate:\n",
    "        print(\"Flip data\")\n",
    "        data = np.flip(data, axis=1)\n",
    "    \n",
    "    if b < roll_rate:\n",
    "        shift = int((npr.random()*2-1)*max_roll)\n",
    "        print(\"Roll data by \", shift)\n",
    "        data = np.roll(data, int(shift), axis=0)\n",
    "    \n",
    "    return data"
   ]
  },
  {
   "cell_type": "code",
   "execution_count": 212,
   "id": "8207054e",
   "metadata": {},
   "outputs": [
    {
     "name": "stdout",
     "output_type": "stream",
     "text": [
      "Flip data\n",
      "Roll data by  3\n"
     ]
    },
    {
     "data": {
      "image/png": "[encoded data removed]",
      "text/plain": [
       "<Figure size 1200x600 with 4 Axes>"
      ]
     },
     "metadata": {},
     "output_type": "display_data"
    }
   ],
   "source": [
    "test = augment_data(cen_ps_data_norm, 1, 1, 13)\n",
    "\n",
    "fig, axes = plt.subplots(1, 2, figsize=(12, 6))\n",
    "\n",
    "# Plot the first heatmap\n",
    "sns.heatmap(cen_ps_data_norm, square=True, ax=axes[0])\n",
    "axes[0].set_title('Original')\n",
    "\n",
    "# Plot the second heatmap\n",
    "sns.heatmap(test, square=True,ax=axes[1])\n",
    "axes[1].set_title('Augmented')\n",
    "\n",
    "# Adjust layout\n",
    "plt.tight_layout()\n",
    "# Show the plot\n",
    "plt.show()"
   ]
  },
  {
   "cell_type": "markdown",
   "id": "yHKLznfMKieW",
   "metadata": {
    "id": "yHKLznfMKieW"
   },
   "source": [
    "### Unique load_preprocessing and one_hot_encoding function"
   ]
  },
  {
   "cell_type": "code",
   "execution_count": 23,
   "id": "TWGFg4dnKieW",
   "metadata": {
    "executionInfo": {
     "elapsed": 271,
     "status": "ok",
     "timestamp": 1707732807315,
     "user": {
      "displayName": "francesco zane",
      "userId": "08919801149381164577"
     },
     "user_tz": -60
    },
    "id": "TWGFg4dnKieW"
   },
   "outputs": [],
   "source": [
    "def load_prep_ps(complete_path):\n",
    "    data = load_data_ps(complete_path, load=True)\n",
    "    data = normalize_data_ps(data)\n",
    "    data = barycenter(data)\n",
    "\n",
    "    return data.astype(np.float32)"
   ]
  },
  {
   "cell_type": "code",
   "execution_count": null,
   "id": "yJdBVt4sKieX",
   "metadata": {
    "executionInfo": {
     "elapsed": 2,
     "status": "ok",
     "timestamp": 1707732082799,
     "user": {
      "displayName": "francesco zane",
      "userId": "08919801149381164577"
     },
     "user_tz": -60
    },
    "id": "yJdBVt4sKieX"
   },
   "outputs": [],
   "source": [
    "'''def one_hot(indice):\n",
    "\n",
    "  matrix = np.zeros((len(indice), 6))\n",
    "  matrix[np.arange(len(indice)), indice] = 1\n",
    "\n",
    "  return matrix'''"
   ]
  },
  {
   "cell_type": "markdown",
   "id": "h1N_HhmLPCyw",
   "metadata": {
    "id": "h1N_HhmLPCyw"
   },
   "source": [
    "## Pressure dataset"
   ]
  },
  {
   "cell_type": "markdown",
   "id": "yrPkwV3gPCy5",
   "metadata": {
    "id": "yrPkwV3gPCy5"
   },
   "source": [
    "### Definition of the function to create the dataset"
   ]
  },
  {
   "cell_type": "code",
   "execution_count": 219,
   "id": "uMImb7qKPCy5",
   "metadata": {
    "executionInfo": {
     "elapsed": 315,
     "status": "ok",
     "timestamp": 1707733926588,
     "user": {
      "displayName": "francesco zane",
      "userId": "08919801149381164577"
     },
     "user_tz": -60
    },
    "id": "uMImb7qKPCy5"
   },
   "outputs": [],
   "source": [
    "def create_dataset_ps(table, cache_file, shuffle, batch_size):\n",
    "\n",
    "  # Convert dataframe to lists\n",
    "  file_names = list(table.index)\n",
    "  labels = table['Label']\n",
    "\n",
    "  # Create a Dataset object\n",
    "  dataset = tf.data.Dataset.from_tensor_slices((file_names, labels))\n",
    "\n",
    "    # Shuffle\n",
    "  if shuffle:\n",
    "      dataset = dataset.shuffle(len(table))\n",
    "\n",
    "  # Map the load_and_preprocess_data function\n",
    "  py_func = lambda path, label: (tf.numpy_function(load_prep_ps, [path], tf.float32), label)\n",
    "  dataset = dataset.map(py_func, num_parallel_calls=os.cpu_count())\n",
    "    \n",
    "  #Augment data \n",
    "  #if augment:\n",
    "      #dataset = dataset.map(lambda x, y: (data_augmentation(x, training=True), y), \n",
    "          #      num_parallel_calls=os.cpu_count())\n",
    "\n",
    "  # Cache dataset\n",
    "  if cache_file:\n",
    "      dataset = dataset.cache(cache_file)\n",
    "\n",
    "  # Repeat the dataset indefinitely\n",
    "  dataset = dataset.repeat()\n",
    "\n",
    "  # Correct input shape for the network\n",
    "  dataset = dataset.map(lambda data, label: (tf.expand_dims(data, 2), label))\n",
    "\n",
    "  # Batch\n",
    "  dataset = dataset.batch(batch_size=batch_size)\n",
    "\n",
    "  # Prefetch\n",
    "  dataset = dataset.prefetch(buffer_size=1)\n",
    "\n",
    "  return dataset\n"
   ]
  },
  {
   "cell_type": "markdown",
   "id": "QnZjQDfSPCy5",
   "metadata": {
    "id": "QnZjQDfSPCy5"
   },
   "source": [
    "### Dataset inizialization"
   ]
  },
  {
   "cell_type": "code",
   "execution_count": 220,
   "id": "3hP4OSMKPCy5",
   "metadata": {
    "executionInfo": {
     "elapsed": 1,
     "status": "ok",
     "timestamp": 1707733927456,
     "user": {
      "displayName": "francesco zane",
      "userId": "08919801149381164577"
     },
     "user_tz": -60
    },
    "id": "3hP4OSMKPCy5"
   },
   "outputs": [],
   "source": [
    "batch_p = 30\n",
    "\n",
    "dataset_train_p = create_dataset_ps(table = train_p,\n",
    "                                    cache_file = 'train_p_cache',\n",
    "                                    shuffle = True,\n",
    "                                    batch_size = batch_p)\n",
    "\n",
    "dataset_val_p = create_dataset_ps(table = val_p,\n",
    "                                    cache_file = 'val_p_cache',\n",
    "                                    shuffle = False,\n",
    "                                    batch_size = batch_p)\n",
    "\n",
    "train_steps_p = int(np.ceil(len(train_p)/batch_p))\n",
    "val_steps_p = int(np.ceil(len(val_p)/batch_p))"
   ]
  },
  {
   "cell_type": "code",
   "execution_count": 221,
   "id": "Rf3pAHQswF7G",
   "metadata": {
    "colab": {
     "base_uri": "https://localhost:8080/"
    },
    "executionInfo": {
     "elapsed": 2,
     "status": "ok",
     "timestamp": 1707733927720,
     "user": {
      "displayName": "francesco zane",
      "userId": "08919801149381164577"
     },
     "user_tz": -60
    },
    "id": "Rf3pAHQswF7G",
    "outputId": "c6e02f87-4fc1-4d20-834d-08d2d8c12f4d"
   },
   "outputs": [
    {
     "data": {
      "text/plain": [
       "<TakeDataset element_spec=(TensorSpec(shape=<unknown>, dtype=tf.float32, name=None), TensorSpec(shape=(None,), dtype=tf.int64, name=None))>"
      ]
     },
     "execution_count": 221,
     "metadata": {},
     "output_type": "execute_result"
    }
   ],
   "source": [
    "first_element_dataset_p = dataset_train_p.take(1)\n",
    "first_element_dataset_p"
   ]
  },
  {
   "cell_type": "code",
   "execution_count": 222,
   "id": "sGD8yWrayzmx",
   "metadata": {
    "colab": {
     "base_uri": "https://localhost:8080/"
    },
    "executionInfo": {
     "elapsed": 268,
     "status": "ok",
     "timestamp": 1707733929191,
     "user": {
      "displayName": "francesco zane",
      "userId": "08919801149381164577"
     },
     "user_tz": -60
    },
    "id": "sGD8yWrayzmx",
    "outputId": "701812e2-9ab3-44d0-8ec4-a8ca95ac6602"
   },
   "outputs": [
    {
     "name": "stdout",
     "output_type": "stream",
     "text": [
      "(24, 128, 48, 1) (24,)\n"
     ]
    }
   ],
   "source": [
    "for d, l in first_element_dataset_p:\n",
    "  print(d.numpy().shape, l.numpy().shape)"
   ]
  },
  {
   "cell_type": "markdown",
   "id": "cEJMXN9KKCDA",
   "metadata": {
    "id": "cEJMXN9KKCDA"
   },
   "source": [
    "## RNN"
   ]
  },
  {
   "cell_type": "code",
   "execution_count": 56,
   "id": "kV_fspO8-tAc",
   "metadata": {
    "colab": {
     "base_uri": "https://localhost:8080/"
    },
    "executionInfo": {
     "elapsed": 2436,
     "status": "ok",
     "timestamp": 1707732047213,
     "user": {
      "displayName": "francesco zane",
      "userId": "08919801149381164577"
     },
     "user_tz": -60
    },
    "id": "kV_fspO8-tAc",
    "outputId": "3a3744c8-4359-4149-ab26-045c60c9a7fb"
   },
   "outputs": [
    {
     "name": "stdout",
     "output_type": "stream",
     "text": [
      "Model: \"RNN_model\"\n",
      "_________________________________________________________________\n",
      " Layer (type)                Output Shape              Param #   \n",
      "=================================================================\n",
      " input_10 (InputLayer)       [(None, 50, 96)]          0         \n",
      "                                                                 \n",
      " dense (Dense)               (None, 50, 96)            9312      \n",
      "                                                                 \n",
      " I_GRU (GRU)                 (None, 50, 125)           83625     \n",
      "                                                                 \n",
      " II_GRU (GRU)                (None, 50, 125)           94500     \n",
      "                                                                 \n",
      " III_GRU (GRU)               (None, 50, 125)           94500     \n",
      "                                                                 \n",
      " IV_GRU (GRU)                (None, 125)               94500     \n",
      "                                                                 \n",
      " flatten_9 (Flatten)         (None, 125)               0         \n",
      "                                                                 \n",
      " I_layer (Dense)             (None, 64)                8064      \n",
      "                                                                 \n",
      " II_layer (Dense)            (None, 32)                2080      \n",
      "                                                                 \n",
      " III_layer (Dense)           (None, 16)                528       \n",
      "                                                                 \n",
      " Output_layer (Dense)        (None, 6)                 102       \n",
      "                                                                 \n",
      "=================================================================\n",
      "Total params: 387,211\n",
      "Trainable params: 387,211\n",
      "Non-trainable params: 0\n",
      "_________________________________________________________________\n",
      "None \n",
      "\n"
     ]
    }
   ],
   "source": [
    "def MyModel_RNN(time_length, n_features):\n",
    "\n",
    "  X_input = tf.keras.Input((time_length, 96))\n",
    "\n",
    "  # Linear_part\n",
    "  x = tf.keras.layers.Dense(units=n_features, activation='relu', input_shape=(time_length, n_features))(X_input)\n",
    "\n",
    "  # RNN part\n",
    "  # h(t) = tanh(W_hx * x(t) + W_hh * h(t-1) + bias)\n",
    "  x = tf.keras.layers.GRU(125, return_sequences=True, activation='tanh', name='I_GRU')(x)\n",
    "\n",
    "  x = tf.keras.layers.GRU(125, return_sequences=True, activation='tanh', name='II_GRU')(x)\n",
    "  x = tf.keras.layers.GRU(125, return_sequences=True, activation='tanh', name='III_GRU')(x)\n",
    "  x = tf.keras.layers.GRU(125, return_sequences=False, activation='tanh', name='IV_GRU')(x)\n",
    "\n",
    "  # Flatten_output\n",
    "  x = tf.keras.layers.Flatten()(x)                                                                       # serve davvero il flatten?\n",
    "\n",
    "  # Linear part\n",
    "  x = tf.keras.layers.Dense(64, activation='relu', name='I_layer')(x)\n",
    "  x = tf.keras.layers.Dense(32, activation='relu', name='II_layer')(x)\n",
    "  x = tf.keras.layers.Dense(16, activation='relu', name='III_layer')(x)\n",
    "\n",
    "  # Last layer\n",
    "  RNN_outputs = tf.keras.layers.Dense(6, activation='softmax', name='Output_layer')(x)\n",
    "\n",
    "  # Create model\n",
    "  model = tf.keras.Model(inputs = X_input, outputs = RNN_outputs, name='RNN_model')\n",
    "\n",
    "  return model\n",
    "\n",
    "\n",
    "RNN_classifier_model = MyModel_RNN(50, 96)\n",
    "RNN_classifier_model.compile(\n",
    "    loss = keras.losses.SparseCategoricalCrossentropy(from_logits=False),\n",
    "    optimizer = keras.optimizers.Adam(learning_rate=0.001),\n",
    "    metrics=['accuracy']\n",
    ")\n",
    "\n",
    "print(RNN_classifier_model.summary(), '\\n')"
   ]
  },
  {
   "cell_type": "code",
   "execution_count": 167,
   "id": "64MZxk1uBsom",
   "metadata": {
    "colab": {
     "base_uri": "https://localhost:8080/",
     "height": 0
    },
    "executionInfo": {
     "elapsed": 20983,
     "status": "error",
     "timestamp": 1707732070869,
     "user": {
      "displayName": "francesco zane",
      "userId": "08919801149381164577"
     },
     "user_tz": -60
    },
    "id": "64MZxk1uBsom",
    "outputId": "d0aa66e1-dc53-4708-8d93-d09a0c227ec8"
   },
   "outputs": [
    {
     "ename": "NameError",
     "evalue": "name 'dataset_train_s' is not defined",
     "output_type": "error",
     "traceback": [
      "\u001b[0;31m---------------------------------------------------------------------------\u001b[0m",
      "\u001b[0;31mNameError\u001b[0m                                 Traceback (most recent call last)",
      "Cell \u001b[0;32mIn[167], line 8\u001b[0m\n\u001b[1;32m      4\u001b[0m early_stop_callback \u001b[38;5;241m=\u001b[39m tf\u001b[38;5;241m.\u001b[39mkeras\u001b[38;5;241m.\u001b[39mcallbacks\u001b[38;5;241m.\u001b[39mEarlyStopping(monitor\u001b[38;5;241m=\u001b[39m\u001b[38;5;124m'\u001b[39m\u001b[38;5;124mval_loss\u001b[39m\u001b[38;5;124m'\u001b[39m,\n\u001b[1;32m      5\u001b[0m                                                        patience\u001b[38;5;241m=\u001b[39m\u001b[38;5;241m5\u001b[39m)\n\u001b[1;32m      7\u001b[0m \u001b[38;5;66;03m# Fit the model\u001b[39;00m\n\u001b[0;32m----> 8\u001b[0m history \u001b[38;5;241m=\u001b[39m RNN_classifier_model\u001b[38;5;241m.\u001b[39mfit(\u001b[43mdataset_train_s\u001b[49m,\n\u001b[1;32m      9\u001b[0m                                    epochs\u001b[38;5;241m=\u001b[39mnum_epochs,\n\u001b[1;32m     10\u001b[0m                                    steps_per_epoch\u001b[38;5;241m=\u001b[39mtrain_steps_s,\n\u001b[1;32m     11\u001b[0m                                    validation_data\u001b[38;5;241m=\u001b[39mdataset_val_s,\n\u001b[1;32m     12\u001b[0m                                    validation_steps\u001b[38;5;241m=\u001b[39mval_steps,\n\u001b[1;32m     13\u001b[0m                                    callbacks\u001b[38;5;241m=\u001b[39m[early_stop_callback])\n\u001b[1;32m     16\u001b[0m RNN_classifier_model\u001b[38;5;241m.\u001b[39msave(\u001b[38;5;124m'\u001b[39m\u001b[38;5;124mRNN/RNN_model\u001b[39m\u001b[38;5;124m'\u001b[39m)\n",
      "\u001b[0;31mNameError\u001b[0m: name 'dataset_train_s' is not defined"
     ]
    }
   ],
   "source": [
    "# Train the model\n",
    "num_epochs = 30\n",
    "\n",
    "early_stop_callback = tf.keras.callbacks.EarlyStopping(monitor='val_loss',\n",
    "                                                       patience=5)\n",
    "\n",
    "# Fit the model\n",
    "history = RNN_classifier_model.fit(dataset_train_s,\n",
    "                                   epochs=num_epochs,\n",
    "                                   steps_per_epoch=train_steps_s,\n",
    "                                   validation_data=dataset_val_s,\n",
    "                                   validation_steps=val_steps,\n",
    "                                   callbacks=[early_stop_callback])\n",
    "\n",
    "\n",
    "RNN_classifier_model.save('RNN/RNN_model')"
   ]
  },
  {
   "cell_type": "markdown",
   "id": "NC_itF9z0c_O",
   "metadata": {
    "id": "NC_itF9z0c_O"
   },
   "source": [
    "## CNN"
   ]
  },
  {
   "cell_type": "code",
   "execution_count": 232,
   "id": "Lm35EJeQ0c_a",
   "metadata": {
    "colab": {
     "base_uri": "https://localhost:8080/"
    },
    "executionInfo": {
     "elapsed": 708,
     "status": "ok",
     "timestamp": 1707733941405,
     "user": {
      "displayName": "francesco zane",
      "userId": "08919801149381164577"
     },
     "user_tz": -60
    },
    "id": "Lm35EJeQ0c_a",
    "outputId": "bf6ff72c-e92b-4b4a-d863-a1575fef2d51"
   },
   "outputs": [
    {
     "name": "stdout",
     "output_type": "stream",
     "text": [
      "Model: \"model_72\"\n",
      "_________________________________________________________________\n",
      " Layer (type)                Output Shape              Param #   \n",
      "=================================================================\n",
      " input_93 (InputLayer)       [(None, 128, 48, 1)]      0         \n",
      "                                                                 \n",
      " I_Conv2D (Conv2D)           (None, 128, 48, 32)       320       \n",
      "                                                                 \n",
      " max_pooling2d_165 (MaxPooli  (None, 64, 24, 32)       0         \n",
      " ng2D)                                                           \n",
      "                                                                 \n",
      " batch_normalization_165 (Ba  (None, 64, 24, 32)       128       \n",
      " tchNormalization)                                               \n",
      "                                                                 \n",
      " II_Conv2D (Conv2D)          (None, 64, 24, 64)        18496     \n",
      "                                                                 \n",
      " max_pooling2d_166 (MaxPooli  (None, 32, 12, 64)       0         \n",
      " ng2D)                                                           \n",
      "                                                                 \n",
      " batch_normalization_166 (Ba  (None, 32, 12, 64)       256       \n",
      " tchNormalization)                                               \n",
      "                                                                 \n",
      " III_Conv2D (Conv2D)         (None, 32, 12, 128)       73856     \n",
      "                                                                 \n",
      " max_pooling2d_167 (MaxPooli  (None, 16, 6, 128)       0         \n",
      " ng2D)                                                           \n",
      "                                                                 \n",
      " batch_normalization_167 (Ba  (None, 16, 6, 128)       512       \n",
      " tchNormalization)                                               \n",
      "                                                                 \n",
      " dropout_65 (Dropout)        (None, 16, 6, 128)        0         \n",
      "                                                                 \n",
      " flatten_56 (Flatten)        (None, 12288)             0         \n",
      "                                                                 \n",
      " I_layer (Dense)             (None, 128)               1572992   \n",
      "                                                                 \n",
      " II_layer (Dense)            (None, 64)                8256      \n",
      "                                                                 \n",
      " III_layer (Dense)           (None, 32)                2080      \n",
      "                                                                 \n",
      " IV_layer (Dense)            (None, 16)                528       \n",
      "                                                                 \n",
      " dropout_66 (Dropout)        (None, 16)                0         \n",
      "                                                                 \n",
      " Output_layer (Dense)        (None, 6)                 102       \n",
      "                                                                 \n",
      "=================================================================\n",
      "Total params: 1,677,526\n",
      "Trainable params: 1,677,078\n",
      "Non-trainable params: 448\n",
      "_________________________________________________________________\n",
      "None \n",
      "\n"
     ]
    }
   ],
   "source": [
    "def MyModel_CNN(side_1, side_2, side_3, weight_L2):\n",
    "\n",
    "  CNN_inputs = tf.keras.Input(shape=(side_1, side_2, side_3))\n",
    "\n",
    "  x = tf.keras.layers.Conv2D(filters = 32,\n",
    "                            kernel_size = 3,\n",
    "                            strides = 1,\n",
    "                            padding = 'same',\n",
    "                            activation = 'elu',\n",
    "                            name='I_Conv2D', kernel_regularizer=regularizers.l2(weight_L2))(CNN_inputs)\n",
    "  x = tf.keras.layers.MaxPool2D(pool_size = 2)(x)\n",
    "  x = tf.keras.layers.BatchNormalization()(x)\n",
    "\n",
    "  x = tf.keras.layers.Conv2D(64, 3, 1, padding='same', activation = 'elu', name='II_Conv2D',kernel_regularizer=regularizers.l2(weight_L2))(x)\n",
    "  x = tf.keras.layers.MaxPool2D(2)(x)\n",
    "  x = tf.keras.layers.BatchNormalization()(x)\n",
    "\n",
    "  x = tf.keras.layers.Conv2D(128, 3, 1, padding='same', activation = 'elu', name='III_Conv2D',kernel_regularizer=regularizers.l2(weight_L2))(x)\n",
    "  x = tf.keras.layers.MaxPool2D(2)(x)\n",
    "  x = tf.keras.layers.BatchNormalization()(x) \n",
    "  x = tf.keras.layers.Dropout(0.1)(x)\n",
    "\n",
    "  x = tf.keras.layers.Flatten()(x)\n",
    "\n",
    "  x = tf.keras.layers.Dense(128, activation='elu', name='I_layer',kernel_regularizer=regularizers.l2(weight_L2))(x)  \n",
    "  x = tf.keras.layers.Dense(64, activation='elu', name='II_layer',kernel_regularizer=regularizers.l2(weight_L2))(x)\n",
    "  x = tf.keras.layers.Dense(32, activation='elu', name='III_layer',kernel_regularizer=regularizers.l2(weight_L2))(x)\n",
    "  x = tf.keras.layers.Dense(16, activation='elu', name='IV_layer',kernel_regularizer=regularizers.l2(weight_L2))(x)\n",
    "  x = tf.keras.layers.Dropout(0.1)(x)\n",
    "                                                                                        \n",
    "  CNN_outputs = tf.keras.layers.Dense(6, activation='softmax', name='Output_layer')(x)\n",
    "\n",
    "  # Create model\n",
    "  model = tf.keras.Model(inputs=CNN_inputs, outputs=CNN_outputs)\n",
    "\n",
    "  return model\n",
    "\n",
    "\n",
    "CNN_classifier_model = MyModel_CNN(128, 48, 1, 0.01)\n",
    "CNN_classifier_model.compile(\n",
    "    loss = keras.losses.SparseCategoricalCrossentropy(from_logits=False),\n",
    "    optimizer = keras.optimizers.Adam(learning_rate=0.001),\n",
    "    metrics=['accuracy']\n",
    ")\n",
    "\n",
    "print(CNN_classifier_model.summary(), '\\n')"
   ]
  },
  {
   "cell_type": "code",
   "execution_count": 233,
   "id": "G9JlAPks0c_b",
   "metadata": {
    "colab": {
     "base_uri": "https://localhost:8080/",
     "height": 442
    },
    "executionInfo": {
     "elapsed": 111900,
     "status": "error",
     "timestamp": 1707734154277,
     "user": {
      "displayName": "francesco zane",
      "userId": "08919801149381164577"
     },
     "user_tz": -60
    },
    "id": "G9JlAPks0c_b",
    "outputId": "c762715d-b25b-412b-b323-a71e267260db",
    "scrolled": true
   },
   "outputs": [
    {
     "name": "stdout",
     "output_type": "stream",
     "text": [
      "Epoch 1/20\n",
      "48/48 [==============================] - 8s 145ms/step - loss: 8.1437 - accuracy: 0.2196 - val_loss: 7.1451 - val_accuracy: 0.2083\n",
      "Epoch 2/20\n",
      "48/48 [==============================] - 8s 157ms/step - loss: 7.1551 - accuracy: 0.2561 - val_loss: 6.8004 - val_accuracy: 0.2083\n",
      "Epoch 3/20\n",
      "48/48 [==============================] - 7s 142ms/step - loss: 6.2813 - accuracy: 0.3524 - val_loss: 6.0124 - val_accuracy: 0.2083\n",
      "Epoch 4/20\n",
      "48/48 [==============================] - 7s 139ms/step - loss: 5.6675 - accuracy: 0.3507 - val_loss: 5.5683 - val_accuracy: 0.2083\n",
      "Epoch 5/20\n",
      "48/48 [==============================] - 7s 156ms/step - loss: 4.9348 - accuracy: 0.4314 - val_loss: 5.0094 - val_accuracy: 0.1458\n",
      "Epoch 6/20\n",
      "48/48 [==============================] - 9s 186ms/step - loss: 4.3272 - accuracy: 0.4870 - val_loss: 4.4760 - val_accuracy: 0.4167\n",
      "Epoch 7/20\n",
      "48/48 [==============================] - 9s 188ms/step - loss: 3.8078 - accuracy: 0.5538 - val_loss: 4.3757 - val_accuracy: 0.2812\n",
      "Epoch 8/20\n",
      "48/48 [==============================] - 10s 199ms/step - loss: 3.6019 - accuracy: 0.5495 - val_loss: 3.9895 - val_accuracy: 0.2257\n",
      "Epoch 9/20\n",
      "48/48 [==============================] - 9s 182ms/step - loss: 3.1902 - accuracy: 0.6302 - val_loss: 3.9085 - val_accuracy: 0.1875\n",
      "Epoch 10/20\n",
      "48/48 [==============================] - 8s 175ms/step - loss: 2.9141 - accuracy: 0.6788 - val_loss: 3.9406 - val_accuracy: 0.1215\n",
      "Epoch 11/20\n",
      "48/48 [==============================] - 7s 152ms/step - loss: 2.6686 - accuracy: 0.7127 - val_loss: 3.4874 - val_accuracy: 0.2778\n",
      "Epoch 12/20\n",
      "48/48 [==============================] - 7s 148ms/step - loss: 2.6610 - accuracy: 0.6918 - val_loss: 3.7434 - val_accuracy: 0.3854\n",
      "Epoch 13/20\n",
      "48/48 [==============================] - 7s 150ms/step - loss: 2.4341 - accuracy: 0.7578 - val_loss: 3.7139 - val_accuracy: 0.3160\n",
      "Epoch 14/20\n",
      "48/48 [==============================] - 8s 164ms/step - loss: 2.4074 - accuracy: 0.7352 - val_loss: 3.8697 - val_accuracy: 0.3333\n",
      "Epoch 15/20\n",
      "48/48 [==============================] - 9s 184ms/step - loss: 2.2972 - accuracy: 0.7569 - val_loss: 3.6763 - val_accuracy: 0.4375\n",
      "Epoch 16/20\n",
      "48/48 [==============================] - 8s 165ms/step - loss: 2.4704 - accuracy: 0.7257 - val_loss: 3.6036 - val_accuracy: 0.3958\n",
      "Epoch 17/20\n",
      "48/48 [==============================] - 8s 157ms/step - loss: 2.5437 - accuracy: 0.7144 - val_loss: 3.7441 - val_accuracy: 0.3715\n",
      "Epoch 18/20\n",
      "48/48 [==============================] - 8s 170ms/step - loss: 2.4370 - accuracy: 0.7500 - val_loss: 4.4006 - val_accuracy: 0.1250\n",
      "Epoch 19/20\n",
      "48/48 [==============================] - 8s 165ms/step - loss: 2.5401 - accuracy: 0.7153 - val_loss: 4.3517 - val_accuracy: 0.2222\n",
      "Epoch 20/20\n",
      "48/48 [==============================] - 8s 164ms/step - loss: 2.6760 - accuracy: 0.6710 - val_loss: 3.5805 - val_accuracy: 0.3715\n"
     ]
    },
    {
     "name": "stderr",
     "output_type": "stream",
     "text": [
      "WARNING:absl:Found untraced functions such as _jit_compiled_convolution_op, _jit_compiled_convolution_op, _jit_compiled_convolution_op while saving (showing 3 of 3). These functions will not be directly callable after loading.\n"
     ]
    },
    {
     "name": "stdout",
     "output_type": "stream",
     "text": [
      "INFO:tensorflow:Assets written to: CNN/CNN_model/assets\n"
     ]
    },
    {
     "name": "stderr",
     "output_type": "stream",
     "text": [
      "INFO:tensorflow:Assets written to: CNN/CNN_model/assets\n"
     ]
    }
   ],
   "source": [
    "# Train the model\n",
    "num_epochs = 20\n",
    "\n",
    "early_stop_callback = tf.keras.callbacks.EarlyStopping(monitor='accuracy',\n",
    "                                                       patience=10)\n",
    "\n",
    "# Fit the model\n",
    "history = CNN_classifier_model.fit(dataset_train_p,\n",
    "                                   epochs=num_epochs,\n",
    "                                   steps_per_epoch=train_steps_p,\n",
    "                                   validation_data=dataset_val_p,\n",
    "                                   validation_steps=val_steps_p,\n",
    "                                   callbacks=[early_stop_callback])\n",
    "\n",
    "\n",
    "CNN_classifier_model.save('CNN/CNN_model')"
   ]
  },
  {
   "cell_type": "code",
   "execution_count": 235,
   "id": "bca2f7c7",
   "metadata": {},
   "outputs": [
    {
     "data": {
      "text/plain": [
       "Text(0, 0.5, 'Accuracy')"
      ]
     },
     "execution_count": 235,
     "metadata": {},
     "output_type": "execute_result"
    },
    {
     "data": {
      "image/png": "[encoded data removed]",
      "text/plain": [
       "<Figure size 1000x600 with 1 Axes>"
      ]
     },
     "metadata": {},
     "output_type": "display_data"
    },
    {
     "data": {
      "image/png": "[encoded data removed]",
      "text/plain": [
       "<Figure size 1000x600 with 1 Axes>"
      ]
     },
     "metadata": {},
     "output_type": "display_data"
    }
   ],
   "source": [
    "# Plot loss\n",
    "plt.figure()\n",
    "plt.plot(history.history['loss'], label='Train loss')\n",
    "plt.plot(history.history['val_loss'], label='Val loss')\n",
    "plt.legend()\n",
    "plt.xlabel('Epoch')\n",
    "plt.ylabel('Loss')\n",
    "\n",
    "# Plot accuracy\n",
    "plt.figure()\n",
    "plt.plot(history.history['accuracy'], label='Train accuracy')\n",
    "plt.plot(history.history['val_accuracy'], label='Val accuracy')\n",
    "plt.legend()\n",
    "plt.xlabel('Epoch')\n",
    "plt.ylabel('Accuracy')"
   ]
  },
  {
   "cell_type": "code",
   "execution_count": 165,
   "id": "12e850a2",
   "metadata": {},
   "outputs": [
    {
     "name": "stdout",
     "output_type": "stream",
     "text": [
      "1/1 [==============================] - 0s 459ms/step\n"
     ]
    }
   ],
   "source": [
    "pred = CNN_classifier_model.predict(dataset_val_p, steps = 2)"
   ]
  },
  {
   "cell_type": "code",
   "execution_count": 166,
   "id": "d34bc058",
   "metadata": {},
   "outputs": [
    {
     "data": {
      "text/plain": [
       "(30, 6)"
      ]
     },
     "execution_count": 166,
     "metadata": {},
     "output_type": "execute_result"
    }
   ],
   "source": [
    "pred.shape"
   ]
  },
  {
   "cell_type": "code",
   "execution_count": null,
   "id": "18880b4b",
   "metadata": {},
   "outputs": [],
   "source": [
    "confusion_matrix(pred,)"
   ]
  },
  {
   "cell_type": "markdown",
   "id": "548f47a2",
   "metadata": {},
   "source": [
    "### Encoder and decoder"
   ]
  },
  {
   "cell_type": "code",
   "execution_count": 139,
   "id": "f60f7b1e",
   "metadata": {},
   "outputs": [
    {
     "name": "stdout",
     "output_type": "stream",
     "text": [
      "Model: \"model_60\"\n",
      "_________________________________________________________________\n",
      " Layer (type)                Output Shape              Param #   \n",
      "=================================================================\n",
      " input_80 (InputLayer)       [(None, 128, 48, 1)]      0         \n",
      "                                                                 \n",
      " I_Conv2D (Conv2D)           (None, 128, 48, 32)       320       \n",
      "                                                                 \n",
      " max_pooling2d_135 (MaxPooli  (None, 64, 24, 32)       0         \n",
      " ng2D)                                                           \n",
      "                                                                 \n",
      " batch_normalization_135 (Ba  (None, 64, 24, 32)       128       \n",
      " tchNormalization)                                               \n",
      "                                                                 \n",
      " II_Conv2D (Conv2D)          (None, 64, 24, 64)        18496     \n",
      "                                                                 \n",
      " max_pooling2d_136 (MaxPooli  (None, 32, 12, 64)       0         \n",
      " ng2D)                                                           \n",
      "                                                                 \n",
      " batch_normalization_136 (Ba  (None, 32, 12, 64)       256       \n",
      " tchNormalization)                                               \n",
      "                                                                 \n",
      " III_Conv2D (Conv2D)         (None, 32, 12, 128)       73856     \n",
      "                                                                 \n",
      " max_pooling2d_137 (MaxPooli  (None, 16, 6, 128)       0         \n",
      " ng2D)                                                           \n",
      "                                                                 \n",
      " batch_normalization_137 (Ba  (None, 16, 6, 128)       512       \n",
      " tchNormalization)                                               \n",
      "                                                                 \n",
      " dropout_47 (Dropout)        (None, 16, 6, 128)        0         \n",
      "                                                                 \n",
      " flatten_46 (Flatten)        (None, 12288)             0         \n",
      "                                                                 \n",
      " I_layer (Dense)             (None, 64)                786496    \n",
      "                                                                 \n",
      " II_layer (Dense)            (None, 32)                2080      \n",
      "                                                                 \n",
      " out_layer (Dense)           (None, 16)                528       \n",
      "                                                                 \n",
      "=================================================================\n",
      "Total params: 882,672\n",
      "Trainable params: 882,224\n",
      "Non-trainable params: 448\n",
      "_________________________________________________________________\n",
      "None \n",
      "\n"
     ]
    }
   ],
   "source": [
    "def CNN_enc(input_shape):\n",
    "\n",
    "  CNN_inputs = tf.keras.Input(shape=(input_shape))\n",
    "\n",
    "  x = tf.keras.layers.Conv2D(filters = 32,\n",
    "                            kernel_size = 3,\n",
    "                            strides = (1,1),\n",
    "                            padding = 'same',\n",
    "                            activation = 'relu',\n",
    "                            name='I_Conv2D')(CNN_inputs)\n",
    "  x = tf.keras.layers.MaxPool2D(pool_size = 2)(x)\n",
    "  x = tf.keras.layers.BatchNormalization()(x)\n",
    "\n",
    "  x = tf.keras.layers.Conv2D(64, 3, 1, padding='same', activation = 'relu', name='II_Conv2D')(x)\n",
    "  x = tf.keras.layers.MaxPool2D(2)(x)\n",
    "  x = tf.keras.layers.BatchNormalization()(x)\n",
    "\n",
    "  x = tf.keras.layers.Conv2D(128, 3, 1, padding='same', activation = 'relu', name='III_Conv2D')(x)\n",
    "  x = tf.keras.layers.MaxPool2D(2)(x)\n",
    "  x = tf.keras.layers.BatchNormalization()(x) \n",
    "  x = tf.keras.layers.Dropout(0.1)(x)\n",
    "\n",
    "  x = tf.keras.layers.Flatten()(x)\n",
    "\n",
    "  x = tf.keras.layers.Dense(64, activation='relu', name='I_layer')(x)\n",
    "  x = tf.keras.layers.Dense(32, activation='relu', name='II_layer')(x)\n",
    "  output = tf.keras.layers.Dense(16, activation='relu', name='out_layer')(x)\n",
    "\n",
    "  # Create model\n",
    "  model = tf.keras.Model(inputs=CNN_inputs, outputs=output)\n",
    "\n",
    "  return model, CNN_inputs\n",
    "\n",
    "\n",
    "CNN_encoder,_ = CNN_enc((128, 48, 1))\n",
    "\n",
    "print(CNN_encoder.summary(), '\\n')"
   ]
  },
  {
   "cell_type": "code",
   "execution_count": 140,
   "id": "b5608a41",
   "metadata": {},
   "outputs": [
    {
     "name": "stdout",
     "output_type": "stream",
     "text": [
      "Model: \"model_61\"\n",
      "_________________________________________________________________\n",
      " Layer (type)                Output Shape              Param #   \n",
      "=================================================================\n",
      " input_81 (InputLayer)       [(None, 16)]              0         \n",
      "                                                                 \n",
      " I_layer (Dense)             (None, 32)                544       \n",
      "                                                                 \n",
      " II_layer (Dense)            (None, 64)                2112      \n",
      "                                                                 \n",
      " III_layer (Dense)           (None, 128)               8320      \n",
      "                                                                 \n",
      " IV_layer (Dense)            (None, 12288)             1585152   \n",
      "                                                                 \n",
      " reshape_13 (Reshape)        (None, 16, 6, 128)        0         \n",
      "                                                                 \n",
      " conv2d_transpose_40 (Conv2D  (None, 32, 12, 64)       73792     \n",
      " Transpose)                                                      \n",
      "                                                                 \n",
      " conv2d_transpose_41 (Conv2D  (None, 64, 24, 32)       18464     \n",
      " Transpose)                                                      \n",
      "                                                                 \n",
      " conv2d_transpose_42 (Conv2D  (None, 128, 48, 1)       289       \n",
      " Transpose)                                                      \n",
      "                                                                 \n",
      "=================================================================\n",
      "Total params: 1,688,673\n",
      "Trainable params: 1,688,673\n",
      "Non-trainable params: 0\n",
      "_________________________________________________________________\n",
      "None \n",
      "\n"
     ]
    }
   ],
   "source": [
    "def CNN_dec(input_shape):\n",
    "    dec_inputs = tf.keras.Input(shape=(input_shape,))\n",
    "    \n",
    "    x = tf.keras.layers.Dense(32, activation='relu', name='I_layer')(dec_inputs)\n",
    "    x = tf.keras.layers.Dense(64, activation='relu', name='II_layer')(x)\n",
    "    x = tf.keras.layers.Dense(128, activation='relu', name='III_layer')(x)\n",
    "    x = tf.keras.layers.Dense(16*6*128, activation='relu', name='IV_layer')(x)\n",
    "    \n",
    "    x = tf.keras.layers.Reshape((16,6,128))(x)\n",
    "    \n",
    "    x = tf.keras.layers.Conv2DTranspose(64, (3, 3), strides=2, activation='elu', padding='same')(x)\n",
    "    x = tf.keras.layers.Conv2DTranspose(32, (3, 3), strides=2, activation='elu', padding='same')(x)\n",
    "    #x = tf.keras.layers.Conv2DTranspose(32, (3, 3), strides=2, activation='elu', padding='same')(x)\n",
    "    output = tf.keras.layers.Conv2DTranspose(1, (3, 3), strides=2, activation=None, padding='same')(x)\n",
    "    \n",
    "    # Create model\n",
    "    model = tf.keras.Model(inputs=dec_inputs, outputs=output)\n",
    "    return model\n",
    "\n",
    "\n",
    "CNN_decoder = CNN_dec(16)\n",
    "#CNN_decoder.compile(\n",
    "#    loss = keras.losses.SparseCategoricalCrossentropy(from_logits=False),\n",
    "#    optimizer = keras.optimizers.Adam(learning_rate=0.001),\n",
    "#    metrics=['accuracy'])\n",
    "\n",
    "print(CNN_decoder.summary(), '\\n')\n",
    "    \n",
    "    \n"
   ]
  },
  {
   "cell_type": "code",
   "execution_count": 124,
   "id": "059306c7",
   "metadata": {},
   "outputs": [
    {
     "ename": "TypeError",
     "evalue": "Cannot iterate over a Tensor with unknown first dimension.",
     "output_type": "error",
     "traceback": [
      "\u001b[0;31m---------------------------------------------------------------------------\u001b[0m",
      "\u001b[0;31mTypeError\u001b[0m                                 Traceback (most recent call last)",
      "Cell \u001b[0;32mIn[124], line 5\u001b[0m\n\u001b[1;32m      3\u001b[0m \u001b[38;5;66;03m# Define your encoder model\u001b[39;00m\n\u001b[1;32m      4\u001b[0m encoder_input \u001b[38;5;241m=\u001b[39m tf\u001b[38;5;241m.\u001b[39mkeras\u001b[38;5;241m.\u001b[39mInput(shape\u001b[38;5;241m=\u001b[39mIMG_SHAPE)\n\u001b[0;32m----> 5\u001b[0m encoder_output \u001b[38;5;241m=\u001b[39m \u001b[43mCNN_enc\u001b[49m\u001b[43m(\u001b[49m\u001b[43mencoder_input\u001b[49m\u001b[43m)\u001b[49m\n\u001b[1;32m      6\u001b[0m encoder_model \u001b[38;5;241m=\u001b[39m tf\u001b[38;5;241m.\u001b[39mkeras\u001b[38;5;241m.\u001b[39mModel(encoder_input, encoder_output)\n\u001b[1;32m      8\u001b[0m \u001b[38;5;66;03m# Define your decoder model\u001b[39;00m\n",
      "Cell \u001b[0;32mIn[111], line 3\u001b[0m, in \u001b[0;36mCNN_enc\u001b[0;34m(input_shape)\u001b[0m\n\u001b[1;32m      1\u001b[0m \u001b[38;5;28;01mdef\u001b[39;00m \u001b[38;5;21mCNN_enc\u001b[39m(input_shape):\n\u001b[0;32m----> 3\u001b[0m   CNN_inputs \u001b[38;5;241m=\u001b[39m \u001b[43mtf\u001b[49m\u001b[38;5;241;43m.\u001b[39;49m\u001b[43mkeras\u001b[49m\u001b[38;5;241;43m.\u001b[39;49m\u001b[43mInput\u001b[49m\u001b[43m(\u001b[49m\u001b[43mshape\u001b[49m\u001b[38;5;241;43m=\u001b[39;49m\u001b[43m(\u001b[49m\u001b[43minput_shape\u001b[49m\u001b[43m)\u001b[49m\u001b[43m)\u001b[49m\n\u001b[1;32m      5\u001b[0m   x \u001b[38;5;241m=\u001b[39m tf\u001b[38;5;241m.\u001b[39mkeras\u001b[38;5;241m.\u001b[39mlayers\u001b[38;5;241m.\u001b[39mConv2D(filters \u001b[38;5;241m=\u001b[39m \u001b[38;5;241m32\u001b[39m,\n\u001b[1;32m      6\u001b[0m                             kernel_size \u001b[38;5;241m=\u001b[39m \u001b[38;5;241m3\u001b[39m,\n\u001b[1;32m      7\u001b[0m                             strides \u001b[38;5;241m=\u001b[39m (\u001b[38;5;241m1\u001b[39m,\u001b[38;5;241m1\u001b[39m),\n\u001b[1;32m      8\u001b[0m                             padding \u001b[38;5;241m=\u001b[39m \u001b[38;5;124m'\u001b[39m\u001b[38;5;124msame\u001b[39m\u001b[38;5;124m'\u001b[39m,\n\u001b[1;32m      9\u001b[0m                             activation \u001b[38;5;241m=\u001b[39m \u001b[38;5;124m'\u001b[39m\u001b[38;5;124mrelu\u001b[39m\u001b[38;5;124m'\u001b[39m,\n\u001b[1;32m     10\u001b[0m                             name\u001b[38;5;241m=\u001b[39m\u001b[38;5;124m'\u001b[39m\u001b[38;5;124mI_Conv2D\u001b[39m\u001b[38;5;124m'\u001b[39m)(CNN_inputs)\n\u001b[1;32m     11\u001b[0m   x \u001b[38;5;241m=\u001b[39m tf\u001b[38;5;241m.\u001b[39mkeras\u001b[38;5;241m.\u001b[39mlayers\u001b[38;5;241m.\u001b[39mMaxPool2D(pool_size \u001b[38;5;241m=\u001b[39m \u001b[38;5;241m2\u001b[39m)(x)\n",
      "File \u001b[0;32m~/anaconda3/lib/python3.10/site-packages/keras/utils/traceback_utils.py:70\u001b[0m, in \u001b[0;36mfilter_traceback.<locals>.error_handler\u001b[0;34m(*args, **kwargs)\u001b[0m\n\u001b[1;32m     67\u001b[0m     filtered_tb \u001b[38;5;241m=\u001b[39m _process_traceback_frames(e\u001b[38;5;241m.\u001b[39m__traceback__)\n\u001b[1;32m     68\u001b[0m     \u001b[38;5;66;03m# To get the full stack trace, call:\u001b[39;00m\n\u001b[1;32m     69\u001b[0m     \u001b[38;5;66;03m# `tf.debugging.disable_traceback_filtering()`\u001b[39;00m\n\u001b[0;32m---> 70\u001b[0m     \u001b[38;5;28;01mraise\u001b[39;00m e\u001b[38;5;241m.\u001b[39mwith_traceback(filtered_tb) \u001b[38;5;28;01mfrom\u001b[39;00m \u001b[38;5;28mNone\u001b[39m\n\u001b[1;32m     71\u001b[0m \u001b[38;5;28;01mfinally\u001b[39;00m:\n\u001b[1;32m     72\u001b[0m     \u001b[38;5;28;01mdel\u001b[39;00m filtered_tb\n",
      "File \u001b[0;32m~/anaconda3/lib/python3.10/site-packages/keras/engine/keras_tensor.py:411\u001b[0m, in \u001b[0;36mKerasTensor.__iter__\u001b[0;34m(self)\u001b[0m\n\u001b[1;32m    409\u001b[0m     \u001b[38;5;28;01mraise\u001b[39;00m \u001b[38;5;167;01mTypeError\u001b[39;00m(\u001b[38;5;124m\"\u001b[39m\u001b[38;5;124mCannot iterate over a scalar.\u001b[39m\u001b[38;5;124m\"\u001b[39m)\n\u001b[1;32m    410\u001b[0m \u001b[38;5;28;01mif\u001b[39;00m shape[\u001b[38;5;241m0\u001b[39m] \u001b[38;5;129;01mis\u001b[39;00m \u001b[38;5;28;01mNone\u001b[39;00m:\n\u001b[0;32m--> 411\u001b[0m     \u001b[38;5;28;01mraise\u001b[39;00m \u001b[38;5;167;01mTypeError\u001b[39;00m(\n\u001b[1;32m    412\u001b[0m         \u001b[38;5;124m\"\u001b[39m\u001b[38;5;124mCannot iterate over a Tensor with unknown first dimension.\u001b[39m\u001b[38;5;124m\"\u001b[39m\n\u001b[1;32m    413\u001b[0m     )\n\u001b[1;32m    414\u001b[0m \u001b[38;5;28;01mreturn\u001b[39;00m _KerasTensorIterator(\u001b[38;5;28mself\u001b[39m, shape[\u001b[38;5;241m0\u001b[39m])\n",
      "\u001b[0;31mTypeError\u001b[0m: Cannot iterate over a Tensor with unknown first dimension."
     ]
    }
   ],
   "source": [
    "IMG_SHAPE = (128, 48, 1)\n",
    "\n",
    "# Define your encoder model\n",
    "encoder_input = tf.keras.Input(shape=IMG_SHAPE)\n",
    "encoder_output = CNN_enc(encoder_input)\n",
    "encoder_model = tf.keras.Model(encoder_input, encoder_output)\n",
    "\n",
    "# Define your decoder model\n",
    "decoder_input = tf.keras.Input(shape=encoder_output.shape[1:])\n",
    "decoder_output = CNN_dec(decoder_input)\n",
    "decoder_model = tf.keras.Model(decoder_input, decoder_output)"
   ]
  },
  {
   "cell_type": "code",
   "execution_count": 142,
   "id": "2da6d926",
   "metadata": {},
   "outputs": [],
   "source": [
    "# FUNCTION: define a convolutional autoencoder as described above\n",
    "\n",
    "def build_deep_autoencoder(img_shape, code_size):\n",
    "    \"\"\"\n",
    "    Arguments:\n",
    "    img_shape_x -- size of the input layer\n",
    "    code_size -- the size of the hidden representation of the input (code)\n",
    "\n",
    "    Returns:\n",
    "    encoder -- keras model for the encoder network\n",
    "    decoder -- keras model for the decoder network\n",
    "    \"\"\"\n",
    "\n",
    "    # encoder\n",
    "    ### START CODE HERE ###\n",
    "    encoder = tf.keras.Sequential()\n",
    "    encoder.add(tf.keras.Input(img_shape))\n",
    "\n",
    "    encoder.add(layers.Conv2D(32, (3, 3), activation='elu', padding='same'))\n",
    "    encoder.add(layers.MaxPool2D((2, 2), padding='same'))\n",
    "\n",
    "    encoder.add(layers.Conv2D(64, (3, 3), activation='elu', padding='same'))\n",
    "    encoder.add(layers.MaxPool2D((2, 2), padding='same'))\n",
    "\n",
    "    encoder.add(layers.Conv2D(128, (3, 3), activation='elu', padding='same'))\n",
    "    encoder.add(layers.MaxPool2D((2, 2), padding='same'))\n",
    "\n",
    "    encoder.add(layers.Conv2D(256, (3, 3), activation='elu', padding='same'))\n",
    "    encoder.add(layers.MaxPool2D((2, 2), padding='same'))\n",
    "\n",
    "    encoder.add(layers.Flatten())\n",
    "    encoder.add(layers.Dense(code_size))\n",
    "    ### END CODE HERE ###\n",
    "\n",
    "    # decoder\n",
    "    ### START CODE HERE ###\n",
    "    decoder = tf.keras.Sequential()\n",
    "    decoder.add(tf.keras.Input((code_size,)))\n",
    "\n",
    "    decoder.add(layers.Dense(6 * 6 * 256, activation='elu'))\n",
    "    decoder.add(layers.Reshape((6, 6, 256)))\n",
    "    decoder.add(layers.Conv2DTranspose(128, (3, 3), strides=2, activation='elu', padding='same'))\n",
    "    decoder.add(layers.Conv2DTranspose(64, (3, 3), strides=2, activation='elu', padding='valid'))\n",
    "    decoder.add(layers.Conv2DTranspose(32, (3, 3), strides=2, activation='elu', padding='same'))\n",
    "    decoder.add(layers.Conv2DTranspose(3, (3, 3), strides=2, activation=None, padding='same'))\n",
    "    ### END CODE HERE ###\n",
    "\n",
    "    return encoder, decoder"
   ]
  },
  {
   "cell_type": "markdown",
   "id": "6530f78c",
   "metadata": {},
   "source": [
    "## Burn everything"
   ]
  },
  {
   "cell_type": "code",
   "execution_count": null,
   "id": "cf4dc7d0",
   "metadata": {},
   "outputs": [],
   "source": [
    "input = layers.Input(shape=(28, 28, 1))\n",
    "\n",
    "# Encoder\n",
    "x = layers.Conv2D(32, (3, 3), activation=\"relu\", padding=\"same\")(input)\n",
    "x = layers.MaxPooling2D((2, 2), padding=\"same\")(x)\n",
    "x = layers.Conv2D(32, (3, 3), activation=\"relu\", padding=\"same\")(x)\n",
    "x = layers.MaxPooling2D((2, 2), padding=\"same\")(x)\n",
    "\n",
    "# Decoder\n",
    "x = layers.Conv2DTranspose(32, (3, 3), strides=2, activation=\"relu\", padding=\"same\")(x)\n",
    "x = layers.Conv2DTranspose(32, (3, 3), strides=2, activation=\"relu\", padding=\"same\")(x)\n",
    "x = layers.Conv2D(1, (3, 3), activation=\"sigmoid\", padding=\"same\")(x)\n",
    "\n",
    "# Autoencoder\n",
    "autoencoder = Model(input, x)\n",
    "autoencoder.compile(optimizer=\"adam\", loss=\"binary_crossentropy\")\n",
    "autoencoder.summary()"
   ]
  },
  {
   "cell_type": "code",
   "execution_count": null,
   "id": "4148e08e",
   "metadata": {},
   "outputs": [],
   "source": []
  },
  {
   "cell_type": "code",
   "execution_count": null,
   "id": "4bc3f0fe",
   "metadata": {},
   "outputs": [],
   "source": []
  },
  {
   "cell_type": "code",
   "execution_count": null,
   "id": "a95a6b65",
   "metadata": {},
   "outputs": [],
   "source": []
  }
 ],
 "metadata": {
  "colab": {
   "collapsed_sections": [
    "c_lGtIPPIFGB",
    "a89958bf",
    "8TqhxEiIj5GZ",
    "BCCxHPmuI27q",
    "FwNPQqTjwmJ7",
    "c-afifcwjc74",
    "9CLMet5Qjc75",
    "HwlG5PWCKieK",
    "rO4-6gGSKieW",
    "CXV458_KKieW",
    "xGwn8vhDL-6b",
    "yHKLznfMKieW",
    "h1N_HhmLPCyw",
    "cEJMXN9KKCDA"
   ],
   "provenance": []
  },
  "kernelspec": {
   "display_name": "Python 3 (ipykernel)",
   "language": "python",
   "name": "python3"
  },
  "language_info": {
   "codemirror_mode": {
    "name": "ipython",
    "version": 3
   },
   "file_extension": ".py",
   "mimetype": "text/x-python",
   "name": "python",
   "nbconvert_exporter": "python",
   "pygments_lexer": "ipython3",
   "version": "3.10.9"
  }
 },
 "nbformat": 4,
 "nbformat_minor": 5
}
